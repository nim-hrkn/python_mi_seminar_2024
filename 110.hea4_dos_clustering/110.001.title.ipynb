{
 "cells": [
  {
   "cell_type": "markdown",
   "id": "b948f5b0-5fd2-4c13-8d1f-845fccd386b9",
   "metadata": {},
   "source": [
    "# 次元圧縮を併用したクラスタリング\n",
    "\n",
    "説明とスクリプト\n",
    "[110.050](110.050.text.explanation.ipynb)\n"
   ]
  },
  {
   "cell_type": "code",
   "execution_count": null,
   "id": "39dd7682-5270-4a7c-91a5-2d6c455f5834",
   "metadata": {},
   "outputs": [],
   "source": []
  }
 ],
 "metadata": {
  "kernelspec": {
   "display_name": "Python 3 (ipykernel)",
   "language": "python",
   "name": "python3"
  },
  "language_info": {
   "codemirror_mode": {
    "name": "ipython",
    "version": 3
   },
   "file_extension": ".py",
   "mimetype": "text/x-python",
   "name": "python",
   "nbconvert_exporter": "python",
   "pygments_lexer": "ipython3",
   "version": "3.9.15"
  }
 },
 "nbformat": 4,
 "nbformat_minor": 5
}
