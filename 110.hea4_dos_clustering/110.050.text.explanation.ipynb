{
 "cells": [
  {
   "cell_type": "markdown",
   "id": "c77e2d44-6535-4e24-ab1b-4c11b7cb98eb",
   "metadata": {},
   "source": [
    "![](image_text/110a_02.png)"
   ]
  },
  {
   "cell_type": "markdown",
   "id": "98ea948d-f822-4572-b33c-5474add3c18f",
   "metadata": {},
   "source": [
    "![](image_text/110a_03.png)"
   ]
  },
  {
   "cell_type": "markdown",
   "id": "1e4d2482-3752-4fe5-be81-08213ef94267",
   "metadata": {},
   "source": [
    "![](image_text/110a_04.png)"
   ]
  },
  {
   "cell_type": "markdown",
   "id": "bba59d33-bfee-4bb3-9cef-d9fcb47ddf4e",
   "metadata": {},
   "source": [
    "![](image_text/110a_05.png)"
   ]
  },
  {
   "cell_type": "markdown",
   "id": "91feb557-8549-42bf-ba12-6353d27a0569",
   "metadata": {},
   "source": [
    "![](image_text/110a_06.png)"
   ]
  },
  {
   "cell_type": "markdown",
   "id": "b6a34fb5-7669-4fda-8906-edee4f011eb8",
   "metadata": {},
   "source": [
    "![](image_text/110a_07.png)"
   ]
  },
  {
   "cell_type": "markdown",
   "id": "6b8cb708-fda8-43da-a691-1f212fb73180",
   "metadata": {},
   "source": [
    "![](image_text/110a_08.png)"
   ]
  },
  {
   "cell_type": "markdown",
   "id": "0244e47c-3ec2-42cd-8fb4-d6357546dbc5",
   "metadata": {},
   "source": [
    "![](image_text/110a_09.png)"
   ]
  },
  {
   "cell_type": "markdown",
   "id": "5baa2df1-1304-4fa6-b7a3-ff77dc1bac3d",
   "metadata": {},
   "source": [
    "![](image_text/110a_10.png)"
   ]
  },
  {
   "cell_type": "markdown",
   "id": "f647cea8-fc5b-4e39-a1eb-f9b4fd9ef6a3",
   "metadata": {},
   "source": [
    "![](image_text/110a_11.png)"
   ]
  },
  {
   "cell_type": "markdown",
   "id": "9b26e628-9371-4df4-8804-d135a1d75e29",
   "metadata": {},
   "source": [
    "以下で、左に表示される入出力セル番号は新規実行した場合の番号を示します。\n",
    "説明とセル番号を合わせるには、例えば、上のメニューの[Kernel]->[Restart Kernel and Run all Cells...]を実行をしてください。"
   ]
  },
  {
   "cell_type": "code",
   "execution_count": null,
   "id": "f3d08302",
   "metadata": {},
   "outputs": [],
   "source": [
    "import pandas as pd\n",
    "import matplotlib.pyplot as plt\n",
    "import numpy as np\n",
    "from sklearn.preprocessing import StandardScaler"
   ]
  },
  {
   "cell_type": "code",
   "execution_count": null,
   "id": "76a5b71c",
   "metadata": {},
   "outputs": [],
   "source": [
    "DR_TYPE = \"pca\" # \"pca\", \"smearing\", \"none\"\n",
    "NDIM = 6 # 次元圧縮後の説明変数次元（数）\n",
    "RANDOM_STATE = 5 # K-means法で用いる乱数SEED\n",
    "SECOND_DR_TYPE = \"none\" # \"tsne\", \"none\", or \"pca\""
   ]
  },
  {
   "cell_type": "code",
   "execution_count": null,
   "id": "fd04d077",
   "metadata": {},
   "outputs": [],
   "source": [
    "ROOT = \"..\"\n",
    "filename = f\"{ROOT}/data/hea4_dos.csv\"\n",
    "df = pd.read_csv(filename, index_col=None) #観測データ読み込み\n",
    "# \"semicore\"カラムにセミコア元素が含まれる\n",
    "TARGET_NAME = 'semicore' # 目的変数では無いが答え合わせに用いるカラム名\n",
    "semicore_list = np.unique(df[TARGET_NAME].values)\n",
    "# np.uniqueで重複が無い全セミコア元素名を取得する。\n",
    "print(\"semicore_lit\", semicore_list)\n",
    "n_clusters = semicore_list.size # 全セミコア元素数=12を取得\n",
    "print(\"n_clusters\", n_clusters)\n",
    "logdos_names = [] # 説明変数カラムに用いる変数定義\n",
    "for i in range(100):\n",
    "    logdos_names.append(\"log10_dos{}\".format(i+1))# 説明変数カラム名を生成する。"
   ]
  },
  {
   "cell_type": "code",
   "execution_count": null,
   "id": "d26189a2",
   "metadata": {},
   "outputs": [],
   "source": [
    "from dos_clustering_misc import plot_each_DOS \n",
    "# ファイル\"./dos_clustering_misc.py\"にあるユーザー定義のplot_each_DOS関数をimportする。\n",
    "plot_each_DOS(df, logdos_names, TARGET_NAME) # セミコア元素毎にDOSスペクトルデータを可視化する。\n",
    "# Bi-Zrまでそれぞれ５０データインスタンスのDOSを示し、特徴あるpeak,dip,全体の形を持つ。\n",
    "# 特に、HgとMoはpeakはよく見えないが、全体の形が異なる特徴を持つ。（高エネルギー側にばらけたピークを持つ。）"
   ]
  },
  {
   "cell_type": "code",
   "execution_count": null,
   "id": "dc8b1cbe",
   "metadata": {},
   "outputs": [],
   "source": [
    "from sklearn.decomposition import PCA\n",
    "from sklearn.manifold import TSNE\n",
    "from dos_clustering_misc import add_convolution_variables\n",
    "if DR_TYPE == \"pca\":\n",
    "    _X = df[logdos_names].values #_X(N,P)、生説明変数\n",
    "    dr = PCA(NDIM)  # カラム毎規格化を行わずにPCAで次元圧縮、圧縮後次元がNDIM\n",
    "    X_dr = dr.fit_transform(_X) # X_dr(N,NDIM)\n",
    "elif DR_TYPE == \"smearing\":\n",
    "    df, smearedlogdos_names = add_convolution_variables(\n",
    "        df, logdos_names, NDIM)\n",
    "    X_dr = df[smearedlogdos_names].values\n",
    "else: # pcaでもsmearingでもない場合,noneを含む、全次元を用いる。\n",
    "    X_dr = df[logdos_names].values # _X(N,P)\n",
    "    NDIM = len(logdos_names) # NDIM=P\n",
    "y = df[TARGET_NAME].values # 答え合わせのためのラベル"
   ]
  },
  {
   "cell_type": "code",
   "execution_count": null,
   "id": "14c35a9c",
   "metadata": {},
   "outputs": [],
   "source": [
    "from sklearn.preprocessing import MinMaxScaler\n",
    "scaler = MinMaxScaler()\n",
    "X_dr = scaler.fit_transform(X_dr) #　X_drを次元圧縮後に更に規格化"
   ]
  },
  {
   "cell_type": "code",
   "execution_count": null,
   "id": "415ef896",
   "metadata": {},
   "outputs": [],
   "source": [
    "from sklearn.cluster import KMeans\n",
    "if SECOND_DR_TYPE in [\"tsne\", \"pca\"]:\n",
    "    print(\"second_dr_type\", SECOND_DR_TYPE)\n",
    "    if SECOND_DR_TYPE == \"tsne\":\n",
    "        dr2 = TSNE(2,  init=\"pca\", random_state=RANDOM_STATE)\n",
    "    elif SECOND_DR_TYPE == \"pca\":\n",
    "        dr2 = PCA(2, random_state=RANDOM_STATE)\n",
    "    X2 = dr2.fit_transform(X_dr)\n",
    "    km = KMeans(n_clusters, random_state=RANDOM_STATE)\n",
    "    yp = km.fit_predict(X2)\n",
    "else:\n",
    "    print(\"second_dr_type_none\")\n",
    "    km = KMeans(n_clusters, random_state=RANDOM_STATE) \n",
    "    # K-means法をクラスター数n_clusterで行う。\n",
    "    yp = km.fit_predict(X_dr) # yp(N)、クラスターIDが入る\n",
    "    dr2 = TSNE(2,  init=\"pca\", random_state=RANDOM_STATE) \n",
    "    # 可視化用にt-sneで再度次元圧縮する。\n",
    "    X2 = dr2.fit_transform(X_dr) # X2(N,2), 可視化用の説明変数空間"
   ]
  },
  {
   "cell_type": "code",
   "execution_count": null,
   "id": "c571fbe6",
   "metadata": {},
   "outputs": [],
   "source": [
    "from dos_clustering_misc import plot_X2_compare, assign_frequent_value\n",
    "yp_freq = assign_frequent_value(y, yp) # yは文字列、ypは数字なので、最頻度でそれらを当てはめる。\n",
    "# yp_freq(N):文字列、yに対応した文字列\n",
    "plot_X2_compare(X2, y, yp_freq) \n",
    "# 横軸が次元圧縮した一次元目と二次元目\n",
    "# 左パネルが(X2, y)を表す。yは色と文字列で表す。\n",
    "# 右パネルが(X2, y_freq)を表す。y_freqは色と文字列で表す。"
   ]
  },
  {
   "cell_type": "code",
   "execution_count": null,
   "id": "90232a33",
   "metadata": {},
   "outputs": [],
   "source": [
    "from sklearn.metrics import confusion_matrix\n",
    "y_uniq = np.unique(y) # confusion_matrix関数内部と同じlabelの並び替えを行う。（version upで変わる可能性あり。）\n",
    "cm = confusion_matrix(y, yp_freq, labels=y_uniq) # 形式的に混同行列を求める。\n",
    "pd.DataFrame(cm, index=y_uniq, columns=y_uniq) #データフレーム形式にして表示する。"
   ]
  },
  {
   "cell_type": "code",
   "execution_count": null,
   "id": "763ec2da",
   "metadata": {},
   "outputs": [],
   "source": [
    "from sklearn.metrics import classification_report\n",
    "msg = classification_report(y,yp_freq) # 各種分類評価指標を形式的に計算する。\n",
    "print(msg)\n",
    "# yとypで対応した名前がない場合は以下でzero_division警告が表示されますが問題ありません。"
   ]
  },
  {
   "cell_type": "markdown",
   "id": "dcdbff70-e096-4dae-b473-11b53d34ed47",
   "metadata": {},
   "source": [
    "![](image_text/110a_12.png)"
   ]
  },
  {
   "cell_type": "markdown",
   "id": "d35a9027-de4e-4ff3-89cb-7504ec431b28",
   "metadata": {},
   "source": [
    "![](image_text/110a_13.png)"
   ]
  },
  {
   "cell_type": "markdown",
   "id": "468cbf66-e445-4728-985e-7a143a816618",
   "metadata": {},
   "source": [
    "![](image_text/110a_14.png)"
   ]
  },
  {
   "cell_type": "markdown",
   "id": "da11eb40-588f-4e0b-86e1-d1d004fe88de",
   "metadata": {},
   "source": [
    "![](image_text/110a_15.png)"
   ]
  },
  {
   "cell_type": "markdown",
   "id": "dd2b4217-20c8-4bde-bb87-1b23bf446397",
   "metadata": {},
   "source": [
    "![](image_text/110a_16.png)"
   ]
  },
  {
   "cell_type": "markdown",
   "id": "b52f431b-b32c-4ce1-9b5d-2a0694c041a1",
   "metadata": {},
   "source": [
    "![](image_text/110a_17.png)"
   ]
  },
  {
   "cell_type": "code",
   "execution_count": null,
   "id": "6dabc895-dea3-4973-9caf-a41019b94652",
   "metadata": {},
   "outputs": [],
   "source": []
  }
 ],
 "metadata": {
  "kernelspec": {
   "display_name": "Python 3 (ipykernel)",
   "language": "python",
   "name": "python3"
  },
  "language_info": {
   "codemirror_mode": {
    "name": "ipython",
    "version": 3
   },
   "file_extension": ".py",
   "mimetype": "text/x-python",
   "name": "python",
   "nbconvert_exporter": "python",
   "pygments_lexer": "ipython3",
   "version": "3.9.15"
  }
 },
 "nbformat": 4,
 "nbformat_minor": 5
}
