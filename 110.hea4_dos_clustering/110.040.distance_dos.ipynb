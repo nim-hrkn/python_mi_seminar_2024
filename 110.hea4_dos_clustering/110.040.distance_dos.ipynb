{
 "cells": [
  {
   "cell_type": "code",
   "execution_count": null,
   "id": "1720a9ac",
   "metadata": {},
   "outputs": [],
   "source": [
    "P = 50"
   ]
  },
  {
   "cell_type": "code",
   "execution_count": null,
   "id": "9767d4a8",
   "metadata": {},
   "outputs": [],
   "source": [
    "import numpy as np\n",
    "\n",
    "def add_peak(P, center, gamma = 0.2, sign=1.0):\n",
    "    \"\"\"add peak at center by exp(-gamma*(i-center)^2),\n",
    "    where i = linspace(0, P-1, P).\n",
    "    \n",
    "    Args:\n",
    "        x (np.ndarray): x\n",
    "        center (int): center of the peak of x to add.\n",
    "        gamma (float, optional): gamma of exp. Defaults to 1.0.\n",
    "        sign (float, optional: sing of exp. Defaults to 1.0\n",
    "        \n",
    "    Returns:\n",
    "        np.ndarray: x\n",
    "    \"\"\"\n",
    "    i = np.linspace(0,P-1,P)\n",
    "    x = np.exp(-gamma*(i-center)**2)* sign\n",
    "\n",
    "    return x.tolist()\n",
    "\n",
    "N2 = 30\n",
    "xlist = []\n",
    "# peak\n",
    "for i in range(10, 10+N2):\n",
    "    x = np.zeros(P)\n",
    "    xlist.append(add_peak(P,i))\n",
    "# dip\n",
    "for i in range(10, 10+N2):\n",
    "    x = np.zeros(P)\n",
    "    xlist.append(add_peak(P,i, sign=-1))"
   ]
  },
  {
   "cell_type": "code",
   "execution_count": null,
   "id": "127390f0",
   "metadata": {},
   "outputs": [],
   "source": [
    "import matplotlib.pyplot as plt\n",
    "tickfontsize= 15\n",
    "fig, axes = plt.subplots(2,1)\n",
    "X = np.array(xlist)\n",
    "ax = axes[0]\n",
    "for i in range(N2):\n",
    "    ax.plot(range(P), X[i,:].T, \"-\", label=i)\n",
    "ax.set_ylim((-1,1))\n",
    "ax.tick_params(axis = 'x', labelsize =tickfontsize)\n",
    "ax.tick_params(axis = 'y', labelsize =tickfontsize)\n",
    "ax = axes[1]\n",
    "for i in range(N2,2*N2):\n",
    "    ax.plot(range(P), X[i,:].T, \"-\", label=i)   \n",
    "ax.set_ylim((-1,1))\n",
    "ax.tick_params(axis = 'x', labelsize =tickfontsize)\n",
    "ax.tick_params(axis = 'y', labelsize =tickfontsize)\n",
    "fig.tight_layout()\n",
    "filename = \"1150.0800.energy_dependence.pdf\"\n",
    "outputdir = \"image_executed\"\n",
    "import os\n",
    "filepath = os.path.join(outputdir, filename)\n",
    "print(filepath)\n",
    "fig.savefig(filepath)"
   ]
  },
  {
   "cell_type": "code",
   "execution_count": null,
   "id": "b37c2324",
   "metadata": {},
   "outputs": [],
   "source": [
    "from sklearn.metrics.pairwise import euclidean_distances\n",
    "dmatrix = euclidean_distances(X)"
   ]
  },
  {
   "cell_type": "code",
   "execution_count": null,
   "id": "15ffb780",
   "metadata": {},
   "outputs": [],
   "source": [
    "tickfontsize= 15\n",
    "labelfontsize=15\n",
    "fig, ax = plt.subplots()\n",
    "ax.plot(dmatrix[0,:N2],\".-\")\n",
    "ax.plot(dmatrix[0,N2:],\"o-\")\n",
    "ax.set_ylabel(\"distance\", fontsize=labelfontsize)\n",
    "ax.tick_params(axis = 'x', labelsize =tickfontsize)\n",
    "ax.tick_params(axis = 'y', labelsize =tickfontsize)\n",
    "filename = \"1150.0800.distance_xdependence.pdf\"\n",
    "outputdir = \"image_executed\"\n",
    "import os\n",
    "filepath = os.path.join(outputdir, filename)\n",
    "print(filepath)\n",
    "fig.tight_layout()\n",
    "fig.savefig(filepath)"
   ]
  },
  {
   "cell_type": "code",
   "execution_count": null,
   "id": "87616cc1-7935-461b-aff3-213454658f13",
   "metadata": {},
   "outputs": [],
   "source": []
  }
 ],
 "metadata": {
  "kernelspec": {
   "display_name": "Python 3",
   "language": "python",
   "name": "python3"
  },
  "language_info": {
   "codemirror_mode": {
    "name": "ipython",
    "version": 3
   },
   "file_extension": ".py",
   "mimetype": "text/x-python",
   "name": "python",
   "nbconvert_exporter": "python",
   "pygments_lexer": "ipython3",
   "version": "3.9.12"
  }
 },
 "nbformat": 4,
 "nbformat_minor": 5
}
