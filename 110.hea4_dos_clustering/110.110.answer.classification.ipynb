{
 "cells": [
  {
   "cell_type": "code",
   "execution_count": null,
   "id": "f3d08302",
   "metadata": {},
   "outputs": [],
   "source": [
    "import pandas as pd\n",
    "import matplotlib.pyplot as plt\n",
    "import numpy as np\n",
    "from sklearn.preprocessing import StandardScaler"
   ]
  },
  {
   "cell_type": "code",
   "execution_count": null,
   "id": "76a5b71c",
   "metadata": {},
   "outputs": [],
   "source": [
    "DR_TYPE = \"smearing\" # \"pca\", \"smearing\", \"none\"\n",
    "NDIM = 10\n",
    "RANDOM_STATE = 2\n",
    "SECOND_DR_TYPE = \"none\" # \"tsne\", \"pca\", \"none\""
   ]
  },
  {
   "cell_type": "code",
   "execution_count": null,
   "id": "fd04d077",
   "metadata": {},
   "outputs": [],
   "source": [
    "ROOT = \"..\"\n",
    "filename = f\"{ROOT}/data/hea4_dos.csv\"\n",
    "df = pd.read_csv(filename, index_col=None)\n",
    "semicore_list = np.unique(df[\"semicore\"].values)\n",
    "n_clusters = len(semicore_list)\n",
    "logdos_names = []\n",
    "for i in range(100):\n",
    "    logdos_names.append(\"log10_dos{}\".format(i+1))\n",
    "TARGET_NAME = 'semicore'"
   ]
  },
  {
   "cell_type": "code",
   "execution_count": null,
   "id": "d26189a2",
   "metadata": {},
   "outputs": [],
   "source": [
    "from dos_clustering_misc import plot_each_DOS\n",
    "plot_each_DOS(df, logdos_names, TARGET_NAME)"
   ]
  },
  {
   "cell_type": "code",
   "execution_count": null,
   "id": "dc8b1cbe",
   "metadata": {},
   "outputs": [],
   "source": [
    "from sklearn.decomposition import PCA\n",
    "from sklearn.manifold import TSNE\n",
    "from dos_clustering_misc import add_convolution_variables\n",
    "if DR_TYPE == \"pca\":\n",
    "    _X = df[logdos_names].values\n",
    "    dr = PCA(NDIM) \n",
    "    X_dr = dr.fit_transform(_X)\n",
    "elif DR_TYPE == \"smearing\":\n",
    "    df, smearedlogdos_names = add_convolution_variables(\n",
    "        df, logdos_names, NDIM)\n",
    "    X_dr = df[smearedlogdos_names].values\n",
    "else:\n",
    "    X_dr = df[logdos_names].values\n",
    "    NDIM = len(logdos_names)\n",
    "y = df[TARGET_NAME].values"
   ]
  },
  {
   "cell_type": "code",
   "execution_count": null,
   "id": "14c35a9c",
   "metadata": {},
   "outputs": [],
   "source": [
    "from sklearn.preprocessing import MinMaxScaler\n",
    "scaler = MinMaxScaler()\n",
    "X_dr = scaler.fit_transform(X_dr)\n"
   ]
  },
  {
   "cell_type": "code",
   "execution_count": null,
   "id": "415ef896",
   "metadata": {},
   "outputs": [],
   "source": [
    "from sklearn.linear_model import LogisticRegressionCV\n",
    "\n",
    "if SECOND_DR_TYPE in [\"tsne\", \"pca\"]:\n",
    "    if SECOND_DR_TYPE == \"tsne\":\n",
    "        dr2 = TSNE(2,  init=\"pca\", random_state=RANDOM_STATE)\n",
    "    elif SECOND_DR_TYPE == \"pca\":\n",
    "        dr2 = PCA(2, random_state=RANDOM_STATE)\n",
    "    X2 = dr2.fit_transform(X_dr)\n",
    "\n",
    "    cls = LogisticRegressionCV(random_state=RANDOM_STATE)\n",
    "    cls.fit(X2, y)\n",
    "    yp = cls.predict(X2)\n",
    "else:\n",
    "    cls = LogisticRegressionCV(random_state=RANDOM_STATE)\n",
    "    cls.fit(X_dr, y)\n",
    "    yp = cls.predict(X_dr)    \n",
    "    if True:\n",
    "        dr2 = TSNE(2,  init=\"pca\", random_state=RANDOM_STATE)\n",
    "    X2 = dr2.fit_transform(X_dr)"
   ]
  },
  {
   "cell_type": "code",
   "execution_count": null,
   "id": "c571fbe6",
   "metadata": {},
   "outputs": [],
   "source": [
    "from dos_clustering_misc import plot_X2_compare, assign_frequent_value\n",
    "yp_freq = yp\n",
    "plot_X2_compare(X2, y, yp_freq)"
   ]
  },
  {
   "cell_type": "code",
   "execution_count": null,
   "id": "90232a33",
   "metadata": {},
   "outputs": [],
   "source": [
    "from sklearn.metrics import confusion_matrix\n",
    "cm = confusion_matrix(y, yp_freq)\n",
    "y_uniq = np.unique(y)\n",
    "pd.DataFrame(cm, index=y_uniq, columns=y_uniq)\n"
   ]
  },
  {
   "cell_type": "code",
   "execution_count": null,
   "id": "763ec2da",
   "metadata": {},
   "outputs": [],
   "source": [
    "from sklearn.metrics import classification_report\n",
    "msg = classification_report(y,yp_freq)\n",
    "print(msg)\n"
   ]
  }
 ],
 "metadata": {
  "kernelspec": {
   "display_name": "Python 3 (ipykernel)",
   "language": "python",
   "name": "python3"
  },
  "language_info": {
   "codemirror_mode": {
    "name": "ipython",
    "version": 3
   },
   "file_extension": ".py",
   "mimetype": "text/x-python",
   "name": "python",
   "nbconvert_exporter": "python",
   "pygments_lexer": "ipython3",
   "version": "3.9.15"
  }
 },
 "nbformat": 4,
 "nbformat_minor": 5
}
