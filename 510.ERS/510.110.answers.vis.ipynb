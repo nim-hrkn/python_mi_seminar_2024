{
 "cells": [
  {
   "cell_type": "code",
   "execution_count": null,
   "id": "77b2f842",
   "metadata": {},
   "outputs": [],
   "source": [
    "import numpy as np\n",
    "import pandas as pd\n",
    "import itertools\n",
    "from mass_function import MassFunction\n"
   ]
  },
  {
   "cell_type": "code",
   "execution_count": null,
   "id": "23a51d90",
   "metadata": {},
   "outputs": [],
   "source": [
    "ALPHA = 0.1\n"
   ]
  },
  {
   "cell_type": "code",
   "execution_count": null,
   "id": "c006406d",
   "metadata": {},
   "outputs": [],
   "source": [
    "ROOT = \"..\"\n",
    "df_data = pd.read_csv(f\"{ROOT}/data/HEA_data.demo.csv\", index_col=0)\n",
    "ELEMENTS = np.array([\n",
    "    \"Ti\", \"V\", \"Cr\", \"Mn\", \"Fe\", \"Co\", \"Ni\", \"Cu\",\n",
    "    \"Zr\", \"Nb\", \"Mo\", \"Tc\", \"Ru\", \"Rh\", \"Pd\", \"Ag\"])\n"
   ]
  },
  {
   "cell_type": "code",
   "execution_count": null,
   "id": "e0282c8e",
   "metadata": {},
   "outputs": [],
   "source": [
    "#結果の保存\n",
    "df_similarity = pd.read_csv(\"data_executed/elements_similarity.csv\", index_col=[0])\n",
    "df_dissimilarity = pd.read_csv(\"data_executed/elements_dissimilarity.csv\", index_col=[0])\n",
    "df_unknown = pd.read_csv(\"data_executed/elements_unknown.csv\", index_col=[0])\n"
   ]
  },
  {
   "cell_type": "code",
   "execution_count": null,
   "id": "4e8cbd46",
   "metadata": {},
   "outputs": [],
   "source": [
    "index = df_similarity.index.tolist()\n",
    "index[0] = \"\"\n",
    "df_similarity.index = index\n"
   ]
  },
  {
   "cell_type": "code",
   "execution_count": null,
   "id": "dc8103a0",
   "metadata": {},
   "outputs": [],
   "source": [
    "columns = df_similarity.columns.tolist()\n",
    "columns[0] = \"\"\n",
    "df_similarity.columns = columns"
   ]
  },
  {
   "cell_type": "code",
   "execution_count": null,
   "id": "e485ec07",
   "metadata": {},
   "outputs": [],
   "source": [
    "df_similarity"
   ]
  },
  {
   "cell_type": "code",
   "execution_count": null,
   "id": "e48ddd5c",
   "metadata": {},
   "outputs": [],
   "source": [
    "from ERS_misc import plot_similarity_matrix\n",
    "import matplotlib.pyplot as plt\n",
    "plot_similarity_matrix(df_dissimilarity, ELEMENTS)\n"
   ]
  },
  {
   "cell_type": "code",
   "execution_count": null,
   "id": "fd02c841",
   "metadata": {},
   "outputs": [],
   "source": [
    "plot_similarity_matrix(df_unknown, ELEMENTS)\n"
   ]
  },
  {
   "cell_type": "code",
   "execution_count": null,
   "id": "bc311148",
   "metadata": {},
   "outputs": [],
   "source": [
    "occurrence = {}\n",
    "for element in ELEMENTS:\n",
    "    _df = df_data[df_data[element]==1]\n",
    "    occurrence[element] = [_df.shape[0]]\n",
    "df_occurrence = pd.DataFrame(occurrence, index=[\"occurrence\"]).T.reset_index()\n",
    "df_occurrence.rename(columns={\"index\":\"element\"}, inplace=True)\n",
    "df_occurrence[\"occurrence\"].mean()\n",
    "df_occurrence"
   ]
  },
  {
   "cell_type": "code",
   "execution_count": null,
   "id": "bbc8d72b",
   "metadata": {},
   "outputs": [],
   "source": [
    "import matplotlib.pyplot as plt\n",
    "fig, ax = plt.subplots(figsize=(6,3), dpi=600)\n",
    "df_occurrence.plot.bar(x=\"element\",y=\"occurrence\", ax=ax)\n",
    "plt.show()"
   ]
  },
  {
   "cell_type": "code",
   "execution_count": null,
   "id": "a67ad539",
   "metadata": {},
   "outputs": [],
   "source": []
  }
 ],
 "metadata": {
  "kernelspec": {
   "display_name": "Python 3 (ipykernel)",
   "language": "python",
   "name": "python3"
  },
  "language_info": {
   "codemirror_mode": {
    "name": "ipython",
    "version": 3
   },
   "file_extension": ".py",
   "mimetype": "text/x-python",
   "name": "python",
   "nbconvert_exporter": "python",
   "pygments_lexer": "ipython3",
   "version": "3.9.15"
  }
 },
 "nbformat": 4,
 "nbformat_minor": 5
}
