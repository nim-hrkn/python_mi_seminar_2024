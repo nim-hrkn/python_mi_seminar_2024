{
 "cells": [
  {
   "cell_type": "code",
   "execution_count": null,
   "id": "77b2f842",
   "metadata": {},
   "outputs": [],
   "source": [
    "import numpy as np\n",
    "import pandas as pd\n",
    "import itertools\n",
    "from mass_function import MassFunction\n"
   ]
  },
  {
   "cell_type": "code",
   "execution_count": null,
   "id": "23a51d90",
   "metadata": {},
   "outputs": [],
   "source": [
    "ALPHA = 0.1\n"
   ]
  },
  {
   "cell_type": "code",
   "execution_count": null,
   "id": "c006406d",
   "metadata": {},
   "outputs": [],
   "source": [
    "ROOT = \"..\"\n",
    "df_data = pd.read_csv(f\"{ROOT}/data/HEA_data.demo.csv\", index_col=0)\n",
    "ELEMENTS = np.array([\n",
    "    \"Ti\", \"V\", \"Cr\", \"Mn\", \"Fe\", \"Co\", \"Ni\", \"Cu\",\n",
    "    \"Zr\", \"Nb\", \"Mo\", \"Tc\", \"Ru\", \"Rh\", \"Pd\", \"Ag\"])\n"
   ]
  },
  {
   "cell_type": "code",
   "execution_count": null,
   "id": "552725e2",
   "metadata": {},
   "outputs": [],
   "source": [
    "from ERS_misc import extract_evidence\n",
    "alloy_i = [\"Ag\", \"Fe\"]\n",
    "query_string = \"Ag==1 and Fe==1 and n_element==2\"\n",
    "label_alloy_i = df_data.query(query_string).iloc[0][\"Label\"]\n",
    "alloy_j = [\"Cu\", \"Fe\"]\n",
    "query_string = \"Cu==1 and Fe==1 and n_element==2\"\n",
    "label_alloy_j = df_data.query(query_string).iloc[0][\"Label\"]\n",
    "evidence_1 = extract_evidence(frozenset(alloy_i), frozenset(alloy_j))\n",
    "if evidence_1 is not None:\n",
    "    combination_t, combination_v = evidence_1\n",
    "    if label_alloy_i == label_alloy_j:\n",
    "        mass_function_1 = MassFunction(source=[({\"similar\"}, \n",
    "                                               ALPHA)],\n",
    "                                       coreset={\"similar\", \"dissimilar\"})\n",
    "    else:\n",
    "        mass_function_1 = MassFunction(source=[({\"dissimilar\"}, \n",
    "                                                ALPHA)],\n",
    "                                       coreset={\"similar\", \"dissimilar\"})\n",
    "    print(mass_function_1)\n"
   ]
  },
  {
   "cell_type": "code",
   "execution_count": null,
   "id": "461d335b",
   "metadata": {},
   "outputs": [],
   "source": [
    "alloy_i = [\"Ag\", \"Pd\", \"V\"]\n",
    "query_string = \"Ag==1 and Pd==1 and V==1 and n_element==3\"\n",
    "label_alloy_i = df_data.query(query_string).iloc[0][\"Label\"]\n",
    "alloy_j = [\"Cu\", \"Pd\", \"V\"]\n",
    "query_string = \"Cu==1 and Pd==1 and V==1 and n_element==3\"\n",
    "label_alloy_j = df_data.query(query_string).iloc[0][\"Label\"]\n",
    "evidence_2 = extract_evidence(frozenset(alloy_i), frozenset(alloy_j))\n",
    "if evidence_2 is not None:\n",
    "    combination_v, similar = evidence_2\n",
    "    if label_alloy_i == label_alloy_j:\n",
    "        mass_function_2 = MassFunction(source=[({\"similar\"}, \n",
    "                                                ALPHA)],\n",
    "                                       coreset={\"similar\", \"dissimilar\"})\n",
    "    else:\n",
    "        mass_function_2 = MassFunction(source=[({\"dissimilar\"}, \n",
    "                                               ALPHA)],\n",
    "                                       coreset={\"similar\", \"dissimilar\"})\n",
    "    print(mass_function_2)\n"
   ]
  },
  {
   "cell_type": "code",
   "execution_count": null,
   "id": "0ea48cca",
   "metadata": {},
   "outputs": [],
   "source": [
    "combined_mass_function = mass_function_1.combine(mass_function_2)\n",
    "print(combined_mass_function)\n"
   ]
  },
  {
   "cell_type": "code",
   "execution_count": null,
   "id": "3d6dd4b9",
   "metadata": {
    "tags": []
   },
   "outputs": [],
   "source": [
    "import progressbar\n",
    "nall = int(df_data.shape[0]*(df_data.shape[0]-1)/2)\n",
    "bar = progressbar.ProgressBar(max_value=nall)\n",
    "iteration = itertools.combinations(df_data.index.values, 2)\n",
    "mass_functions = []\n",
    "for i, (index_alloy_i, index_alloy_j) in enumerate(iteration):\n",
    "    bar.update(i+1)\n",
    "    df_alloy_i = df_data.loc[index_alloy_i]\n",
    "    df_alloy_j = df_data.loc[index_alloy_j]\n",
    "    alloy_i = ELEMENTS[df_alloy_i[ELEMENTS].values == 1].tolist()\n",
    "    label_alloy_i = df_alloy_i[\"Label\"]\n",
    "    alloy_j = ELEMENTS[df_alloy_j[ELEMENTS].values == 1].tolist()\n",
    "    label_alloy_j = df_alloy_j[\"Label\"]\n",
    "    evidence = extract_evidence(frozenset(alloy_i), frozenset(alloy_j))\n",
    "    if evidence is not None:\n",
    "        combination_t, combination_v = evidence\n",
    "        if label_alloy_i == label_alloy_j:\n",
    "            mass_function = MassFunction(source=[({\"similar\"},\n",
    "                                                 ALPHA)],\n",
    "                                         coreset={\"similar\", \"dissimilar\"})\n",
    "        else:\n",
    "            mass_function = MassFunction(source=[({\"dissimilar\"},\n",
    "                                                  ALPHA)],\n",
    "                                         coreset={\"similar\", \"dissimilar\"})\n",
    "        mass_functions.append([combination_t, combination_v, mass_function])\n"
   ]
  },
  {
   "cell_type": "code",
   "execution_count": null,
   "id": "f271af89",
   "metadata": {},
   "outputs": [],
   "source": [
    "from ERS_misc import make_similarity_df\n",
    "df_similarity, df_dissimilarity, df_unknown = make_similarity_df(ELEMENTS,\n",
    "                                                           mass_functions)\n"
   ]
  },
  {
   "cell_type": "code",
   "execution_count": null,
   "id": "7a0d83c0",
   "metadata": {},
   "outputs": [],
   "source": [
    "#結果の保存\n",
    "import os\n",
    "outputdir = \"data_executed\"\n",
    "os.makedirs(outputdir, exist_ok=True)\n",
    "df_similarity.to_csv(os.path.join(outputdir,\"elements_similarity.csv\"))\n",
    "df_dissimilarity.to_csv(os.path.join(outputdir,\"elements_dissimilarity.csv\"))\n",
    "df_unknown.to_csv(os.path.join(outputdir,\"elements_unknown.csv\"))"
   ]
  },
  {
   "cell_type": "code",
   "execution_count": null,
   "id": "e48ddd5c",
   "metadata": {},
   "outputs": [],
   "source": [
    "from ERS_misc import plot_similarity_matrix\n",
    "plot_similarity_matrix(df_similarity, ELEMENTS)\n"
   ]
  },
  {
   "cell_type": "code",
   "execution_count": null,
   "id": "87e1634c",
   "metadata": {},
   "outputs": [],
   "source": [
    "SCALE = .1\n"
   ]
  },
  {
   "cell_type": "code",
   "execution_count": null,
   "id": "a8ed7f83",
   "metadata": {},
   "outputs": [],
   "source": [
    "candidate = [\"Fe\", \"Mn\", \"Co\", \"Ni\"]\n"
   ]
  },
  {
   "cell_type": "code",
   "execution_count": null,
   "id": "95c3a470",
   "metadata": {},
   "outputs": [],
   "source": [
    "from ERS_misc import extract_HEA_evidence\n",
    "alloy_k = [\"Co\", \"Cr\", \"Fe\", \"Ni\"]\n",
    "qstr = \"combination=='{}'\".format(\"\".join(alloy_k))\n",
    "label_alloy_k = df_data.query(qstr).iloc[0][\"Label\"]\n",
    "evidence_1 = extract_HEA_evidence(frozenset(candidate), frozenset(alloy_k))\n",
    "if evidence_1 is not None:\n",
    "    combination_t, combination_v = evidence_1\n",
    "    index_t = \"|\".join(sorted(combination_t))\n",
    "    index_v = \"|\".join(sorted(combination_v))\n",
    "    similar_score = df_similarity.loc[index_t, index_v]\n",
    "    mass_function_1 = MassFunction(source=[({label_alloy_k},\n",
    "                                    similar_score*SCALE)],\n",
    "                                   coreset={\"HEA\", \"not_HEA\"})\n",
    "    print(mass_function_1)\n"
   ]
  },
  {
   "cell_type": "code",
   "execution_count": null,
   "id": "1ac4b6aa",
   "metadata": {},
   "outputs": [],
   "source": [
    "alloy_k = [\"Co\", \"Cr\", \"Mn\"]\n",
    "qstr = \"combination=='{}'\".format(\"\".join(alloy_k))\n",
    "label_alloy_k = df_data.query(qstr).iloc[0][\"Label\"]\n",
    "evidence_2 = extract_HEA_evidence(frozenset(candidate), frozenset(alloy_k))\n",
    "if evidence_2 is not None:\n",
    "    combination_t, combination_v = evidence_2\n",
    "    index_t = \"|\".join(sorted(combination_t))\n",
    "    index_v = \"|\".join(sorted(combination_v))\n",
    "    similar_score = df_similarity.loc[index_t, index_v]\n",
    "    mass_function_2 = MassFunction(source=[({label_alloy_k},\n",
    "                                    similar_score*SCALE)],\n",
    "                                   coreset={\"HEA\", \"not_HEA\"})\n",
    "    print(mass_function_2)\n"
   ]
  },
  {
   "cell_type": "code",
   "execution_count": null,
   "id": "35d7e53b",
   "metadata": {},
   "outputs": [],
   "source": [
    "combined_mass_function = mass_function_1.combine(mass_function_2)\n",
    "print(combined_mass_function)\n"
   ]
  }
 ],
 "metadata": {
  "kernelspec": {
   "display_name": "Python 3",
   "language": "python",
   "name": "python3"
  },
  "language_info": {
   "codemirror_mode": {
    "name": "ipython",
    "version": 3
   },
   "file_extension": ".py",
   "mimetype": "text/x-python",
   "name": "python",
   "nbconvert_exporter": "python",
   "pygments_lexer": "ipython3",
   "version": "3.9.12"
  }
 },
 "nbformat": 4,
 "nbformat_minor": 5
}
