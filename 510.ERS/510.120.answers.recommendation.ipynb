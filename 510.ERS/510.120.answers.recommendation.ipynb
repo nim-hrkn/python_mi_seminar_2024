{
 "cells": [
  {
   "cell_type": "code",
   "execution_count": null,
   "id": "77b2f842",
   "metadata": {},
   "outputs": [],
   "source": [
    "import numpy as np\n",
    "import pandas as pd\n",
    "import itertools\n",
    "from mass_function import MassFunction\n"
   ]
  },
  {
   "cell_type": "code",
   "execution_count": null,
   "id": "23a51d90",
   "metadata": {},
   "outputs": [],
   "source": [
    "ALPHA = 0.1\n"
   ]
  },
  {
   "cell_type": "code",
   "execution_count": null,
   "id": "c006406d",
   "metadata": {},
   "outputs": [],
   "source": [
    "ROOT = \"..\"\n",
    "df_data = pd.read_csv(f\"{ROOT}/data/HEA_data.demo.csv\", index_col=0)\n",
    "ELEMENTS = np.array([\n",
    "    \"Ti\", \"V\", \"Cr\", \"Mn\", \"Fe\", \"Co\", \"Ni\", \"Cu\",\n",
    "    \"Zr\", \"Nb\", \"Mo\", \"Tc\", \"Ru\", \"Rh\", \"Pd\", \"Ag\"])\n"
   ]
  },
  {
   "cell_type": "code",
   "execution_count": null,
   "id": "e0282c8e",
   "metadata": {},
   "outputs": [],
   "source": [
    "#結果の保存\n",
    "df_similarity = pd.read_csv(\"data_executed/elements_similarity.csv\", index_col=[0])\n",
    "df_dissimilarity = pd.read_csv(\"data_executed/elements_dissimilarity.csv\", index_col=[0])\n",
    "df_unknown = pd.read_csv(\"data_executed/elements_unknown.csv\", index_col=[0])\n"
   ]
  },
  {
   "cell_type": "code",
   "execution_count": null,
   "id": "a257ffde",
   "metadata": {},
   "outputs": [],
   "source": [
    "index = df_similarity.index.tolist()\n",
    "index[0] = \"\"\n",
    "df_similarity.index = index\n"
   ]
  },
  {
   "cell_type": "code",
   "execution_count": null,
   "id": "17f7a9df",
   "metadata": {},
   "outputs": [],
   "source": [
    "columns = df_similarity.columns.tolist()\n",
    "columns[0] = \"\"\n",
    "df_similarity.columns = columns"
   ]
  },
  {
   "cell_type": "code",
   "execution_count": null,
   "id": "7fddb6ed",
   "metadata": {},
   "outputs": [],
   "source": [
    "df_similarity"
   ]
  },
  {
   "cell_type": "code",
   "execution_count": null,
   "id": "e48ddd5c",
   "metadata": {},
   "outputs": [],
   "source": [
    "from ERS_misc import plot_similarity_matrix\n",
    "plot_similarity_matrix(df_similarity, ELEMENTS)\n"
   ]
  },
  {
   "cell_type": "code",
   "execution_count": null,
   "id": "87e1634c",
   "metadata": {},
   "outputs": [],
   "source": [
    "SCALE = .1\n"
   ]
  },
  {
   "cell_type": "code",
   "execution_count": null,
   "id": "95c3a470",
   "metadata": {},
   "outputs": [],
   "source": [
    "from ERS_misc import extract_HEA_evidence\n"
   ]
  },
  {
   "cell_type": "code",
   "execution_count": null,
   "id": "8e06e2ed",
   "metadata": {},
   "outputs": [],
   "source": [
    "df_similarity"
   ]
  },
  {
   "cell_type": "code",
   "execution_count": null,
   "id": "b546aca5",
   "metadata": {},
   "outputs": [],
   "source": [
    "candidates = [\n",
    "    [\"Fe\", \"Mn\", \"Co\", \"Ti\"], [\"Fe\", \"Mn\", \"Co\", \"Cu\"], [\"Fe\", \"Mn\", \"Co\", \"V\"],\n",
    "    [\"Fe\", \"Mn\", \"Co\", \"Cr\"], [\"Fe\", \"Mn\", \"Co\", \"Ni\"]]\n"
   ]
  },
  {
   "cell_type": "code",
   "execution_count": null,
   "id": "f67c832d",
   "metadata": {},
   "outputs": [],
   "source": [
    "df_data"
   ]
  },
  {
   "cell_type": "code",
   "execution_count": null,
   "id": "8ca6c9bf",
   "metadata": {
    "tags": []
   },
   "outputs": [],
   "source": [
    "final_decisions = []\n",
    "for candidate in candidates:\n",
    "    final_decision = MassFunction(coreset={\"HEA\", \"not_HEA\"})\n",
    "    for ith, row in df_data.iterrows():\n",
    "        alloy_k = ELEMENTS[row[ELEMENTS] == 1]\n",
    "        label_alloy_k = row[\"Label\"]\n",
    "        evidence = extract_HEA_evidence(frozenset(candidate), \n",
    "                                        frozenset(alloy_k))\n",
    "        if evidence is not None:\n",
    "            combination_t, combination_v = evidence\n",
    "            print(alloy_k, combination_t, combination_v)\n",
    "            \n",
    "            index_t, index_v = \"|\".join(sorted(combination_t)),\\\n",
    "                               \"|\".join(sorted(combination_v))\n",
    "            similar_score = df_similarity.loc[index_t, index_v]\n",
    "            mass_function = MassFunction(source=[({label_alloy_k},\n",
    "                                     similar_score*SCALE)],\n",
    "                                         coreset={\"HEA\", \"not_HEA\"})\n",
    "            final_decision = final_decision.combine(mass_function)\n",
    "    final_decisions.append(final_decision)\n"
   ]
  },
  {
   "cell_type": "code",
   "execution_count": null,
   "id": "61c11a0b",
   "metadata": {},
   "outputs": [],
   "source": [
    "from ERS_misc import plot_final_decisions\n",
    "import matplotlib.pyplot as plt\n",
    "plot_final_decisions(candidates, final_decisions)\n",
    "plt.tight_layout()\n"
   ]
  }
 ],
 "metadata": {
  "kernelspec": {
   "display_name": "Python 3",
   "language": "python",
   "name": "python3"
  },
  "language_info": {
   "codemirror_mode": {
    "name": "ipython",
    "version": 3
   },
   "file_extension": ".py",
   "mimetype": "text/x-python",
   "name": "python",
   "nbconvert_exporter": "python",
   "pygments_lexer": "ipython3",
   "version": "3.9.12"
  }
 },
 "nbformat": 4,
 "nbformat_minor": 5
}
