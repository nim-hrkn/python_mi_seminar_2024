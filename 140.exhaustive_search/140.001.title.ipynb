{
 "cells": [
  {
   "cell_type": "markdown",
   "id": "1d4cd707-c9e7-47e1-82f1-dd898b291bf9",
   "metadata": {},
   "source": [
    "#　モデル全探索による説明変数重要性\n",
    "\n",
    "説明とスクリプト\n",
    "[140.051](140.051.text.all-combinations-ReCo.ipynb)\n"
   ]
  },
  {
   "cell_type": "code",
   "execution_count": null,
   "id": "789bcc9a-7f29-4c10-adad-9a875f884d0b",
   "metadata": {},
   "outputs": [],
   "source": []
  }
 ],
 "metadata": {
  "kernelspec": {
   "display_name": "Python 3 (ipykernel)",
   "language": "python",
   "name": "python3"
  },
  "language_info": {
   "codemirror_mode": {
    "name": "ipython",
    "version": 3
   },
   "file_extension": ".py",
   "mimetype": "text/x-python",
   "name": "python",
   "nbconvert_exporter": "python",
   "pygments_lexer": "ipython3",
   "version": "3.9.15"
  }
 },
 "nbformat": 4,
 "nbformat_minor": 5
}
