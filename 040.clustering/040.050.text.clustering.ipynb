{
 "cells": [
  {
   "cell_type": "code",
   "execution_count": null,
   "id": "487281e2-31be-4284-865e-9130ae733282",
   "metadata": {},
   "outputs": [],
   "source": [
    "import numpy as np\n",
    "import pandas as pd\n",
    "import matplotlib.pylab as plt\n",
    "%matplotlib inline\n",
    "import get_data\n",
    "df_obs, descriptor_names, splabel = get_data.load(\"Carbon8_desc_all\")\n",
    "df_new, descriptor_names, splabel = get_data.load(\"Carbon8_desc\")\n",
    "ans_list = df_new[splabel].values"
   ]
  },
  {
   "cell_type": "code",
   "execution_count": null,
   "id": "758efcc4",
   "metadata": {},
   "outputs": [],
   "source": [
    "from sklearn.preprocessing import StandardScaler\n",
    "Xraw = df_obs[descriptor_names].values\n",
    "scaler = StandardScaler()\n",
    "scaler.fit(Xraw)\n",
    "X = scaler.transform(Xraw)\n"
   ]
  },
  {
   "cell_type": "code",
   "execution_count": null,
   "id": "6db757b0",
   "metadata": {},
   "outputs": [],
   "source": [
    "from sklearn.decomposition import PCA\n",
    "drd = PCA(2)\n",
    "drd.fit(X)\n",
    "X_PCA = drd.transform(X)\n"
   ]
  },
  {
   "cell_type": "code",
   "execution_count": null,
   "id": "468429e7",
   "metadata": {},
   "outputs": [],
   "source": [
    "from sklearn.cluster import KMeans\n",
    "NCLUSTERS = 3\n",
    "km = KMeans(NCLUSTERS, random_state=1)\n",
    "km.fit(X)\n",
    "yp_km = km.predict(X)\n"
   ]
  },
  {
   "cell_type": "code",
   "execution_count": null,
   "id": "6d813ac5",
   "metadata": {},
   "outputs": [],
   "source": [
    "from clustering_misc import plot_X_withlabel\n",
    "Xraw_new = df_new[descriptor_names].values\n",
    "X_new = scaler.transform(Xraw_new)\n",
    "X_new_PCA = drd.transform(X_new)\n",
    "plot_X_withlabel(X_PCA, X_new_PCA, ans_list)\n"
   ]
  },
  {
   "cell_type": "code",
   "execution_count": null,
   "id": "a55a7249",
   "metadata": {},
   "outputs": [],
   "source": [
    "from clustering_misc import plot_X_clusters\n",
    "plot_X_clusters(X_PCA, yp_km, alpha=0.05)\n"
   ]
  },
  {
   "cell_type": "code",
   "execution_count": null,
   "id": "530243ae",
   "metadata": {},
   "outputs": [],
   "source": [
    "from sklearn.mixture import GaussianMixture\n",
    "gmm = GaussianMixture(NCLUSTERS, random_state=3)\n",
    "gmm.fit(X)\n",
    "yp_gmm = gmm.predict(X)\n",
    "plot_X_clusters(X_PCA, yp_gmm, alpha=0.01)"
   ]
  },
  {
   "cell_type": "code",
   "execution_count": null,
   "id": "0fe8a4a1-7208-4a25-a23c-579b087fe84e",
   "metadata": {},
   "outputs": [],
   "source": []
  },
  {
   "cell_type": "code",
   "execution_count": null,
   "id": "13404c2e-6c35-4954-b280-da84195f7ce2",
   "metadata": {},
   "outputs": [],
   "source": []
  },
  {
   "cell_type": "code",
   "execution_count": null,
   "id": "28eef349",
   "metadata": {},
   "outputs": [],
   "source": [
    "from clustering_misc import make_df_sample\n",
    "\n",
    "X_sample_raw, ans_list_sample = make_df_sample(df_new, descriptor_names, \n",
    "                                           n=3, group_name=splabel)\n",
    "scaler = StandardScaler()\n",
    "X_sample = scaler.fit_transform(X_sample_raw)"
   ]
  },
  {
   "cell_type": "code",
   "execution_count": null,
   "id": "544104e7",
   "metadata": {},
   "outputs": [],
   "source": [
    "from scipy.spatial.distance import pdist\n",
    "from scipy.cluster.hierarchy import linkage\n",
    "metric = 'euclidean'\n",
    "pairdistance = pdist(X_sample, metric=metric)\n",
    "method = 'complete'\n",
    "Z = linkage(pairdistance, method=method)\n"
   ]
  },
  {
   "cell_type": "code",
   "execution_count": null,
   "id": "7ba6cd21",
   "metadata": {},
   "outputs": [],
   "source": [
    "from scipy.cluster.hierarchy import dendrogram\n",
    "fig, ax = plt.subplots(figsize=(3, 5))\n",
    "tree = dendrogram(Z, labels=ans_list_sample, orientation=\"left\", ax=ax)\n",
    "ax.invert_yaxis()\n",
    "fig.tight_layout()\n"
   ]
  },
  {
   "cell_type": "code",
   "execution_count": null,
   "id": "340379c7-0946-422b-92d4-70d2c13e8ac5",
   "metadata": {},
   "outputs": [],
   "source": []
  }
 ],
 "metadata": {
  "kernelspec": {
   "display_name": "Python 3 (ipykernel)",
   "language": "python",
   "name": "python3"
  },
  "language_info": {
   "codemirror_mode": {
    "name": "ipython",
    "version": 3
   },
   "file_extension": ".py",
   "mimetype": "text/x-python",
   "name": "python",
   "nbconvert_exporter": "python",
   "pygments_lexer": "ipython3",
   "version": "3.9.18"
  }
 },
 "nbformat": 4,
 "nbformat_minor": 5
}
