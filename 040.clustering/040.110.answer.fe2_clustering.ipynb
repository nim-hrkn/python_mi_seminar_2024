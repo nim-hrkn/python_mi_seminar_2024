{
 "cells": [
  {
   "cell_type": "code",
   "execution_count": null,
   "id": "5a774e6d-e2fb-4d6b-9e6f-2b3732a6148d",
   "metadata": {},
   "outputs": [],
   "source": [
    "import numpy as np\n",
    "import pandas as pd\n",
    "import matplotlib.pylab as plt\n",
    "%matplotlib inline"
   ]
  },
  {
   "cell_type": "raw",
   "id": "225d2d65-2e68-493f-b73b-f41dd55343fb",
   "metadata": {},
   "source": []
  },
  {
   "cell_type": "code",
   "execution_count": null,
   "id": "5c319258-61af-4ce7-bf2b-9fc304b60843",
   "metadata": {},
   "outputs": [],
   "source": [
    "import get_data\n",
    "df, descriptor_names, key_name = get_data.load(\"Fe2\")\n",
    "\n",
    "ans_list = df[key_name].values"
   ]
  },
  {
   "cell_type": "code",
   "execution_count": null,
   "id": "9777a2eb",
   "metadata": {},
   "outputs": [],
   "source": [
    "METADATA = {\"outputdir\": \"image_executed\", \"prefix\": \"clustering_Fe2\", \n",
    "              \"dataname\": \"Fe2\"}"
   ]
  },
  {
   "cell_type": "code",
   "execution_count": null,
   "id": "758efcc4",
   "metadata": {},
   "outputs": [],
   "source": [
    "from sklearn.preprocessing import StandardScaler\n",
    "Xraw = df[descriptor_names].values\n",
    "scaler = StandardScaler()\n",
    "scaler.fit(Xraw)\n",
    "X = scaler.transform(Xraw)\n"
   ]
  },
  {
   "cell_type": "code",
   "execution_count": null,
   "id": "468429e7",
   "metadata": {},
   "outputs": [],
   "source": [
    "from sklearn.cluster import KMeans\n",
    "nclusters = 3\n",
    "km = KMeans(nclusters)\n",
    "km.fit(X)\n",
    "yp_km = km.predict(X)\n"
   ]
  },
  {
   "cell_type": "code",
   "execution_count": null,
   "id": "6db757b0",
   "metadata": {},
   "outputs": [],
   "source": [
    "from sklearn.decomposition import PCA\n",
    "drd = PCA(2)\n",
    "drd.fit(X)\n",
    "X_PCA = drd.transform(X)\n"
   ]
  },
  {
   "cell_type": "code",
   "execution_count": null,
   "id": "45a4071e",
   "metadata": {},
   "outputs": [],
   "source": [
    "from clustering_misc import plot_X2_ystring\n",
    "plot_X2_ystring(X_PCA, ans_list, yp_km, comment=\"km\", metadata=METADATA)\n"
   ]
  },
  {
   "cell_type": "code",
   "execution_count": null,
   "id": "530243ae",
   "metadata": {},
   "outputs": [],
   "source": [
    "from sklearn.mixture import GaussianMixture\n",
    "gmm = GaussianMixture(nclusters)\n",
    "gmm.fit(X)\n",
    "yp_gmm = gmm.predict(X)\n"
   ]
  },
  {
   "cell_type": "code",
   "execution_count": null,
   "id": "4fb9ff1b",
   "metadata": {},
   "outputs": [],
   "source": [
    "plot_X2_ystring(X_PCA, ans_list, yp_gmm, comment=\"gmm\", metadata=METADATA)\n"
   ]
  },
  {
   "cell_type": "code",
   "execution_count": null,
   "id": "544104e7",
   "metadata": {},
   "outputs": [],
   "source": [
    "from scipy.spatial.distance import pdist\n",
    "from scipy.cluster.hierarchy import linkage\n",
    "metric = 'euclidean'\n",
    "pairdistance = pdist(X, metric=metric)\n",
    "method = 'single'\n",
    "Z = linkage(pairdistance, method=method)\n"
   ]
  },
  {
   "cell_type": "code",
   "execution_count": null,
   "id": "7ba6cd21",
   "metadata": {},
   "outputs": [],
   "source": [
    "from scipy.cluster.hierarchy import dendrogram\n",
    "import os\n",
    "fig, ax = plt.subplots(figsize=(5, 10))\n",
    "label_list = df[\"key\"].values\n",
    "tree = dendrogram(Z, labels=label_list, orientation=\"left\", ax=ax)\n",
    "ax.invert_yaxis()\n",
    "fig.tight_layout()\n",
    "filename = \"_\".join([METADATA[\"prefix\"], \"dendrogram\"])+\".png\"\n",
    "print(filename)\n",
    "plt.savefig(os.path.join(METADATA[\"outputdir\"], filename))"
   ]
  },
  {
   "cell_type": "code",
   "execution_count": null,
   "id": "c5c9d22c",
   "metadata": {},
   "outputs": [],
   "source": [
    "from scipy.spatial.distance import squareform\n",
    "corr = 1- np.abs(df[descriptor_names].corr()) \n",
    "pairdistance = squareform(corr)\n",
    "\n",
    "Z = linkage(pairdistance)\n",
    "fig, ax = plt.subplots(figsize=(5,3))\n",
    "tree = dendrogram(Z, labels=descriptor_names, orientation=\"left\", ax=ax)\n",
    "filename = \"_\".join([METADATA[\"prefix\"], \"descriptor\",\"dendrogram\"])+\".png\"\n",
    "print(filename)\n",
    "fig.tight_layout()\n",
    "fig.savefig(os.path.join(METADATA[\"outputdir\"], filename))"
   ]
  },
  {
   "cell_type": "code",
   "execution_count": null,
   "id": "35a66094-35a8-415b-ab8e-4780bd70ee4b",
   "metadata": {},
   "outputs": [],
   "source": []
  },
  {
   "cell_type": "code",
   "execution_count": null,
   "id": "2e09970f-9fd1-4990-81d6-3f590d039cae",
   "metadata": {},
   "outputs": [],
   "source": []
  }
 ],
 "metadata": {
  "kernelspec": {
   "display_name": "Python 3 (ipykernel)",
   "language": "python",
   "name": "python3"
  },
  "language_info": {
   "codemirror_mode": {
    "name": "ipython",
    "version": 3
   },
   "file_extension": ".py",
   "mimetype": "text/x-python",
   "name": "python",
   "nbconvert_exporter": "python",
   "pygments_lexer": "ipython3",
   "version": "3.9.18"
  }
 },
 "nbformat": 4,
 "nbformat_minor": 5
}
