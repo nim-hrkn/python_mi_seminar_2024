{
 "cells": [
  {
   "cell_type": "code",
   "execution_count": null,
   "id": "d8420400-4f43-4695-84dc-6a2eb99db132",
   "metadata": {},
   "outputs": [],
   "source": [
    "import numpy as np\n",
    "import pandas as pd\n",
    "import matplotlib.pylab as plt\n",
    "%matplotlib inline\n",
    "import get_data\n",
    "df_new, descriptor_names, splabel = get_data.load(\"Carbon8_desc\")\n",
    "from sklearn.preprocessing import StandardScaler\n",
    "Xraw = df_new[descriptor_names].values\n",
    "scaler = StandardScaler()\n",
    "scaler.fit(Xraw)\n",
    "Xraw_new = df_new[descriptor_names].values\n",
    "X_new = scaler.transform(Xraw_new)\n",
    "from clustering_misc import make_df_sample\n",
    "\n",
    "X_sample, ans_list_sample = make_df_sample(df_new, descriptor_names, \n",
    "                                           n=3, group_name=splabel)\n"
   ]
  },
  {
   "cell_type": "markdown",
   "id": "a717a226-eb5b-4efb-8a8a-c0c47ea809ad",
   "metadata": {},
   "source": [
    "User:\n",
    "\n",
    "```\n",
    "以下のPythonコードを書け。\n",
    "# 入力\n",
    "X_sample: 説明変数\n",
    "ans_list_sample: データインスタンスの名前\n",
    "# 過程\n",
    "euclidean距離でデータセットX_sample内のすべてのペア間のユークリッド距離(pairdistance)を計算します。\n",
    "計算されたペアワイズ距離(pairdistance)に基づいてcomplete linkageで階層的クラスタリングを実行します。結果をZとします。\n",
    "階層的クラスタリングの結果（Z)をデンドログラムとして表示します。\n",
    "```\n",
    "\n",
    "Microsoft copilot:\n",
    "\n",
    "```\n",
    "\n",
    "import numpy as np\n",
    "from scipy.spatial.distance import pdist, squareform\n",
    "from scipy.cluster.hierarchy import linkage, dendrogram\n",
    "import matplotlib.pyplot as plt\n",
    "\n",
    "# X_sample: 説明変数\n",
    "# ans_list_sample: データインスタンスの名前\n",
    "\n",
    "# euclidean距離でデータセットX_sample内のすべてのペア間のユークリッド距離(pairdistance)を計算します。\n",
    "pairdistance = pdist(X_sample, 'euclidean')\n",
    "\n",
    "# 計算されたペアワイズ距離(pairdistance)に基づいてcomplete linkageで階層的クラスタリングを実行します。結果をZとします。\n",
    "Z = linkage(pairdistance, 'complete')\n",
    "\n",
    "# 階層的クラスタリングの結果（Z)をデンドログラムとして表示します。\n",
    "plt.figure(figsize=(7, 5))\n",
    "plt.title('Hierarchical Clustering Dendrogram')\n",
    "plt.xlabel('sample index')\n",
    "plt.ylabel('distance')\n",
    "dendrogram(Z, leaf_rotation=90., leaf_font_size=8., labels = ans_list_sample)\n",
    "plt.show()\n",
    "\n",
    "```"
   ]
  },
  {
   "cell_type": "code",
   "execution_count": null,
   "id": "cc8ebced-c5b3-4beb-9bfb-b251c86048c7",
   "metadata": {},
   "outputs": [],
   "source": [
    "# 図サイズが大きすぎるので小さく修正\n",
    "\n",
    "import numpy as np\n",
    "from scipy.spatial.distance import pdist, squareform\n",
    "from scipy.cluster.hierarchy import linkage, dendrogram\n",
    "import matplotlib.pyplot as plt\n",
    "\n",
    "# X_sample: 説明変数\n",
    "# ans_list_sample: データインスタンスの名前\n",
    "\n",
    "# euclidean距離でデータセットX_sample内のすべてのペア間のユークリッド距離(pairdistance)を計算します。\n",
    "pairdistance = pdist(X_sample, 'euclidean')\n",
    "\n",
    "# 計算されたペアワイズ距離(pairdistance)に基づいてcomplete linkageで階層的クラスタリングを実行します。結果をZとします。\n",
    "Z = linkage(pairdistance, 'complete')\n",
    "\n",
    "# 階層的クラスタリングの結果（Z)をデンドログラムとして表示します。\n",
    "plt.figure(figsize=(7, 5))\n",
    "plt.title('Hierarchical Clustering Dendrogram')\n",
    "plt.xlabel('sample index')\n",
    "plt.ylabel('distance')\n",
    "dendrogram(Z, leaf_rotation=90., leaf_font_size=8., labels = ans_list_sample)\n",
    "plt.show()\n"
   ]
  },
  {
   "cell_type": "code",
   "execution_count": null,
   "id": "afc9b24f-fe18-45ee-910d-208605c618b5",
   "metadata": {},
   "outputs": [],
   "source": []
  }
 ],
 "metadata": {
  "kernelspec": {
   "display_name": "Python 3 (ipykernel)",
   "language": "python",
   "name": "python3"
  },
  "language_info": {
   "codemirror_mode": {
    "name": "ipython",
    "version": 3
   },
   "file_extension": ".py",
   "mimetype": "text/x-python",
   "name": "python",
   "nbconvert_exporter": "python",
   "pygments_lexer": "ipython3",
   "version": "3.9.18"
  }
 },
 "nbformat": 4,
 "nbformat_minor": 5
}
