{
 "cells": [
  {
   "cell_type": "markdown",
   "id": "5a6d12f5-ecb0-4cc8-9ea3-d23e8f3bad78",
   "metadata": {},
   "source": [
    "# 連続セミナー\n",
    "\n",
    "## 第四回 \n",
    "\n",
    "- 110. 次元圧縮を併用したクラスタリング,\n",
    "[110.hea4_dos_clustering/110.001.title.ipynb](110.hea4_dos_clustering/110.001.title.ipynb)\n",
    "\n",
    "- 120. トモグラフ像の復元,\n",
    "[120.tomography/120.001.title.ipynb](120.tomography/120.001.title.ipynb)"
   ]
  },
  {
   "cell_type": "markdown",
   "id": "9386cc7d-d063-4f45-887f-28eaaa6fca75",
   "metadata": {},
   "source": [
    "## 第五回 \n",
    "\n",
    "- 130.説明変数重要性, \n",
    "[130.descriptor_importance/130.001.title.ipynb](130.descriptor_importance/130.001.title.ipynb)\n",
    "\n",
    "- 140.モデル全探索による説明変数重要性,\n",
    "[140.exhaustive_search/140.001.title.ipynb](140.exhaustive_search/140.001.title.ipynb)"
   ]
  },
  {
   "cell_type": "markdown",
   "id": "d4ed8228-f0f1-40d9-b19c-91f24474a51a",
   "metadata": {},
   "source": [
    "## 第六回 \n",
    "\n",
    "- 150.ベイズ最適化, \n",
    "[150.Bayesian_optimization/150.001.title.ipynb](150.Bayesian_optimization/150.001.title.ipynb)\n",
    "\n",
    "- 160.推薦システム,\n",
    "[160.recommender_system/160.001.title.ipynb](160.recommender_system/160.001.title.ipynb)"
   ]
  }
 ],
 "metadata": {
  "kernelspec": {
   "display_name": "Python 3 (ipykernel)",
   "language": "python",
   "name": "python3"
  },
  "language_info": {
   "codemirror_mode": {
    "name": "ipython",
    "version": 3
   },
   "file_extension": ".py",
   "mimetype": "text/x-python",
   "name": "python",
   "nbconvert_exporter": "python",
   "pygments_lexer": "ipython3",
   "version": "3.9.15"
  }
 },
 "nbformat": 4,
 "nbformat_minor": 5
}
