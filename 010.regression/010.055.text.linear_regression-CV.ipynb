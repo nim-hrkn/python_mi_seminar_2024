{
 "cells": [
  {
   "cell_type": "code",
   "execution_count": null,
   "id": "b25b5209",
   "metadata": {},
   "outputs": [],
   "source": [
    "import numpy as np\n",
    "import pandas as pd\n",
    "import matplotlib.pyplot as plt\n",
    "np.set_printoptions(precision=3)\n",
    "DATA_NAME = \"x5_sin\" # ReCo\n"
   ]
  },
  {
   "cell_type": "code",
   "execution_count": null,
   "id": "707e40cf-7dfd-4bfb-aa47-f8bf5a0ad13d",
   "metadata": {},
   "outputs": [],
   "source": [
    "import get_data\n",
    "df_obs,descriptor_names, target_name = get_data.load(DATA_NAME)\n",
    "Xraw = df_obs.loc[:, descriptor_names].values\n",
    "y = df_obs.loc[:, target_name].values\n"
   ]
  },
  {
   "cell_type": "code",
   "execution_count": null,
   "id": "e149fb5c",
   "metadata": {},
   "outputs": [],
   "source": [
    "from sklearn.preprocessing import StandardScaler\n",
    "scaler = StandardScaler()\n",
    "scaler.fit(Xraw)\n",
    "X = scaler.transform(Xraw)\n"
   ]
  },
  {
   "cell_type": "code",
   "execution_count": null,
   "id": "23b8561f",
   "metadata": {},
   "outputs": [],
   "source": [
    "from sklearn.linear_model import Lasso\n",
    "from sklearn.metrics import r2_score\n",
    "from sklearn.model_selection import KFold\n",
    "# 計算パラメタ設定\n",
    "N_SPLITS = 5\n",
    "SHUFFLE = True\n",
    "score_function = r2_score\n",
    "# 性能評価値を保存する変数の定義\n",
    "train_score_list = []\n",
    "test_score_list = []\n",
    "alpha_list = np.logspace(-5, 2, 20)\n",
    "# hyperparameter loop\n",
    "for alpha in alpha_list:\n",
    "    reg = Lasso(alpha=alpha)\n",
    "    # CV setting\n",
    "    kf = KFold(n_splits=N_SPLITS, shuffle=SHUFFLE,\n",
    "               random_state=1)\n",
    "    # CV loop\n",
    "    cv_train_score_list = []\n",
    "    cv_test_score_list = []\n",
    "    for train, test in kf.split(X):\n",
    "        Xtrain, ytrain = X[train], y[train]\n",
    "        Xtest, ytest = X[test], y[test]\n",
    "        reg.fit(Xtrain, ytrain)\n",
    "        ytrainp = reg.predict(Xtrain)\n",
    "        ytestp = reg.predict(Xtest)\n",
    "        # 評価指標の計算と保存\n",
    "        trainscore = score_function(ytrain, ytrainp)\n",
    "        cv_train_score_list.append(trainscore)\n",
    "        testscore = score_function(ytest, ytestp)\n",
    "        cv_test_score_list.append(testscore)\n",
    "    train_score_list.append([np.mean(cv_train_score_list), \n",
    "                             np.std(cv_train_score_list), alpha])\n",
    "    test_score_list.append([np.mean(cv_test_score_list), \n",
    "                            np.std(cv_test_score_list), alpha])"
   ]
  },
  {
   "cell_type": "code",
   "execution_count": null,
   "id": "e518a11c",
   "metadata": {},
   "outputs": [],
   "source": [
    "columns_list = [\"mean(R2)_train\", \"std(R2)_train\", \"alpha\"]\n",
    "df_train_score = pd.DataFrame(train_score_list, columns=columns_list)\n",
    "columns_list = [\"mean(R2)_test\", \"std(R2)_test\", \"alpha\"]\n",
    "df_test_score = pd.DataFrame(test_score_list, columns=columns_list)\n",
    "df_score = df_train_score.merge(df_test_score, on=\"alpha\")"
   ]
  },
  {
   "cell_type": "code",
   "execution_count": null,
   "id": "95443956",
   "metadata": {},
   "outputs": [],
   "source": [
    "df_score"
   ]
  },
  {
   "cell_type": "code",
   "execution_count": null,
   "id": "ddeb46b7",
   "metadata": {},
   "outputs": [],
   "source": [
    "from regression_misc import plot_alpha_yerror\n",
    "plot_alpha_yerror(df_score)"
   ]
  },
  {
   "cell_type": "code",
   "execution_count": null,
   "id": "43fb02d5",
   "metadata": {},
   "outputs": [],
   "source": [
    "imax = np.argmax(df_score[\"mean(R2)_test\"])\n",
    "alpha_opt = df_score.loc[imax, \"alpha\"]\n",
    "print(\"alpha_opt\", alpha_opt)\n",
    "reg = Lasso(alpha=alpha_opt)\n",
    "reg.fit(X, y)\n",
    "print(reg.coef_, reg.intercept_)\n",
    "yp = reg.predict(X)"
   ]
  },
  {
   "cell_type": "code",
   "execution_count": null,
   "id": "fe0d8787",
   "metadata": {},
   "outputs": [],
   "source": [
    "from regression_misc import plot_y_yp\n",
    "\n",
    "reg = Lasso(alpha=alpha_opt)\n",
    "kf = KFold(n_splits=N_SPLITS, shuffle=SHUFFLE, random_state=1)\n",
    "ytest_list = []\n",
    "ytestp_list = []\n",
    "# CV loop\n",
    "for train, test in kf.split(X):\n",
    "    Xtrain, ytrain = X[train], y[train]\n",
    "    Xtest, ytest = X[test], y[test]\n",
    "    # 学習\n",
    "    reg.fit(Xtrain, ytrain)\n",
    "    ytrainp = reg.predict(Xtrain)\n",
    "    ytestp = reg.predict(Xtest)\n",
    "    ytest_list.append(ytest.tolist())\n",
    "    ytestp_list.append(ytestp.tolist())\n",
    "    \n",
    "# 可視化\n",
    "plot_y_yp(ytest_list, ytestp_list)\n"
   ]
  },
  {
   "cell_type": "code",
   "execution_count": null,
   "id": "5a8de00e",
   "metadata": {},
   "outputs": [],
   "source": [
    "# ..._new.csvが存在しないDATA_NAMEは以下は動作しない。\n",
    "\n",
    "df_new,descriptor_names, target_name = get_data.load(DATA_NAME+\"_new\")\n",
    "\n",
    "Xraw_new = df_new.loc[:, descriptor_names].values\n",
    "ynew = df_new.loc[:, target_name].values\n",
    "Xnew = scaler.transform(Xraw_new)\n",
    "ynewp = reg.predict(Xnew)\n"
   ]
  },
  {
   "cell_type": "code",
   "execution_count": null,
   "id": "58b06d83-0b69-4990-bde9-0b85c9365516",
   "metadata": {},
   "outputs": [],
   "source": []
  },
  {
   "cell_type": "code",
   "execution_count": null,
   "id": "595cc771",
   "metadata": {},
   "outputs": [],
   "source": [
    "\n",
    "def plot_y_yp(y, yp, title: str = None, tickfontsize=15, labelfontsize=15):\n",
    "    \"\"\"y vs ypを図示する．\n",
    "\n",
    "    Args:\n",
    "        y (np.ndarray): 目的変数値\n",
    "        yp (np.ndarray|list): 目的変数予測値, 1D or 2D.\n",
    "        title (str, optional): 図のtitle. Defaults to None.\n",
    "        tickfontsize (int, optional): tick font size. Defaults to 15.\n",
    "        labelfontsize (int, optional): tick font size. Defaults to 15.\n",
    "    \"\"\"\n",
    "    fig, ax = plt.subplots(figsize=(5, 5))\n",
    "\n",
    "    # $y^{obs}$ vs $y^{predict}$\n",
    "    for y1, yp1 in zip(y, yp):\n",
    "        ax.plot(y1, yp1, \"o\")\n",
    "\n",
    "    # 斜め線を引く\n",
    "    # check y is 1 dim or 2dim\n",
    "    if len(y[0].shape)>0:\n",
    "        y = np.concatenate(y)\n",
    "        yp = np.concatenate(yp)\n",
    "    yall = np.hstack([y,yp])\n",
    "    ylim = yall.min(), yall.max()\n",
    "    ax.plot(ylim, ylim, \"--\")\n",
    "\n",
    "    # labelを書く\n",
    "    ax.set_xlabel(\"$y_{obs}$\", fontsize=labelfontsize)\n",
    "    ax.set_ylabel(\"$y_{pred}$\", fontsize=labelfontsize)\n",
    "    if title is not None:\n",
    "        ax.title(title)\n",
    "    ax.tick_params(axis=\"x\", labelsize=tickfontsize)\n",
    "    ax.tick_params(axis=\"y\", labelsize=tickfontsize)\n",
    "    fig.tight_layout()\n",
    "\n",
    "\n",
    "plot_y_yp(ynew, ynewp)\n"
   ]
  },
  {
   "cell_type": "code",
   "execution_count": null,
   "id": "780a0922",
   "metadata": {},
   "outputs": [],
   "source": [
    "from regression_misc import plot_x1_y\n",
    "plot_x1_y(X, y, yp, Xnew, ynew, ynewp )"
   ]
  },
  {
   "cell_type": "code",
   "execution_count": null,
   "id": "383ae93b",
   "metadata": {},
   "outputs": [],
   "source": [
    "from sklearn.linear_model import LassoCV\n",
    "kf = KFold(N_SPLITS, shuffle=True, random_state=1)\n",
    "reg = LassoCV(cv=kf, alphas=alpha_list)\n",
    "reg.fit(X, y)\n",
    "print(\"alpha\", reg.alpha_)\n",
    "print(\"coef\", reg.coef_)"
   ]
  },
  {
   "cell_type": "code",
   "execution_count": null,
   "id": "3755dfe0",
   "metadata": {
    "tags": []
   },
   "outputs": [],
   "source": [
    "from sklearn.model_selection import cross_val_score\n",
    "from sklearn.metrics import make_scorer\n",
    "result = []\n",
    "for alpha in alpha_list:\n",
    "    kf = KFold(N_SPLITS, shuffle=True, random_state=1)\n",
    "    reg = Lasso(alpha=alpha)\n",
    "    score_test = cross_val_score(reg, X, y, cv=kf, \n",
    "                                 scoring=make_scorer(r2_score))\n",
    "    result.append([alpha, np.mean(score_test), np.std(score_test)])\n",
    "df_result = pd.DataFrame(result, \n",
    "                         columns=[\"alpha\", \"mean(R2)_test\", \"std(R2)_test\"])\n",
    "plot_alpha_yerror(df_result)\n"
   ]
  },
  {
   "cell_type": "code",
   "execution_count": null,
   "id": "6b5e0c0a-ee38-4baf-b4e9-b9aace6b34f2",
   "metadata": {},
   "outputs": [],
   "source": []
  },
  {
   "cell_type": "code",
   "execution_count": null,
   "id": "d9847e01-eae0-4322-ae14-e3af728980e8",
   "metadata": {},
   "outputs": [],
   "source": [
    "from sklearn.model_selection import cross_val_score\n",
    "from sklearn.metrics import make_scorer\n",
    "result_coef = []\n",
    "for alpha in alpha_list:\n",
    "    reg = Lasso(alpha=alpha)\n",
    "    reg.fit(X,y)\n",
    "    result_coef.append(reg.coef_)\n",
    "df_coef = pd.DataFrame(result_coef, columns=descriptor_names)\n",
    "df_alpha = pd.DataFrame({\"alpha\":alpha_list})\n",
    "df_coef = df_coef.merge(df_alpha, left_index=True, right_index=True)\n",
    "df_coef.plot(x=\"alpha\", marker=\"o\", logx=True)\n",
    "df_coef"
   ]
  },
  {
   "cell_type": "code",
   "execution_count": null,
   "id": "db47559e-08fc-4572-8d9b-5fb1fc41f4d7",
   "metadata": {},
   "outputs": [],
   "source": []
  }
 ],
 "metadata": {
  "kernelspec": {
   "display_name": "Python 3 (ipykernel)",
   "language": "python",
   "name": "python3"
  },
  "language_info": {
   "codemirror_mode": {
    "name": "ipython",
    "version": 3
   },
   "file_extension": ".py",
   "mimetype": "text/x-python",
   "name": "python",
   "nbconvert_exporter": "python",
   "pygments_lexer": "ipython3",
   "version": "3.9.18"
  }
 },
 "nbformat": 4,
 "nbformat_minor": 5
}
