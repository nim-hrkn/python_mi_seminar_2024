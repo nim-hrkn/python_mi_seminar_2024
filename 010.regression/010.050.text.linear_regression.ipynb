{
 "cells": [
  {
   "cell_type": "code",
   "execution_count": null,
   "id": "6015362b",
   "metadata": {},
   "outputs": [],
   "source": [
    "import numpy as np\n",
    "import pandas as pd\n",
    "import os\n",
    "import matplotlib.pyplot as plt\n",
    "ROOT = \"..\"\n",
    "filename = f\"{ROOT}/data_calculated/x5_sin.csv\"\n",
    "DESCRIPTOR_NAMES = ['x1', 'x2', 'x3', 'x4', 'x5', 'x6']\n",
    "TARGET_NAME = \"y\"\n",
    "df_obs = pd.read_csv(filename)\n",
    "Xraw = df_obs.loc[:, DESCRIPTOR_NAMES].values\n",
    "y = df_obs.loc[:, TARGET_NAME].values"
   ]
  },
  {
   "cell_type": "code",
   "execution_count": null,
   "id": "6dfc5a45",
   "metadata": {},
   "outputs": [],
   "source": [
    "from sklearn.preprocessing import StandardScaler\n",
    "scaler = StandardScaler()\n",
    "scaler.fit(Xraw)\n",
    "X = scaler.transform(Xraw)"
   ]
  },
  {
   "cell_type": "code",
   "execution_count": null,
   "id": "5e410144-d3a0-4346-bd56-c945ec822739",
   "metadata": {},
   "outputs": [],
   "source": [
    "from sklearn.model_selection import train_test_split\n",
    "Xtrain, Xtest, ytrain, ytest = \\\n",
    "                        train_test_split(X, y, test_size=0.25,\n",
    "                                         shuffle=True, random_state=1)\n"
   ]
  },
  {
   "cell_type": "code",
   "execution_count": null,
   "id": "d3ceeb58",
   "metadata": {},
   "outputs": [],
   "source": [
    "from sklearn.linear_model import LinearRegression\n",
    "reg = LinearRegression()\n",
    "reg.fit(Xtrain, ytrain)\n",
    "print(\"coef\", reg.coef_)\n",
    "print(\"intercept\", reg.intercept_)"
   ]
  },
  {
   "cell_type": "code",
   "execution_count": null,
   "id": "fb301a77",
   "metadata": {},
   "outputs": [],
   "source": [
    "ytrainp = reg.predict(Xtrain)\n",
    "ytestp = reg.predict(Xtest)"
   ]
  },
  {
   "cell_type": "code",
   "execution_count": null,
   "id": "079a231c",
   "metadata": {},
   "outputs": [],
   "source": [
    "from sklearn.metrics import r2_score\n",
    "from sklearn.metrics import mean_squared_error\n",
    "from sklearn.metrics import mean_absolute_error\n",
    "rmse = np.sqrt(mean_squared_error(ytest, ytestp))\n",
    "mae = mean_absolute_error(ytest, ytestp)\n",
    "r2 = r2_score(ytest, ytestp)\n",
    "print(\"RMSE, MAE, R2\", rmse, mae, r2)"
   ]
  },
  {
   "cell_type": "code",
   "execution_count": null,
   "id": "105f81cd",
   "metadata": {},
   "outputs": [],
   "source": [
    "filename_new = \"../data_calculated/x5_sin_new.csv\"\n",
    "df_new = pd.read_csv(filename_new)\n",
    "Xraw_new = df_new.loc[:, DESCRIPTOR_NAMES].values\n",
    "ynew = df_new.loc[:, TARGET_NAME].values\n",
    "Xnew = scaler.transform(Xraw_new)\n",
    "ynewp = reg.predict(Xnew)"
   ]
  },
  {
   "cell_type": "code",
   "execution_count": null,
   "id": "488c8bce",
   "metadata": {},
   "outputs": [],
   "source": [
    "fig, axes = plt.subplots(1, 2)\n",
    "axes[0].plot(Xraw[:,0],Xraw[:,1:], \".-\")\n",
    "axes[1].plot(X[:,0],X[:,1:], \".-\")\n",
    "plt.xlabel(\"x1\")\n",
    "plt.ylabel(\"y\")\n",
    "plt.show()"
   ]
  },
  {
   "cell_type": "code",
   "execution_count": null,
   "id": "6961b799-5dbb-4370-8be2-6e3fb2e0f4c9",
   "metadata": {},
   "outputs": [],
   "source": []
  },
  {
   "cell_type": "code",
   "execution_count": null,
   "id": "ac41349e",
   "metadata": {},
   "outputs": [],
   "source": [
    "plt.plot(X[:, 0], X[:, 1:], \".-\")\n",
    "plt.plot(Xnew[:, 0], Xnew[:, 1:], \"o\")\n",
    "plt.xlabel(\"x1\")\n",
    "plt.ylabel(\"X\")\n",
    "plt.show()"
   ]
  },
  {
   "cell_type": "code",
   "execution_count": null,
   "id": "e2b5797e",
   "metadata": {},
   "outputs": [],
   "source": [
    "plt.plot(Xtrain[:, 0], Xtrain[:, 1:], \".\")\n",
    "plt.plot(Xtest[:, 0], Xtest[:, 1:], \"o\", \n",
    "         markersize=10)\n",
    "plt.tight_layout()\n",
    "plt.show()"
   ]
  },
  {
   "cell_type": "code",
   "execution_count": null,
   "id": "d863f172",
   "metadata": {
    "tags": []
   },
   "outputs": [],
   "source": [
    "fig, axes = plt.subplots(1, 2)\n",
    "# 左パネル\n",
    "axes[0].plot(ytrain, ytrainp, \".\")\n",
    "axes[0].plot(ytest, ytestp, \"o\")\n",
    "axes[0].set_aspect(\"equal\", \"box\")\n",
    "# 右パネル\n",
    "axes[1].plot(ynew, ynewp, \"x\")\n",
    "axes[1].set_aspect(\"equal\", \"box\")\n",
    "fig.tight_layout()\n",
    "plt.show()"
   ]
  }
 ],
 "metadata": {
  "kernelspec": {
   "display_name": "scikit",
   "language": "python",
   "name": "scikit"
  },
  "language_info": {
   "codemirror_mode": {
    "name": "ipython",
    "version": 3
   },
   "file_extension": ".py",
   "mimetype": "text/x-python",
   "name": "python",
   "nbconvert_exporter": "python",
   "pygments_lexer": "ipython3",
   "version": "3.9.15"
  }
 },
 "nbformat": 4,
 "nbformat_minor": 5
}
