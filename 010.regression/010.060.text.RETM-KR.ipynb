{
 "cells": [
  {
   "cell_type": "code",
   "execution_count": null,
   "id": "33582811-b1e0-46a6-9676-d7a6581d17ab",
   "metadata": {},
   "outputs": [],
   "source": [
    "import numpy as np\n",
    "import pandas as pd\n",
    "import matplotlib.pyplot as plt\n",
    "RANDOM_STATE = 5\n",
    "DATA_NAME = \"ReCo\""
   ]
  },
  {
   "cell_type": "code",
   "execution_count": null,
   "id": "4a9a70dd-b298-43bb-a943-2b12dfca4a03",
   "metadata": {},
   "outputs": [],
   "source": [
    "import get_data\n",
    "df_obs,descriptor_names, target_name = get_data.load(DATA_NAME)\n",
    "Xraw = df_obs.loc[:, descriptor_names].values\n",
    "y = df_obs.loc[:, target_name].values"
   ]
  },
  {
   "cell_type": "code",
   "execution_count": null,
   "id": "e149fb5c",
   "metadata": {},
   "outputs": [],
   "source": [
    "from sklearn.preprocessing import StandardScaler\n",
    "scaler = StandardScaler()\n",
    "scaler.fit(Xraw)\n",
    "X = scaler.transform(Xraw)\n"
   ]
  },
  {
   "cell_type": "code",
   "execution_count": null,
   "id": "76b12ae7",
   "metadata": {},
   "outputs": [],
   "source": [
    "from sklearn.model_selection import KFold\n",
    "from sklearn.kernel_ridge import KernelRidge\n",
    "from sklearn.model_selection import GridSearchCV\n",
    "# データからの学習\n",
    "nfold = 10\n",
    "kf = KFold(nfold, shuffle=True, random_state=RANDOM_STATE)\n",
    "estimator = KernelRidge(alpha=1, gamma=1, kernel=\"rbf\")\n",
    "param_grid = {\"alpha\": np.logspace(-6, 0, 11), \n",
    "              \"gamma\": np.logspace(-5, 0, 11)}\n",
    "reg_cv = GridSearchCV(estimator,  cv=kf, param_grid=param_grid, scoring='r2') #, verbose=2)\n",
    "reg_cv.fit(X, y)\n",
    "print(\"best hyperparameter\")\n",
    "print(reg_cv.best_params_)\n",
    "print(\"best score\")\n",
    "print(reg_cv.best_score_)"
   ]
  },
  {
   "cell_type": "code",
   "execution_count": null,
   "id": "81eb666f-54b7-4025-ae51-2414d6760b66",
   "metadata": {},
   "outputs": [],
   "source": []
  },
  {
   "cell_type": "code",
   "execution_count": null,
   "id": "7363ce2b",
   "metadata": {},
   "outputs": [],
   "source": [
    "from regression_misc import plot_y_yp\n",
    "from sklearn.metrics import r2_score\n",
    "yp = reg_cv.predict(X)\n",
    "# R2の評価\n",
    "kr_score = r2_score(y, yp)\n",
    "print(\"R2=\", kr_score)\n",
    "plot_y_yp(y, yp)\n"
   ]
  },
  {
   "cell_type": "code",
   "execution_count": null,
   "id": "6ed4f799",
   "metadata": {},
   "outputs": [],
   "source": [
    "from sklearn.model_selection import cross_validate, cross_val_predict\n",
    "from sklearn.metrics import make_scorer\n",
    "kf = KFold(nfold, shuffle=True, random_state=RANDOM_STATE)\n",
    "reg = KernelRidge(alpha=reg_cv.best_params_[\"alpha\"], \n",
    "                  gamma=reg_cv.best_params_[\"gamma\"], kernel=\"rbf\")\n",
    "\n",
    "cv_results = cross_validate(reg, X, y, scoring=make_scorer(r2_score), cv=kf)\n",
    "print(np.mean(cv_results[\"test_score\"]), np.std(cv_results[\"test_score\"]))\n",
    "\n",
    "kf = KFold(nfold, shuffle=True, random_state=RANDOM_STATE)\n",
    "yp = cross_val_predict(reg, X, y, cv=kf)\n",
    "plot_y_yp(y, yp)"
   ]
  },
  {
   "cell_type": "code",
   "execution_count": null,
   "id": "fba0ac5a-4d8d-4eb2-853b-bd2ac856161e",
   "metadata": {},
   "outputs": [],
   "source": []
  }
 ],
 "metadata": {
  "kernelspec": {
   "display_name": "Python 3 (ipykernel)",
   "language": "python",
   "name": "python3"
  },
  "language_info": {
   "codemirror_mode": {
    "name": "ipython",
    "version": 3
   },
   "file_extension": ".py",
   "mimetype": "text/x-python",
   "name": "python",
   "nbconvert_exporter": "python",
   "pygments_lexer": "ipython3",
   "version": "3.9.15"
  }
 },
 "nbformat": 4,
 "nbformat_minor": 5
}
