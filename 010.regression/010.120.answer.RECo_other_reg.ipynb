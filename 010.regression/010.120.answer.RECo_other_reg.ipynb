{
 "cells": [
  {
   "cell_type": "code",
   "execution_count": null,
   "metadata": {},
   "outputs": [],
   "source": [
    "from sklearn.metrics import mean_squared_error\n",
    "from sklearn.model_selection import KFold, LeaveOneOut\n",
    "from sklearn.preprocessing import StandardScaler, MinMaxScaler\n",
    "import pandas as pd\n",
    "import sys\n",
    "import numpy as np\n",
    "import matplotlib.pyplot as plt\n",
    "\n",
    "%matplotlib inline\n",
    "\n",
    "pd.set_option(\"display.max_columns\", 60)\n",
    "pd.set_option(\"display.max_rows\", 10)\n",
    "\n",
    "DATA_NAME = \"ReCo\""
   ]
  },
  {
   "cell_type": "code",
   "execution_count": null,
   "metadata": {},
   "outputs": [],
   "source": [
    "import get_data\n",
    "g_df,g_descriptor_names, g_target_name = get_data.load(DATA_NAME)\n"
   ]
  },
  {
   "cell_type": "code",
   "execution_count": null,
   "metadata": {},
   "outputs": [],
   "source": [
    "METADATA = {\"outputdir\": \"image_executed\", \"prefix\": \"randomforest\", \n",
    "              \"dataname\":DATA_NAME}"
   ]
  },
  {
   "cell_type": "code",
   "execution_count": null,
   "metadata": {},
   "outputs": [],
   "source": [
    "# 結果を入れるdict\n",
    "g_result = {}"
   ]
  },
  {
   "cell_type": "code",
   "execution_count": null,
   "metadata": {},
   "outputs": [],
   "source": [
    "g_Xraw = g_df[g_descriptor_names].values\n",
    "g_y = g_df[g_target_name].values\n",
    "\n",
    "# データプリプロセス\n",
    "g_scaler = MinMaxScaler()\n",
    "g_scaler.fit(g_Xraw)\n",
    "g_X = g_scaler.transform(g_Xraw)\n"
   ]
  },
  {
   "cell_type": "code",
   "execution_count": null,
   "metadata": {},
   "outputs": [],
   "source": [
    "g_df"
   ]
  },
  {
   "cell_type": "code",
   "execution_count": null,
   "metadata": {},
   "outputs": [],
   "source": [
    "def show_X(X):\n",
    "    \"\"\"Xの図示\n",
    "\n",
    "    Args:\n",
    "        X (np.ndarray): 説明変数\n",
    "    \"\"\"\n",
    "    fig, ax = plt.subplots()\n",
    "    plt.plot(X, \".-\")\n",
    "    plt.show()\n",
    "show_X(g_X)\n",
    "\n",
    "def show_hist(y):\n",
    "    \"\"\"yの図示\n",
    "\n",
    "    Args:\n",
    "        y (np.ndarray): 目的変数\n",
    "    \"\"\"\n",
    "    fig, ax = plt.subplots()\n",
    "    ax.hist(y)\n",
    "    ax.set_xlabel(\"y\")\n",
    "    fig.show()\n",
    "show_hist(g_y)"
   ]
  },
  {
   "cell_type": "code",
   "execution_count": null,
   "metadata": {},
   "outputs": [],
   "source": []
  },
  {
   "cell_type": "code",
   "execution_count": null,
   "metadata": {},
   "outputs": [],
   "source": [
    "from sklearn.metrics import r2_score\n",
    "from sklearn.ensemble import RandomForestRegressor\n",
    "from sklearn.svm import SVR\n",
    "def make_CV_y_yp_test(X, y,  nsplit=5):\n",
    "    \"\"\"CVによりy, ypを計算する．\n",
    "\n",
    "    Args:\n",
    "        X (np.ndarray): 説明変数．\n",
    "        y (np.ndarray): 目的変数．\n",
    "        nsplit (int, optional): KFoldの分割数. Defaults to 5.\n",
    "\n",
    "    Returns:\n",
    "        tuple containing\n",
    "        \n",
    "        - list[np.ndarray]: a list of y.\n",
    "        - list[np.ndarray]: a list of predicted y.\n",
    "        - list[float]: a list of CV score.\n",
    "    \"\"\"\n",
    "    yp_list = []\n",
    "    y_list = []\n",
    "    score_list = []\n",
    "    kf = KFold(nsplit, shuffle=True)\n",
    "    for train, test in kf.split(X):\n",
    "        Xtrain, ytrain = X[train], y[train]\n",
    "        Xtest, ytest = X[test], y[test]\n",
    "        krcv = RandomForestRegressor()\n",
    "        # krcv = SVR(kernel=\"rbf\", C=10000, gamma=0.1, epsilon=0.1)\n",
    "        # krcv = SVR(kernel=\"linear\", C=10000, gamma=\"auto\")\n",
    "        # krcv = SVR(kernel=\"poly\", C=10000, gamma=\"auto\", degree=3, epsilon=0.1, coef0=1)\n",
    "        krcv.fit(Xtrain, ytrain)\n",
    "        ytestp = krcv.predict(Xtest)\n",
    "        score = r2_score(ytest, ytestp)\n",
    "        score_list.append(score)\n",
    "        y_list.extend(ytest)\n",
    "        yp_list.extend(ytestp)\n",
    "    return y_list, yp_list, score_list\n",
    "\n",
    "g_y_list, g_yp_list, g_score_list = make_CV_y_yp_test(g_X, g_y)"
   ]
  },
  {
   "cell_type": "code",
   "execution_count": null,
   "metadata": {},
   "outputs": [],
   "source": [
    "print(\"R2 CV(test)={}({})\".format(np.mean(g_score_list),np.std(g_score_list)))"
   ]
  },
  {
   "cell_type": "code",
   "execution_count": null,
   "metadata": {},
   "outputs": [],
   "source": [
    "import os\n",
    "def show_y_yp(y,yp, metadata=METADATA, tickfontsize=15, labelfontsize=15):\n",
    "    \"\"\"y vs ypの図示．\n",
    "\n",
    "    Args:\n",
    "        y (np.ndarray): 目的変数観測値\n",
    "        yp (np.ndarray): 目的変数予測値\n",
    "        metadata (dict,optional); 表示用データ. Defaults to METADATA.\n",
    "        tickfontsize (int, optional): ticks fontsize. Defaults to 15.\n",
    "        labelfontsize (int, optional): label fontsize. Defaults to 15.\n",
    "    \"\"\"\n",
    "    fig, ax =plt.subplots(figsize=(5, 5))\n",
    "    ax.plot(y, yp, \"o\")\n",
    "    yall = np.hstack([yp, y])\n",
    "    y1, y2 = np.min(yall), np.max(yall)\n",
    "    ax.plot([y1, y2], [y1, y2], \"--\")  # 対角線を引く\n",
    "    ax.set_xlabel(\"$y_{obs}$\", fontsize=labelfontsize)\n",
    "    ax.set_ylabel(\"$y_{pred}$\", fontsize=labelfontsize)\n",
    "    ax.tick_params(axis = 'x', labelsize =tickfontsize)\n",
    "    ax.tick_params(axis = 'y', labelsize =tickfontsize)\n",
    "    fig.tight_layout()\n",
    "    \n",
    "    filename = \"_\".join([metadata[\"prefix\"], metadata[\"dataname\"],\"yobs_ypredCV\"])+\".pdf\"\n",
    "    print(filename)\n",
    "    fig.savefig(os.path.join(metadata[\"outputdir\"],filename))\n",
    "    \n",
    "show_y_yp(g_y_list, g_yp_list)"
   ]
  },
  {
   "cell_type": "code",
   "execution_count": null,
   "metadata": {},
   "outputs": [],
   "source": []
  },
  {
   "cell_type": "code",
   "execution_count": null,
   "metadata": {},
   "outputs": [],
   "source": []
  }
 ],
 "metadata": {
  "interpreter": {
   "hash": "a7c1a42e9b55c335b292bf0cd62e8217c1bcd210e2e90a5d96f88c002dc1cf38"
  },
  "kernelspec": {
   "display_name": "Python 3 (ipykernel)",
   "language": "python",
   "name": "python3"
  },
  "language_info": {
   "codemirror_mode": {
    "name": "ipython",
    "version": 3
   },
   "file_extension": ".py",
   "mimetype": "text/x-python",
   "name": "python",
   "nbconvert_exporter": "python",
   "pygments_lexer": "ipython3",
   "version": "3.9.15"
  }
 },
 "nbformat": 4,
 "nbformat_minor": 4
}
