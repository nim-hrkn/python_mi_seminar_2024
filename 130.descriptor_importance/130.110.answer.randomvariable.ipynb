{
 "cells": [
  {
   "cell_type": "code",
   "execution_count": null,
   "metadata": {},
   "outputs": [],
   "source": [
    "import warnings\n",
    "import pandas as pd\n",
    "import numpy as np\n",
    "import matplotlib.pyplot as plt\n",
    "%matplotlib inline\n",
    "pd.set_option(\"display.max_rows\", 10)\n",
    "pd.set_option(\"display.max_columns\", 60)\n",
    "# warning messageを出さない\n",
    "warnings.filterwarnings('ignore')\n"
   ]
  },
  {
   "cell_type": "code",
   "execution_count": null,
   "metadata": {},
   "outputs": [],
   "source": [
    "REGNAME = \"KRCV\"  # RF, RidgeCV, KRCV\n",
    "RANDOM_STATE = 1\n",
    "ADD_RANDOM_VAR = True # add random variable or not."
   ]
  },
  {
   "cell_type": "code",
   "execution_count": null,
   "metadata": {},
   "outputs": [],
   "source": [
    "METADATA = {\"outputdir\": \"image_executed\", \"prefix\": \"permutationimportancerandom\", \n",
    "              \"dataname\":\"ReCo\", \n",
    "             \"regtype\":REGNAME, }"
   ]
  },
  {
   "cell_type": "code",
   "execution_count": null,
   "metadata": {},
   "outputs": [],
   "source": [
    "import get_data\n",
    "g_df, g_raw_descriptor_names, g_target_name = get_data.load(\"ReCo\")"
   ]
  },
  {
   "cell_type": "code",
   "execution_count": null,
   "metadata": {},
   "outputs": [],
   "source": [
    "from sklearn.preprocessing import StandardScaler\n",
    "from copy import deepcopy\n",
    "\n",
    "def get_Xy(df, descriptor_names, target_name, add_random_var=True, random_state=RANDOM_STATE):\n",
    "    \"\"\"データからX,yを得る．\n",
    "\n",
    "    N(0,1)なるrandom変数も加える．\n",
    "\n",
    "    Args:\n",
    "        df (pd.DataFrame): データ\n",
    "        descriptor_names (list[str]): 説明変数名リスト\n",
    "        target_name (str): 目的変数名\n",
    "        add_random (bool): add random variable or not. Defaults to True.\n",
    "        add_random_var (int): random_state. Defaults to RANDOM_STATE\n",
    "\n",
    "    Returns:\n",
    "        tuples containing\n",
    "\n",
    "        - np.ndarray: X\n",
    "        - np.ndarray: y\n",
    "        - list[str]: 説明変数名リスト（\"random\"を含む．）\n",
    "    \"\"\"\n",
    "    descriptor_names = deepcopy(descriptor_names)\n",
    "    print(descriptor_names)\n",
    "    df_std = df[descriptor_names].copy()\n",
    "    scaler = StandardScaler()\n",
    "    df_std.iloc[:, :] = scaler.fit_transform(df_std.values)\n",
    "    if add_random_var and random_state is not None:\n",
    "        np.random.seed(random_state)\n",
    "        df_std[\"random\"] = np.random.normal(0, 1, size=df_std.shape[0])\n",
    "        descriptor_names += [\"random\"]\n",
    "    X = df_std.values\n",
    "    y = df[target_name].values\n",
    "    return X, y, descriptor_names\n",
    "\n",
    "\n",
    "g_X, g_y, g_descriptor_names = get_Xy(g_df, g_raw_descriptor_names, g_target_name, \n",
    "                                      add_random_var=ADD_RANDOM_VAR, random_state=RANDOM_STATE)\n",
    "len(g_descriptor_names),g_descriptor_names"
   ]
  },
  {
   "cell_type": "code",
   "execution_count": null,
   "metadata": {},
   "outputs": [],
   "source": [
    "# random values\n",
    "plt.hist(g_X[:,-1])"
   ]
  },
  {
   "cell_type": "code",
   "execution_count": null,
   "metadata": {},
   "outputs": [],
   "source": [
    "def show_X(X):\n",
    "    \"\"\"Xの図示(線画)を行う．\n",
    "\n",
    "    Args:\n",
    "        X (np.ndarray): X\n",
    "    \"\"\"\n",
    "    fig, ax = plt.subplots()\n",
    "    ax.plot(X)\n",
    "    ax.set_xlabel(\"index\")\n",
    "    ax.set_ylabel(\"x\")\n",
    "    fig.show()\n",
    "\n",
    "show_X(g_X)\n",
    "\n",
    "\n",
    "def show_hist(y):\n",
    "    \"\"\"yのヒストグラム表示を行う．\n",
    "\n",
    "    Args:\n",
    "        y (np.ndarray): y\n",
    "    \"\"\"\n",
    "    fig, ax = plt.subplots()\n",
    "    ax.hist(y)\n",
    "    ax.set_xlabel(\"y\")\n",
    "    fig.show()\n",
    "\n",
    "\n",
    "show_hist(g_y)"
   ]
  },
  {
   "cell_type": "code",
   "execution_count": null,
   "metadata": {},
   "outputs": [],
   "source": [
    "from sklearn.ensemble import RandomForestRegressor\n",
    "from sklearn.metrics import r2_score\n",
    "from sklearn.model_selection import KFold\n",
    "from sklearn.linear_model import RidgeCV\n",
    "from sklearn.kernel_ridge import KernelRidge\n",
    "from sklearn.model_selection import GridSearchCV\n",
    "from sklearn.model_selection import KFold\n"
   ]
  },
  {
   "cell_type": "code",
   "execution_count": null,
   "metadata": {},
   "outputs": [],
   "source": [
    "def get_model(regname, X, y, random_state=RANDOM_STATE):\n",
    "    \"\"\"予測モデルを得る\n",
    "\n",
    "    Args:\n",
    "        regname (str): 回帰モデル．\"RF\" or \"RidgeCV\"．\n",
    "        X (np.ndarray): X\n",
    "        y (np.ndarray): y\n",
    "\n",
    "    Returns:\n",
    "        Union[RandomForestRegressor, RidgeCV]: 予測モデル\n",
    "    \"\"\"\n",
    "    if regname == \"RF\":\n",
    "        reg = RandomForestRegressor(n_estimators=100)\n",
    "        reg.fit(X, y)\n",
    "\n",
    "    elif regname == \"RidgeCV\":\n",
    "        kf = KFold(n_splits=10, shuffle=True, random_state=random_state)\n",
    "        reg = RidgeCV(cv=kf)\n",
    "        reg.fit(X, y)\n",
    "        \n",
    "    elif regname == \"KRCV\":\n",
    "        kf = KFold(n_splits=10, shuffle=True, random_state=random_state)\n",
    "        estimator = KernelRidge(alpha=1, gamma=1, kernel=\"rbf\")\n",
    "        reg = GridSearchCV(estimator,\n",
    "                          cv=kf, param_grid={\"alpha\": np.logspace(-6, 0, 11), \"gamma\": np.logspace(-4, 0, 10)})\n",
    "        reg.fit(X, y)\n",
    "        print(reg.best_estimator_)\n",
    "    else:\n",
    "        print(\"unknown regname\", regname)\n",
    "        raise ValueError('unknown regname')\n",
    "    print(\"score\", reg.score(X,y))\n",
    "    return reg\n",
    "\n",
    "g_reg = get_model(REGNAME, g_X, g_y)"
   ]
  },
  {
   "cell_type": "code",
   "execution_count": null,
   "metadata": {},
   "outputs": [],
   "source": [
    "import os\n",
    "def show_rf_importance(reg, descriptor_names, metadata: dict=METADATA):\n",
    "    \"\"\"RandomForestのfeature importanceの図示．\n",
    "\n",
    "    regがRandomForestRegressorでない場合は何もしない．\n",
    "\n",
    "    Args:\n",
    "        reg (Union[RandomForestRegressor, RidgeCV]): 予測モデル\n",
    "        descriptor_names (list[str]): 説明変数名リスト\n",
    "        metadata (dict): 表示用データ. Defaults to METADATA.\n",
    "    \"\"\"\n",
    "    if isinstance(reg,RandomForestRegressor):\n",
    "        reg.feature_importances_\n",
    "        df_rf_imp = pd.DataFrame(\n",
    "            {\"descriptor\": descriptor_names, \"importance\": reg.feature_importances_})\n",
    "        df_rf_imp.sort_values(by=\"importance\", ascending=False, inplace=True)\n",
    "        df_rf_imp.plot.bar(x=\"descriptor\", y=\"importance\",)\n",
    "        plt.yscale('log')\n",
    "        plt.tight_layout()\n",
    "        filename = \"_\".join([metadata[\"prefix\"], metadata[\"dataname\"], metadata[\"regtype\"], \"rf_importance\"])+\".png\"\n",
    "        print(filename)\n",
    "        plt.savefig(os.path.join(metadata[\"outputdir\"],filename))\n",
    "    else:\n",
    "        print(\"not RandomForestRegressor. skipped.\")\n",
    "\n",
    "show_rf_importance(g_reg, g_descriptor_names)"
   ]
  },
  {
   "cell_type": "code",
   "execution_count": null,
   "metadata": {},
   "outputs": [],
   "source": [
    "from sklearn.inspection import permutation_importance\n",
    "g_feature_importance = permutation_importance(\n",
    "    g_reg, g_X, g_y, n_repeats=30, random_state=RANDOM_STATE)\n",
    "g_df_perm = pd.DataFrame(\n",
    "    g_feature_importance[\"importances\"], index=g_descriptor_names).T"
   ]
  },
  {
   "cell_type": "code",
   "execution_count": null,
   "metadata": {},
   "outputs": [],
   "source": [
    "from importance_misc import show_r2_decrease\n",
    "\n",
    "show_r2_decrease(g_df_perm, comment=\"random_var_\"+str(ADD_RANDOM_VAR), metadata=METADATA)"
   ]
  },
  {
   "cell_type": "code",
   "execution_count": null,
   "metadata": {},
   "outputs": [],
   "source": [
    "from sklearn.model_selection import cross_val_score\n",
    "estimator = KernelRidge(alpha=g_reg.best_estimator_.alpha, gamma=g_reg.best_estimator_.gamma, kernel=\"rbf\")\n",
    "NSPLIT=10\n",
    "kf = KFold(NSPLIT, shuffle=True, random_state=RANDOM_STATE)\n",
    "cv_scores = cross_val_score(estimator, g_X, g_y, cv = kf)\n",
    "cv_scores.mean(), cv_scores.std()"
   ]
  },
  {
   "cell_type": "code",
   "execution_count": null,
   "metadata": {},
   "outputs": [],
   "source": []
  }
 ],
 "metadata": {
  "kernelspec": {
   "display_name": "Python 3 (ipykernel)",
   "language": "python",
   "name": "python3"
  },
  "language_info": {
   "codemirror_mode": {
    "name": "ipython",
    "version": 3
   },
   "file_extension": ".py",
   "mimetype": "text/x-python",
   "name": "python",
   "nbconvert_exporter": "python",
   "pygments_lexer": "ipython3",
   "version": "3.9.15"
  }
 },
 "nbformat": 4,
 "nbformat_minor": 4
}
