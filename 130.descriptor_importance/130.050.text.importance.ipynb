{
 "cells": [
  {
   "cell_type": "markdown",
   "id": "2a76bb6b-d437-447f-996e-88fbf204d756",
   "metadata": {},
   "source": [
    "![](image_text/130_01.png)"
   ]
  },
  {
   "cell_type": "markdown",
   "id": "0f0e7038-8df8-4e4b-b3d9-fc429ca74183",
   "metadata": {},
   "source": [
    "![](image_text/130_02.png)"
   ]
  },
  {
   "cell_type": "markdown",
   "id": "7d8de0bf-8138-40b2-939c-c38dbb28ee84",
   "metadata": {},
   "source": [
    "![](image_text/130_03.png)"
   ]
  },
  {
   "cell_type": "markdown",
   "id": "ceb91f90-95d9-43a3-8ebe-6ca1630100b0",
   "metadata": {},
   "source": [
    "![](image_text/130_04.png)"
   ]
  },
  {
   "cell_type": "markdown",
   "id": "37d8a3a6-a9ac-4cb5-81f8-f46b54e24d1a",
   "metadata": {},
   "source": [
    "![](image_text/130_05.png)"
   ]
  },
  {
   "cell_type": "markdown",
   "id": "b993f8f2-95db-4058-be67-ccf3973f8f85",
   "metadata": {},
   "source": [
    "![](image_text/130_06.png)"
   ]
  },
  {
   "cell_type": "code",
   "execution_count": null,
   "id": "fb052dcd",
   "metadata": {},
   "outputs": [],
   "source": [
    "import pandas as pd\n",
    "import sys\n",
    "import numpy as np\n",
    "import matplotlib.pyplot as plt\n",
    "pd.set_option(\"display.max_rows\", 10)\n",
    "pd.set_option(\"display.max_columns\", 60)\n"
   ]
  },
  {
   "cell_type": "code",
   "execution_count": null,
   "id": "aab0a9ab-7adc-48b0-a192-497388ecf55a",
   "metadata": {},
   "outputs": [],
   "source": [
    "YSCALE = \"linear\" # 図のｙ軸, \"linear\", \"log\": \n",
    "RAND_STATE = 20 # permutation importanceの乱数SEED"
   ]
  },
  {
   "cell_type": "code",
   "execution_count": null,
   "id": "878c701c-79d6-4b5e-91a9-4ceb96614d7b",
   "metadata": {},
   "outputs": [],
   "source": [
    "import get_data \n",
    "df, DESCRIPTOR_NAMES, TARGET_NAME = get_data.load(\"ReCo\")\n"
   ]
  },
  {
   "cell_type": "code",
   "execution_count": null,
   "id": "0361dea7",
   "metadata": {},
   "outputs": [],
   "source": [
    "from sklearn.preprocessing import StandardScaler\n",
    "scaler = StandardScaler() # 規格化\n",
    "Xraw = df[DESCRIPTOR_NAMES].values # Xraw(N,P), 生説明変数　\n",
    "scaler.fit(Xraw) \n",
    "X = scaler.transform(Xraw) # X(N,P) 規格化された説明変数\n",
    "y = df[TARGET_NAME].values # y(N) 目的変数\n"
   ]
  },
  {
   "cell_type": "code",
   "execution_count": null,
   "id": "bf73179a",
   "metadata": {},
   "outputs": [],
   "source": [
    "from sklearn.ensemble import RandomForestRegressor\n",
    "from sklearn.metrics import r2_score\n",
    "rf = RandomForestRegressor(n_estimators=100, random_state=1)\n",
    "rf.fit(X, y) # fit（＝回帰モデル生成）でfeature importanceが求まる。\n",
    "print(\"score=\",rf.score(X,y))\n"
   ]
  },
  {
   "cell_type": "code",
   "execution_count": null,
   "id": "60e280c4",
   "metadata": {},
   "outputs": [],
   "source": [
    "# DESCRIPTOR_NAMES: (P), List\n",
    "# rf.feature_importances_: (P), np.ndarray\n",
    "df_rf_imp = pd.DataFrame(\n",
    "    {\"descriptor\": DESCRIPTOR_NAMES,\n",
    "     \"type\": \"RandomForest_feature_importance\", \n",
    "     \"importance\": rf.feature_importances_})\n",
    "# strはDataFrameを作る際に自動的に配列に変換される。\n",
    "# 辞書key \"type\"は後で全部表示させるために用いる。\n",
    "\n",
    "from importance_misc import plot_importance\n",
    "plot_importance(df_rf_imp, \"descriptor\", \"importance\", yscale =YSCALE)\n",
    "# 縦軸YSCALE scaleで棒グラフ表示する。"
   ]
  },
  {
   "cell_type": "code",
   "execution_count": null,
   "id": "55b23dec-ffce-4493-91be-c46bcb14b77a",
   "metadata": {},
   "outputs": [],
   "source": [
    "from sklearn.linear_model import RidgeCV\n",
    "\n",
    "# 線型回帰モデルの例としてRidge回帰を用いる。ハイパーパラメタを自動で求める。\n",
    "ridge = RidgeCV(fit_intercept=True) # Ridge回帰モデル\n",
    "ridge.fit(X, y) # 回帰係数が求まる。\n",
    "print(\"score=\",ridge.score(X,y))\n",
    "print(\"alpha=\", ridge.alpha_)\n",
    "\n",
    "df_ridge_coef = pd.DataFrame(\n",
    "    {\"descriptor\": DESCRIPTOR_NAMES, # DESCRIPTOR_NAMES (List): (P)\n",
    "     \"type\": \"Ridge abs(coef)\", # \n",
    "     \"importance\": np.abs(ridge.coef_)# lr.coef_ (np.ndarray): (P)\n",
    "    })\n",
    "plot_importance(df_ridge_coef, \"descriptor\", \"importance\", yscale =YSCALE)\n"
   ]
  },
  {
   "cell_type": "code",
   "execution_count": null,
   "id": "b13e4411-bb0e-4570-973d-453d491ab853",
   "metadata": {},
   "outputs": [],
   "source": [
    "from sklearn.linear_model import LassoCV\n",
    "\n",
    "# 線型回帰モデルの例としてLasso回帰を用いる。LassoCVでハイパーパラメタを自動で求める。\n",
    "lasso = LassoCV(fit_intercept=True) # Lasso回帰モデル\n",
    "lasso.fit(X, y) # 回帰係数が求まる。\n",
    "print(\"score=\",lasso.score(X,y))\n",
    "print(\"alpha=\", lasso.alpha_)\n",
    "\n",
    "df_lasso_coef = pd.DataFrame(\n",
    "    {\"descriptor\": DESCRIPTOR_NAMES, # DESCRIPTOR_NAMES (List): (P)\n",
    "     \"type\": \"Lasso abs(coef)\", # \n",
    "     \"importance\": np.abs(lasso.coef_)# lr.coef_ (np.ndarray): (P)\n",
    "    })\n",
    "plot_importance(df_lasso_coef, \"descriptor\", \"importance\", yscale =YSCALE)\n"
   ]
  },
  {
   "cell_type": "code",
   "execution_count": null,
   "id": "41e10839-9c57-4059-8492-c32a18a361b9",
   "metadata": {},
   "outputs": [],
   "source": [
    "from sklearn.inspection import permutation_importance\n",
    "\n",
    "from sklearn.kernel_ridge import KernelRidge\n",
    "from sklearn.model_selection import GridSearchCV\n",
    "_kernelridge = KernelRidge(kernel=\"rbf\")\n",
    "kernelridge = GridSearchCV(_kernelridge, \n",
    "                           param_grid={\"alpha\":np.logspace(-5,0,20),\n",
    "                                       \"gamma\":np.logspace(-5,0,20)})\n",
    "kernelridge.fit(X,y) # GridSearchCVのdefaultパラメタの交差検定でKernel Ridge回帰モデルを求める。\n",
    "print(\"score=\",kernelridge.score(X,y))\n",
    "print(\"best_params\", kernelridge.best_params_)\n",
    "\n",
    "# 既に学習された回帰モデルkernelridgeを用いる。以下のX,yはfitに用いなかったデータも使える。\n",
    "perm_kernelridge = permutation_importance(\n",
    "    kernelridge, X, y, n_repeats=30, random_state=RAND_STATE)\n",
    "# perm_kernelridge (dict)\n",
    "# feature importance値が生成された。\n",
    "\n",
    "# perm_kernelridge辞書の中身を見たい場合は以下のコメントアウトを消して実行する。 \n",
    "# print(perm_kernelridge)\n",
    "\n",
    "df_kernelridge_perm = pd.DataFrame({\n",
    "    \"importance\": perm_kernelridge[\"importances_mean\"], # (P), np.ndarray \n",
    "    \"type\": \"KernelRidge_permutation_importances_mean\",  \n",
    "    \"descriptor\": DESCRIPTOR_NAMES}) # (P), List\n",
    "plot_importance(df_kernelridge_perm, \"descriptor\", \"importance\", yscale =YSCALE)\n",
    "# 可視化"
   ]
  },
  {
   "cell_type": "code",
   "execution_count": null,
   "id": "249f6c83-a17c-43a7-995f-dad6498a25ed",
   "metadata": {},
   "outputs": [],
   "source": [
    "from sklearn.neighbors import KNeighborsRegressor\n",
    "knn = KNeighborsRegressor()\n",
    "knn.fit(X,y) # defaultパラメタの交差検定でKNeighborsRegressorモデルを求める。\n",
    "print(\"score=\",knn.score(X,y))\n",
    "# 既に学習された回帰モデルknnを用いる。以下のX,yはfitに用いなかったデータも使える。\n",
    "perm_knn = permutation_importance(\n",
    "    knn, X, y, n_repeats=30, random_state=RAND_STATE)\n",
    "# perm_knn (dict)\n",
    "# feature importance値が生成された。\n",
    "\n",
    "# perm_knn辞書の中身を見たい場合は次行のコメントアウトを消して実行する。 \n",
    "# print(perm_knn)\n",
    "\n",
    "df_knn_perm = pd.DataFrame({\n",
    "    \"importance\": perm_knn[\"importances_mean\"], # (P), np.ndarray \n",
    "    \"type\": \"KNeighbors_permutation_importances_mean\",  \n",
    "    \"descriptor\": DESCRIPTOR_NAMES}) # (P), List\n",
    "plot_importance(df_knn_perm, \"descriptor\", \"importance\", yscale =YSCALE)\n",
    "# 可視化"
   ]
  },
  {
   "cell_type": "code",
   "execution_count": null,
   "id": "b0438a0e",
   "metadata": {},
   "outputs": [],
   "source": [
    "# モデル(rf)はすでに学習されている。以下のX,yはfitに用いなかったデータも使える。\n",
    "perm_imp = permutation_importance(\n",
    "    rf, X, y, n_repeats=30, random_state=RAND_STATE)\n",
    "# perm_imp (dict)\n",
    "# feature importance値が生成された。\n",
    "\n",
    "df_rf_perm = pd.DataFrame({\n",
    "    \"importance\": perm_imp[\"importances_mean\"], # (P), np.ndarray \n",
    "    \"type\": \"RandomForest_permutation_importances_mean\",  \n",
    "    \"descriptor\": DESCRIPTOR_NAMES}) # (P), List\n",
    "plot_importance(df_rf_perm, \"descriptor\", \"importance\", yscale =YSCALE)\n",
    "# 可視化"
   ]
  },
  {
   "cell_type": "code",
   "execution_count": null,
   "id": "4156a57d-2fdb-4dd3-9c36-9475aaa3cda6",
   "metadata": {},
   "outputs": [],
   "source": [
    "# それぞれの手法で値の範囲が大きく異なるので、求めた重要性を全部まとめて可視化するために、\n",
    "# 決定木の重要性定義に合わせて、総和を１に規格化し直す。\n",
    "def df_sum_normalize(df, column=\"importance\"):\n",
    "    \"\"\"renormalize df[column].\n",
    "    It is performed as an in-place DataFrame operation.\n",
    "    \n",
    "    Args:\n",
    "        df (pd.DataFrame): data\n",
    "        column (str): column name to renormalize\n",
    "    \"\"\"\n",
    "    x = df[column].astype(float).values\n",
    "    xsum = np.sum(x)\n",
    "    df[column] = x/xsum\n",
    "    \n",
    "df_sum_normalize(df_ridge_coef)\n",
    "df_sum_normalize(df_lasso_coef)\n",
    "df_sum_normalize(df_kernelridge_perm)\n",
    "df_sum_normalize(df_knn_perm)\n",
    "df_sum_normalize(df_rf_perm)\n",
    "\n",
    "# 全てまとめる。\n",
    "# 都合により決定木の重要性、permutation importance、線型回帰モデル係数の順に並べる。\n",
    "df_result = pd.concat([ df_rf_imp, df_rf_perm, df_kernelridge_perm, df_knn_perm, \n",
    "                       df_ridge_coef, df_lasso_coef,], axis=0)\n"
   ]
  },
  {
   "cell_type": "code",
   "execution_count": null,
   "id": "4bd2d4fe-d3b5-4827-a3cd-7d2007882a4d",
   "metadata": {},
   "outputs": [],
   "source": [
    "fig, ax = plt.subplots()\n",
    "import seaborn as sns\n",
    "ax = sns.barplot(data=df_result, x=\"descriptor\", hue=\"type\", y=\"importance\")\n",
    "ax.tick_params(axis='x', rotation=90) # x軸ラベルを90度回転\n",
    "ax.set_yscale(YSCALE) #y軸のスケールを設定\n"
   ]
  },
  {
   "cell_type": "markdown",
   "id": "1578abaf-029b-4a24-a044-2741cfcd6d3c",
   "metadata": {},
   "source": [
    "![](image_text/130_07.png)"
   ]
  },
  {
   "cell_type": "markdown",
   "id": "afd87371-4e2f-4584-ad81-7f1de13f2243",
   "metadata": {},
   "source": [
    "![](image_text/130_08.png)"
   ]
  },
  {
   "cell_type": "markdown",
   "id": "341391d9-c786-4f00-8fb7-eb8d45f0eae5",
   "metadata": {},
   "source": [
    "![](image_text/130_09.png)"
   ]
  },
  {
   "cell_type": "markdown",
   "id": "76570c5a-fbf8-4b72-a849-5bb79ca2a739",
   "metadata": {},
   "source": [
    "![](image_text/130_10.png)"
   ]
  },
  {
   "cell_type": "code",
   "execution_count": null,
   "id": "77fa7256-115e-4aa8-bc11-a85059ac194f",
   "metadata": {},
   "outputs": [],
   "source": []
  }
 ],
 "metadata": {
  "interpreter": {
   "hash": "631e33aa572fafc0a3f1363c26f0ce938c74d1e4cffe53590bab1ad626e536d6"
  },
  "kernelspec": {
   "display_name": "Python 3 (ipykernel)",
   "language": "python",
   "name": "python3"
  },
  "language_info": {
   "codemirror_mode": {
    "name": "ipython",
    "version": 3
   },
   "file_extension": ".py",
   "mimetype": "text/x-python",
   "name": "python",
   "nbconvert_exporter": "python",
   "pygments_lexer": "ipython3",
   "version": "3.9.15"
  }
 },
 "nbformat": 4,
 "nbformat_minor": 5
}
