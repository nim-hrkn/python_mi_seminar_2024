{
 "cells": [
  {
   "cell_type": "markdown",
   "id": "6adc93a4-7e8a-4b95-abeb-3e63fe67f985",
   "metadata": {},
   "source": [
    "# 次元圧縮を併用したクラスタリング\n",
    "\n",
    "説明とスクリプト\n",
    "[130.050](130.050.text.importance.ipynb)\n"
   ]
  },
  {
   "cell_type": "code",
   "execution_count": null,
   "id": "0be6605e-545c-4ff9-a09e-34867f9218e4",
   "metadata": {},
   "outputs": [],
   "source": []
  }
 ],
 "metadata": {
  "kernelspec": {
   "display_name": "Python 3",
   "language": "python",
   "name": "python3"
  },
  "language_info": {
   "codemirror_mode": {
    "name": "ipython",
    "version": 3
   },
   "file_extension": ".py",
   "mimetype": "text/x-python",
   "name": "python",
   "nbconvert_exporter": "python",
   "pygments_lexer": "ipython3",
   "version": "3.9.12"
  }
 },
 "nbformat": 4,
 "nbformat_minor": 5
}
