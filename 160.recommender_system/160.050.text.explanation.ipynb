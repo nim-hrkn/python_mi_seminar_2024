{
 "cells": [
  {
   "cell_type": "code",
   "execution_count": null,
   "id": "44318f6e",
   "metadata": {},
   "outputs": [],
   "source": [
    "import pandas as pd\n",
    "import seaborn as sns\n",
    "import numpy as np\n",
    "import matplotlib.pyplot as plt\n"
   ]
  },
  {
   "cell_type": "code",
   "execution_count": null,
   "id": "36da9b16",
   "metadata": {},
   "outputs": [],
   "source": [
    "NRANK = 3 # 低ランク近似する次元\n",
    "THRESHOLD = 0.2 # 低ランク近似した次元と元行列の差＞しきい値のセルを明るく表示する。\n"
   ]
  },
  {
   "cell_type": "code",
   "execution_count": null,
   "id": "d2109c0e",
   "metadata": {},
   "outputs": [],
   "source": [
    "ROOT = \"..\"\n",
    "df_orig = pd.read_csv(f\"{ROOT}/data/recommend/example.csv\", index_col=[0])\n",
    "sns.heatmap(df_orig.values)\n"
   ]
  },
  {
   "cell_type": "code",
   "execution_count": null,
   "id": "59d72cb2",
   "metadata": {},
   "outputs": [],
   "source": [
    "X = df_orig.values\n",
    "u, sdiag, v = np.linalg.svd(X) # SVD\n",
    "print(\"u,sdiag,v.shape:\",u.shape, sdiag.shape, v.shape)\n",
    "s = np.zeros((u.shape[1], v.shape[0])) # 10x19の値０の行列作成\n",
    "s[:NRANK, :NRANK] = np.diag(sdiag[:NRANK]) # 対角項をNRANK次元の対角行列\n",
    "u = np.matrix(u) # 行列の積を行うためにnp.matrixに変換する。\n",
    "v = np.matrix(v)\n",
    "s = np.matrix(s)\n",
    "print(\"s.shape:\", s.shape)\n",
    "recom_svd = u * s * v # 低ランク行列を作る。\n",
    "df_recom = pd.DataFrame(recom_svd, index=df_orig.index, \n",
    "                        columns=df_orig.columns) \n",
    "# df_origと同じサイズのデータフレームに直す"
   ]
  },
  {
   "cell_type": "code",
   "execution_count": null,
   "id": "bbea8c7f",
   "metadata": {},
   "outputs": [],
   "source": [
    "from recomm_misc import plot_df_diff\n",
    "plot_df_diff(df_orig, df_recom, THRESHOLD)\n",
    "# 元の行列, 低ランク行列、低ランク行列ー元の行列>THREASHOLDを白く表示する。\n"
   ]
  },
  {
   "cell_type": "code",
   "execution_count": null,
   "id": "73f815c5-3ff4-48eb-a416-a7b2f657b1d8",
   "metadata": {},
   "outputs": [],
   "source": []
  }
 ],
 "metadata": {
  "kernelspec": {
   "display_name": "Python 3 (ipykernel)",
   "language": "python",
   "name": "python3"
  },
  "language_info": {
   "codemirror_mode": {
    "name": "ipython",
    "version": 3
   },
   "file_extension": ".py",
   "mimetype": "text/x-python",
   "name": "python",
   "nbconvert_exporter": "python",
   "pygments_lexer": "ipython3",
   "version": "3.9.15"
  }
 },
 "nbformat": 4,
 "nbformat_minor": 5
}
