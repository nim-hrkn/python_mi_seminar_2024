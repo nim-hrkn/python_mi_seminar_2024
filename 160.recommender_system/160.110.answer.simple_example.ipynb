{
 "cells": [
  {
   "cell_type": "code",
   "execution_count": null,
   "metadata": {},
   "outputs": [],
   "source": [
    "import numpy as np\n",
    "import seaborn as sns\n",
    "import pandas as pd\n",
    "import matplotlib.pyplot as plt\n"
   ]
  },
  {
   "cell_type": "code",
   "execution_count": null,
   "metadata": {},
   "outputs": [],
   "source": [
    "LOWRANK_APPROX = \"svd\" # svd or nmf"
   ]
  },
  {
   "cell_type": "code",
   "execution_count": null,
   "metadata": {},
   "outputs": [],
   "source": [
    "ROOT = \"..\"\n",
    "g_df = pd.read_csv(f\"{ROOT}/data/recommend/example.csv\", index_col=[0])\n",
    "sns.heatmap(g_df.values)"
   ]
  },
  {
   "cell_type": "code",
   "execution_count": null,
   "metadata": {},
   "outputs": [],
   "source": [
    "from recomm_misc import plot_svd_sdiag\n",
    "plot_svd_sdiag(g_df.values)"
   ]
  },
  {
   "cell_type": "code",
   "execution_count": null,
   "metadata": {},
   "outputs": [],
   "source": [
    "from sklearn.decomposition import NMF\n",
    "\n",
    "def make_recom_svd(df, nrank):\n",
    "    \"\"\"line up candicates by SVD. 特異値分解\n",
    "\n",
    "    Args:\n",
    "        df (pd.DataFrame): data\n",
    "        nrank (int): the maximum rank to reconstruct data\n",
    "\n",
    "    Returns:\n",
    "        pd.DataFrame: reconstruct data\n",
    "    \"\"\"\n",
    "    X = df.values\n",
    "    u, sdiag, v = np.linalg.svd(X)\n",
    "    s = np.zeros((u.shape[1], v.shape[0]))\n",
    "    s[:nrank, :nrank] = np.diag(sdiag[:nrank])\n",
    "    u = np.matrix(u)\n",
    "    v = np.matrix(v)\n",
    "    s = np.matrix(s)\n",
    "    recom_svd = u * s * v\n",
    "    return pd.DataFrame(recom_svd, index=df.index, columns=df.columns)\n",
    "\n",
    "\n",
    "def make_recom_nmf(df, nrank, random_state=1):\n",
    "    \"\"\"line up candicates by NMF, 非負値行列分解.\n",
    "\n",
    "    Args:\n",
    "        df (pd.DataFrame): data\n",
    "        nrank (int): the maximum rank to reconstruct data\n",
    "\n",
    "    Returns:\n",
    "        pd.DataFrame: reconstruct data\n",
    "    \"\"\"\n",
    "    X = df.values\n",
    "    model = NMF(n_components=nrank, init='random', random_state=random_state)\n",
    "    W = model.fit_transform(X)\n",
    "    H = model.components_\n",
    "    W = np.matrix(W)\n",
    "    H = np.matrix(H)\n",
    "    WH = W*H\n",
    "    \"\"\"\n",
    "    check how they are the same\n",
    "    \"\"\"\n",
    "    if False:\n",
    "        WHM = WH - X\n",
    "        for i in range(WHM.shape[0]):\n",
    "            for j in range(WHM.shape[1]):\n",
    "                if np.abs(WHM[i, j]) > 0.1:\n",
    "                    print(i, j, WHM[i, j])\n",
    "\n",
    "    recom_nmf = WH\n",
    "    return pd.DataFrame(recom_nmf, index=df.index, columns=df.columns)\n",
    "\n",
    "\n",
    "def make_recom_correlation(df, nrank=None):\n",
    "    \"\"\"line up candicates by correlation\n",
    "\n",
    "     X[material , structuretype]とすると\n",
    "    ( X.T * X )[structuretype,structuretype] でstructuretype間の相関を与えるだろう．\n",
    "    更にXをかけると[material, structuretype]の行列になる．\n",
    "    recom = X[material , structuretype] * ( X.T * X )[structuretype,structuretype]\n",
    "    \n",
    "    Args:\n",
    "        df (pd.DataFrame): data\n",
    "        nrank (int): not used. Defaults to None.\n",
    "\n",
    "    Returns:\n",
    "        pd.DataFrame: reconstruct data\n",
    "    \"\"\"\n",
    "    # nrank はdummy\n",
    "    X = np.matrix(df.values)\n",
    "\n",
    "    recom = X * X.T * X\n",
    "    # X^3のオーダーになっているので[0,1]に規格化する．\n",
    "    vmax = recom.reshape(-1).max()\n",
    "    vmin = recom.reshape(-1).min()\n",
    "    recom = (recom - vmin)/(vmax-vmin)\n",
    "\n",
    "    return pd.DataFrame(recom, index=df.index, columns=df.columns)"
   ]
  },
  {
   "cell_type": "code",
   "execution_count": null,
   "metadata": {},
   "outputs": [],
   "source": [
    "from recomm_misc import plot_2df\n",
    "for _nrank in [1, 3, 5, 7]:\n",
    "    if LOWRANK_APPROX== \"svd\":\n",
    "        g_df_tranform = make_recom_svd(g_df, _nrank)\n",
    "    elif LOWRANK_APPROX == \"nmf\":\n",
    "        g_df_tranform = make_recom_nmf(g_df,_nrank)\n",
    "    plot_2df(g_df, g_df_tranform, _nrank, threshold=0.2)"
   ]
  },
  {
   "cell_type": "markdown",
   "metadata": {},
   "source": [
    "![](image_text/160_10.png)"
   ]
  },
  {
   "cell_type": "code",
   "execution_count": null,
   "metadata": {},
   "outputs": [],
   "source": []
  }
 ],
 "metadata": {
  "kernelspec": {
   "display_name": "Python 3 (ipykernel)",
   "language": "python",
   "name": "python3"
  },
  "language_info": {
   "codemirror_mode": {
    "name": "ipython",
    "version": 3
   },
   "file_extension": ".py",
   "mimetype": "text/x-python",
   "name": "python",
   "nbconvert_exporter": "python",
   "pygments_lexer": "ipython3",
   "version": "3.9.15"
  }
 },
 "nbformat": 4,
 "nbformat_minor": 4
}
