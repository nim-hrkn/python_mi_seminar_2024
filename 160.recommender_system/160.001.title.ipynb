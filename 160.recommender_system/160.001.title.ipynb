{
 "cells": [
  {
   "cell_type": "markdown",
   "id": "df7aeaed-1ec7-4f1e-aed6-cec5b45164cf",
   "metadata": {},
   "source": [
    "# 160.推薦システム\n",
    "\n",
    "## 説明\n",
    "\n",
    "![](image_text/160_02.png)\n",
    "\n",
    "![](image_text/160_03.png)\n",
    "\n",
    "![](image_text/160_04.png)\n"
   ]
  },
  {
   "cell_type": "markdown",
   "id": "fceb1e29-28ba-4146-97fb-953ee650069a",
   "metadata": {},
   "source": [
    "## ソース\n",
    "\n",
    "### Toy model \n",
    "[160.050.text.explanation.ipynb](160.050.text.explanation.ipynb)\n",
    "\n",
    "[160.110.answer.simple_example.ipynb](160.110.answer.simple_example.ipynb)\n",
    "\n",
    "### 物質データ\n",
    "\n",
    "[160.120.answer.collaborative_filtering.ipynb](160.120.answer.collaborative_filtering.ipynb)\n"
   ]
  },
  {
   "cell_type": "markdown",
   "id": "fed0fa4b-4cc5-4ef2-9f0b-b6d5e5add271",
   "metadata": {},
   "source": [
    "![](image_text/160_23.png)"
   ]
  },
  {
   "cell_type": "code",
   "execution_count": null,
   "id": "f4e46715-ed4a-433e-a11d-093c06a21978",
   "metadata": {},
   "outputs": [],
   "source": []
  }
 ],
 "metadata": {
  "kernelspec": {
   "display_name": "Python 3 (ipykernel)",
   "language": "python",
   "name": "python3"
  },
  "language_info": {
   "codemirror_mode": {
    "name": "ipython",
    "version": 3
   },
   "file_extension": ".py",
   "mimetype": "text/x-python",
   "name": "python",
   "nbconvert_exporter": "python",
   "pygments_lexer": "ipython3",
   "version": "3.9.15"
  }
 },
 "nbformat": 4,
 "nbformat_minor": 5
}
