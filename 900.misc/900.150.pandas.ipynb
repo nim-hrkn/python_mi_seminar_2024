{
 "cells": [
  {
   "cell_type": "markdown",
   "metadata": {},
   "source": [
    "## pandas DataFrame\n",
    "\n",
    "簡単に言うとPythonでのexcelに相当します．\n",
    "Rのdata.frameからアイディアを得ています．\n",
    "\n"
   ]
  },
  {
   "cell_type": "markdown",
   "metadata": {},
   "source": [
    "DataFrameはnumpy行列とは異なり，\n",
    "異なるデータ型が混在するデータを一つにまとめて置け，ラベルをつけておくことが可能です．\n",
    "また，DataFrame自体に可視化の一部の機能があります．"
   ]
  },
  {
   "cell_type": "markdown",
   "metadata": {},
   "source": [
    "混乱しないように行（row), 列（column）の説明から行います．\n",
    "Pythonなのでindexを0から書いています．\n",
    "\n",
    "![linear_gmm_flowchart](image/matrix_row_column.png)\n",
    "\n",
    "またrow方向をaxis=0, column方向をaxis=1として扱います．"
   ]
  },
  {
   "cell_type": "markdown",
   "metadata": {},
   "source": [
    "jupyter notebookでDataFrameはhtmlを用いて綺麗に表示されます．\n",
    "\n",
    "pd.set_option()で表示設定を変えることができます．（バグにより変化しないことがあります．）"
   ]
  },
  {
   "cell_type": "code",
   "execution_count": null,
   "metadata": {},
   "outputs": [],
   "source": [
    "import pandas as pd\n",
    "pd.set_option(\"display.max_rows\", 10)  # rowの最大表示行数\n",
    "pd.set_option(\"display.max_columns\", 60)  # columnsの最大表示行数\n"
   ]
  },
  {
   "cell_type": "markdown",
   "metadata": {},
   "source": [
    "### 作り方\n",
    "\n",
    "#### ファイル読み込みと表示"
   ]
  },
  {
   "cell_type": "code",
   "execution_count": null,
   "metadata": {},
   "outputs": [],
   "source": [
    "\"\"\"load an example\"\"\"\n",
    "filename = \"../data_calculated/Carbon8_cell_descriptor_Etot.csv\""
   ]
  },
  {
   "cell_type": "markdown",
   "metadata": {},
   "source": [
    "これから読み込むcsvファイルの行頭数行を表示する．\n",
    "これはjupyterのshell実行機能で，headは上から３行表示するunixコマンドです．(windowsの方は使えません．）"
   ]
  },
  {
   "cell_type": "code",
   "execution_count": null,
   "metadata": {},
   "outputs": [],
   "source": [
    "!head -n 3 $filename"
   ]
  },
  {
   "cell_type": "code",
   "execution_count": null,
   "metadata": {},
   "outputs": [],
   "source": [
    "df = pd.read_csv(filename, index_col=None) # indexを0からつける．\n",
    "df # indexは最左に表示される．"
   ]
  },
  {
   "cell_type": "code",
   "execution_count": null,
   "metadata": {},
   "outputs": [],
   "source": [
    "df = pd.read_csv(filename, index_col=[0]) # defaultで[0]がindexとなる．\n",
    "df"
   ]
  },
  {
   "cell_type": "code",
   "execution_count": null,
   "metadata": {},
   "outputs": [],
   "source": [
    "# 番号でなく，column名で指定してもよい．\n",
    "df = pd.read_csv(filename, index_col=[\"key\"])\n",
    "df"
   ]
  },
  {
   "cell_type": "code",
   "execution_count": null,
   "metadata": {},
   "outputs": [],
   "source": [
    "# print文でも表示できる．\n",
    "print(df)"
   ]
  },
  {
   "cell_type": "markdown",
   "metadata": {},
   "source": [
    "先頭から数行表示するには以下のやり方もある．\n",
    "最後数行だけ表示するdf.tail()もある．"
   ]
  },
  {
   "cell_type": "code",
   "execution_count": null,
   "metadata": {},
   "outputs": [],
   "source": [
    "df.head()"
   ]
  },
  {
   "cell_type": "markdown",
   "metadata": {},
   "source": [
    "#### index, column名\n",
    "\n",
    "行方向のラベルをindex,列方向のラベルをcolumnとしてアクセスできます．\n",
    "下のdf.columns, df.indexです．"
   ]
  },
  {
   "cell_type": "code",
   "execution_count": null,
   "metadata": {},
   "outputs": [],
   "source": [
    "print(df.columns)\n",
    "print(df.index)"
   ]
  },
  {
   "cell_type": "markdown",
   "metadata": {},
   "source": [
    "In[...]:の途中でDataFrameを表示したい場合はdisplay(df)と呼びます．\n",
    "すこし古いversionですとfrom  IPython.core.display import displayを追加する必要があります．"
   ]
  },
  {
   "cell_type": "code",
   "execution_count": null,
   "metadata": {},
   "outputs": [],
   "source": [
    "# from  IPython.core.display import display\n",
    "\n",
    "display(df)\n",
    "\"\"\"\n",
    "cellの最後にしないようにprint文を加える．\n",
    "\n",
    "\"\"\"\n",
    "print(\"done\")"
   ]
  },
  {
   "cell_type": "markdown",
   "metadata": {},
   "source": [
    "#### 別作成方法\n",
    "\n",
    "listからの作成"
   ]
  },
  {
   "cell_type": "code",
   "execution_count": null,
   "metadata": {},
   "outputs": [],
   "source": [
    "valueslist = []\n",
    "nx = 3\n",
    "ny = 5\n",
    "for x in range(nx):\n",
    "    values =[]\n",
    "    for y in range(ny) :\n",
    "        values.append(x*10+y)\n",
    "    valueslist.append(values)\n",
    "    \n",
    "labels = []\n",
    "for y in range(ny):\n",
    "    labels.append(\"column{}\".format(y))\n",
    "print(valueslist)\n",
    "_df = pd.DataFrame(valueslist, columns=labels)\n",
    "_df"
   ]
  },
  {
   "cell_type": "markdown",
   "metadata": {},
   "source": [
    "辞書からの作成"
   ]
  },
  {
   "cell_type": "code",
   "execution_count": null,
   "metadata": {},
   "outputs": [],
   "source": [
    "# 名前の作成\n",
    "keys = []\n",
    "for y in range(ny):\n",
    "    keys.append(\"column{}\".format(y))\n",
    "# 名前をindexとする辞書の作成\n",
    "valuesdic = {}\n",
    "for y in range(ny):\n",
    "    valuesdic[keys[y]] = []\n",
    "# 値の代入\n",
    "for y in range(ny):\n",
    "    for x in range(nx):\n",
    "        valuesdic[keys[y]].append(10*y+x)\n",
    "print(valuesdic)\n",
    "_df = pd.DataFrame(valuesdic)\n",
    "_df"
   ]
  },
  {
   "cell_type": "markdown",
   "metadata": {},
   "source": [
    "jupyterだときれいに表示できるので，私は結果表示に用います．"
   ]
  },
  {
   "cell_type": "markdown",
   "metadata": {},
   "source": [
    "### 切り取り\n",
    "一部のカラムだけ切り取ります．"
   ]
  },
  {
   "cell_type": "code",
   "execution_count": null,
   "metadata": {},
   "outputs": [],
   "source": [
    "print(df.columns)"
   ]
  },
  {
   "cell_type": "code",
   "execution_count": null,
   "metadata": {},
   "outputs": [],
   "source": [
    "df2 = df[['a0.25_rp1.5', 'a0.25_rp2.5']]\n",
    "\"\"\"\n",
    "cut partial columns\n",
    "\"\"\"\n",
    "df2"
   ]
  },
  {
   "cell_type": "markdown",
   "metadata": {},
   "source": [
    "ilocで数字でカラム番号を指定できます．"
   ]
  },
  {
   "cell_type": "code",
   "execution_count": null,
   "metadata": {},
   "outputs": [],
   "source": [
    "df3 = df.iloc[:, [1,2]]\n",
    "df3"
   ]
  },
  {
   "cell_type": "markdown",
   "metadata": {},
   "source": [
    "locでカラム名でも指定できます．"
   ]
  },
  {
   "cell_type": "code",
   "execution_count": null,
   "metadata": {},
   "outputs": [],
   "source": [
    "df3 = df.loc[:, ['a0.25_rp1.5', 'a0.25_rp2.5']]\n",
    "df3"
   ]
  },
  {
   "cell_type": "markdown",
   "metadata": {},
   "source": [
    "rowの指定も名前で可能です．"
   ]
  },
  {
   "cell_type": "code",
   "execution_count": null,
   "metadata": {},
   "outputs": [],
   "source": [
    "df4 = df.loc[\"1D-000\", :]\n",
    "display(df4)\n",
    "\n",
    "df4 = df.loc[[\"1D-000\",\"3D-000\"], :]\n",
    "display(df4)"
   ]
  },
  {
   "cell_type": "markdown",
   "metadata": {},
   "source": [
    "row, columnの同時指定もできます．\n"
   ]
  },
  {
   "cell_type": "code",
   "execution_count": null,
   "metadata": {},
   "outputs": [],
   "source": [
    "df5 = df.loc[[\"1D-000\", \"2D-000\",\"3D-000\"], ['a0.25_rp1.5', 'a0.25_rp2.5']]\n",
    "df5"
   ]
  },
  {
   "cell_type": "markdown",
   "metadata": {},
   "source": [
    "数と名前と両方でアクセスする場合はlocを使います．\n",
    "（以下はindexが数字の場合です．）"
   ]
  },
  {
   "cell_type": "code",
   "execution_count": null,
   "metadata": {},
   "outputs": [],
   "source": [
    "df6 = df.reset_index(drop=True) # df5のindexが数字でないので数字に直す．\n",
    "display(df)\n",
    "df7 = df6.loc[[0,1], ['a0.25_rp1.5', 'a0.25_rp2.5']]\n",
    "df7"
   ]
  },
  {
   "cell_type": "code",
   "execution_count": null,
   "metadata": {},
   "outputs": [],
   "source": [
    "df7 = df6.iloc[[0,1], [1,0]]\n",
    "df7"
   ]
  },
  {
   "cell_type": "markdown",
   "metadata": {},
   "source": [
    "#### 補足\n",
    "locもしくはilocに渡すのがlistとスカラーの場合とで出力が異なります．\n",
    "\n",
    "- list : DataFrameになる\n",
    "- スカラー: Series"
   ]
  },
  {
   "cell_type": "code",
   "execution_count": null,
   "metadata": {},
   "outputs": [],
   "source": [
    "df8 = df6.loc[0, ['a0.25_rp1.5', 'a0.25_rp2.5']]\n",
    "\n",
    "print(type(df8))\n",
    "df8"
   ]
  },
  {
   "cell_type": "code",
   "execution_count": null,
   "metadata": {},
   "outputs": [],
   "source": [
    "df8 = df6.loc[[0], ['a0.25_rp1.5', 'a0.25_rp2.5']]\n",
    "print(type(df8))\n",
    "df8"
   ]
  },
  {
   "cell_type": "code",
   "execution_count": null,
   "metadata": {},
   "outputs": [],
   "source": [
    "df8 = df6.loc[:, ['a0.25_rp1.5']]\n",
    "print(type(df8))\n",
    "df8"
   ]
  },
  {
   "cell_type": "code",
   "execution_count": null,
   "metadata": {},
   "outputs": [],
   "source": [
    "df8 = df6.loc[:, 'a0.25_rp1.5']\n",
    "print(type(df8))\n",
    "df8"
   ]
  },
  {
   "cell_type": "markdown",
   "metadata": {},
   "source": [
    "### 連結\n",
    "\n",
    "まず横方向（列方向，column方向）に連結します．"
   ]
  },
  {
   "cell_type": "code",
   "execution_count": null,
   "metadata": {},
   "outputs": [],
   "source": [
    "\"\"\"\n",
    "read them again\n",
    "\"\"\"\n",
    "df = pd.read_csv(\"../data_calculated/Carbon8_descriptor.csv\", index_col=[0])\n",
    "df2 = pd.read_csv(\"../data_calculated/Carbon8_yproba.csv\", index_col=[0])\n",
    "\n",
    "\"\"\"\n",
    "connect them in the column direction.\n",
    "\"\"\"\n",
    "df3 = pd.concat([df, df2], axis=1) # 横方向の結合，縦方向の結合はaxis=0で行う．\n",
    "print(\"---columns---\")\n",
    "print(df.columns)\n",
    "print(df2.columns)\n",
    "print(df3.columns)\n",
    "print(\"---shape---\")\n",
    "print(df.shape)\n",
    "print(df2.shape)\n",
    "print(df3.shape)\n",
    "df3\n"
   ]
  },
  {
   "cell_type": "markdown",
   "metadata": {},
   "source": [
    "次に縦方向(行方向，row方向）に連結します．\n",
    "カラムが存在しなかったcellはNaNとなります．"
   ]
  },
  {
   "cell_type": "markdown",
   "metadata": {},
   "source": [
    "### numpy arrayへの変換"
   ]
  },
  {
   "cell_type": "code",
   "execution_count": null,
   "metadata": {},
   "outputs": [],
   "source": [
    "\"\"\"\n",
    "conversion to a numpy array\n",
    "\"\"\"\n",
    "data = df.values\n",
    "print (data)"
   ]
  },
  {
   "cell_type": "markdown",
   "metadata": {},
   "source": [
    "### リストへの変更\n",
    "numpyの説明で紹介したlistへの変更です．"
   ]
  },
  {
   "cell_type": "code",
   "execution_count": null,
   "metadata": {},
   "outputs": [],
   "source": [
    "datalist = data.tolist()\n",
    "print(data)"
   ]
  },
  {
   "cell_type": "code",
   "execution_count": null,
   "metadata": {},
   "outputs": [],
   "source": [
    "# 型指定をして変換\n",
    "data =df.astype(int).values\n",
    "print(data)"
   ]
  },
  {
   "cell_type": "markdown",
   "metadata": {},
   "source": [
    "\n",
    "### ファイルアクセス\n"
   ]
  },
  {
   "cell_type": "code",
   "execution_count": null,
   "metadata": {},
   "outputs": [],
   "source": [
    "# save\n",
    "df3.to_csv(\"tmp.csv\")\n",
    "# 別途readして中身の確認を行う．\n",
    "df_tmp = pd.read_csv(\"tmp.csv\")\n",
    "\"\"\"\n",
    "multiindex is the function of pandas, not the function of csv.\n",
    "dataframe will become singleindex one if you don't specify index_col.\n",
    "\"\"\"\n",
    "df_tmp"
   ]
  },
  {
   "cell_type": "markdown",
   "metadata": {},
   "source": [
    "ファイルアクセス時にlistのindex_colによりindexを指定することが可能です．"
   ]
  },
  {
   "cell_type": "markdown",
   "metadata": {},
   "source": [
    "### 検索\n",
    "\n",
    "上のdfのカラム名では探索ができないので名前を変えておきます．"
   ]
  },
  {
   "cell_type": "code",
   "execution_count": null,
   "metadata": {},
   "outputs": [],
   "source": [
    "def change_df_columns(df, inplace=True):\n",
    "    if not inplace:\n",
    "        df = df.copy() \n",
    "    newcolumns = {}\n",
    "    for column in df.columns:\n",
    "        newcolumn = column.replace(\".\",\"\")\n",
    "        newcolumns[column] = newcolumn\n",
    "    # 以下のどちらでも同じ結果になる．\n",
    "    if inplace:\n",
    "        df = df.rename(columns=newcolumns,inplace=False) # dfがポインタであるからこれでdfの変更が可能．\n",
    "    else:\n",
    "        df = df.rename(columns=newcolumns)\n",
    "    return df\n",
    "\n",
    "dfq = change_df_columns(df, inplace=False)\n",
    "dfq"
   ]
  },
  {
   "cell_type": "markdown",
   "metadata": {},
   "source": [
    "#### 補足：inplaceについて\n",
    "- inplace=Trueの場合は変数の中身を変えます．\n",
    "- inplace=Falseの場合は変数の中身を変えません．インスタンスが新たに作られます．"
   ]
  },
  {
   "cell_type": "code",
   "execution_count": null,
   "metadata": {},
   "outputs": [],
   "source": [
    "_df = df.copy()\n",
    "_ = change_df_columns(_df, inplace=True)\n",
    "_df"
   ]
  },
  {
   "cell_type": "markdown",
   "metadata": {},
   "source": [
    "a025rp10列が0.1以上，a025rp15が1以上の行を求めます．\n",
    "(reset_index()は検索数を見やすくするために行っています．）"
   ]
  },
  {
   "cell_type": "code",
   "execution_count": null,
   "metadata": {},
   "outputs": [],
   "source": [
    "dfq.query(\"a025_rp10>=0.1 and a025_rp15>=1\")"
   ]
  },
  {
   "cell_type": "code",
   "execution_count": null,
   "metadata": {},
   "outputs": [],
   "source": [
    "# 以下のやり方も可能．\n",
    "idxlist = dfq[\"a025_rp10\"]>=0.1\n",
    "print(type(idxlist))\n",
    "print(idxlist)\n",
    "dfq[idxlist]\n",
    "\n",
    "# しばしばこの表示で書かれます．\n",
    "# dfq[ dfq[\"a025_rp10\"]>=0.1 ]\n"
   ]
  },
  {
   "cell_type": "code",
   "execution_count": null,
   "metadata": {},
   "outputs": [],
   "source": []
  },
  {
   "cell_type": "markdown",
   "metadata": {},
   "source": [
    "文字列にも探索が可能です．\n",
    "以下ではitems列が文字',Cu,'と文字',O,'を含む行を求めます．\n",
    "(reset_index()は検索数を見やすくするために行っています．）"
   ]
  },
  {
   "cell_type": "code",
   "execution_count": null,
   "metadata": {},
   "outputs": [],
   "source": [
    "import numpy as np\n",
    "def load_csv_as_2columns(filename, column1_type=\"str\"):\n",
    "    s_all = np.loadtxt(filename, dtype='str')\n",
    "    items = []\n",
    "    for s in s_all:\n",
    "        t = s.split(\",\")\n",
    "        if column1_type == \"str\":\n",
    "            items.append([t[0],\",\"+\",\".join(t[1:])+\",\"])\n",
    "        elif column1_type == \"list\":\n",
    "            items.append([t[0],t[1:]])\n",
    "    return pd.DataFrame(items, columns=[\"item0\",\"items\"])\n",
    "df = load_csv_as_2columns(filename = \"../data/TC_elements_superconductivity.csv\")\n",
    "df"
   ]
  },
  {
   "cell_type": "code",
   "execution_count": null,
   "metadata": {},
   "outputs": [],
   "source": [
    "dfq = df[df[\"items\"].str.contains(',Cu,')]\n",
    "dfq = dfq[dfq[\"items\"].str.contains(',O,')]\n",
    "dfq"
   ]
  },
  {
   "cell_type": "code",
   "execution_count": null,
   "metadata": {},
   "outputs": [],
   "source": [
    "# これも可能です．\n",
    "df.query(\"items.str.contains(',Cu,') and items.str.contains(',O,')\", engine='python').reset_index()\n",
    "# orも使えます．"
   ]
  },
  {
   "cell_type": "markdown",
   "metadata": {},
   "source": [
    "### 欠損データ削除\n",
    "\n",
    "データの一部が欠損していることがよくあります．\n",
    "機械学習ではこれを削除する必要があります．"
   ]
  },
  {
   "cell_type": "code",
   "execution_count": null,
   "metadata": {},
   "outputs": [],
   "source": [
    "import numpy as np\n",
    "valueslist = []\n",
    "nx = 3\n",
    "ny = 5\n",
    "for x in range(nx):\n",
    "    values =[]\n",
    "    for y in range(ny) :\n",
    "        values.append(float(x*10+y))\n",
    "    valueslist.append(values)\n",
    "\n",
    "valueslist = np.array(valueslist)\n",
    "valueslist[1,1] = np.NaN # 欠損データのdefault値\n",
    "valueslist"
   ]
  },
  {
   "cell_type": "code",
   "execution_count": null,
   "metadata": {},
   "outputs": [],
   "source": [
    "labels = []\n",
    "for y in range(ny):\n",
    "    labels.append(\"column{}\".format(y))\n",
    "print(valueslist)\n",
    "df = pd.DataFrame(valueslist, columns=labels)\n",
    "df"
   ]
  },
  {
   "cell_type": "code",
   "execution_count": null,
   "metadata": {},
   "outputs": [],
   "source": [
    "dfdel = df.dropna() \n",
    "# 多くの場合は，横方向が変数で，縦横行が個々のデータを入れる．\n",
    "# defaultではデータインスタンス方向＝行方向＝row方向=axis=0方向に削除する．\n",
    "#  列方向の削除，df.dropna(axis=1)も可能\n",
    "dfdel"
   ]
  },
  {
   "cell_type": "markdown",
   "metadata": {},
   "source": [
    "## Tips\n",
    "\n",
    "### indexについて\n",
    "\n",
    "多くの場合はindexが文字では無く数字であることが一般的でしょう．\n",
    "数字の場合を見ていきます．"
   ]
  },
  {
   "cell_type": "code",
   "execution_count": null,
   "metadata": {},
   "outputs": [],
   "source": [
    "# df = pd.read_csv(\"../data_calculated/Carbon8_descriptor.csv\", index_col=[0])\n",
    "df = pd.read_csv(\"../data_calculated/Carbon8_descriptor.csv\")\n",
    "# index_colを指定せずに読む．\n",
    "df"
   ]
  },
  {
   "cell_type": "markdown",
   "metadata": {},
   "source": [
    "queryのためにカラム名を変更してからqueryを行います．\n",
    "更に，（意味不明ですが）atomでsortします．"
   ]
  },
  {
   "cell_type": "code",
   "execution_count": null,
   "metadata": {},
   "outputs": [],
   "source": [
    "df = change_df_columns(df)\n",
    "dfq = df.query(\"a025_rp10>=0.1 and a025_rp15>=1\")\n",
    "dfs = dfq.sort_values(by=\"atom\", ascending=True)\n",
    "dfs"
   ]
  },
  {
   "cell_type": "markdown",
   "metadata": {},
   "source": [
    "Q. この最初のrowはどうアクセスするでしょうか．\n",
    "\n",
    "A. 0番目でなく，664番目としてアクセスせねばなりません．"
   ]
  },
  {
   "cell_type": "code",
   "execution_count": null,
   "metadata": {},
   "outputs": [],
   "source": [
    "dfs.loc[664,:]"
   ]
  },
  {
   "cell_type": "markdown",
   "metadata": {},
   "source": [
    "もともとのindexに意味がない場合はindexと0から取り直した方が操作しやすいでしょう．"
   ]
  },
  {
   "cell_type": "code",
   "execution_count": null,
   "metadata": {},
   "outputs": [],
   "source": [
    "dfs = dfs.reset_index(drop=True)\n",
    "# dfs.reset_index(drop=True, inplace=True)"
   ]
  },
  {
   "cell_type": "code",
   "execution_count": null,
   "metadata": {},
   "outputs": [],
   "source": [
    "dfs.loc[0,:]"
   ]
  },
  {
   "cell_type": "markdown",
   "metadata": {},
   "source": [
    "### 付録"
   ]
  },
  {
   "cell_type": "markdown",
   "metadata": {},
   "source": [
    "\n",
    "#### multiindex DataFrame\n",
    "\n",
    "indexを複数にしたDataFrameも作成可能です．"
   ]
  },
  {
   "cell_type": "code",
   "execution_count": null,
   "metadata": {},
   "outputs": [],
   "source": [
    "filename = \"../data_calculated/Carbon8_descriptor.csv\"\n",
    "df_m = pd.read_csv(filename, index_col=[0,1])\n",
    "\"\"\"\n",
    "now \n",
    "[0,1] columns are index. \n",
    "\n",
    "The columns doesn't contains \"atom\" label.\n",
    "\"\"\"\n",
    "print(df_m.columns)\n",
    "df_m"
   ]
  },
  {
   "cell_type": "markdown",
   "metadata": {},
   "source": [
    "上のDataFrameをvaluesに直すと左に表示されているindex部分は除かれて変換されることが分かります．"
   ]
  },
  {
   "cell_type": "code",
   "execution_count": null,
   "metadata": {},
   "outputs": [],
   "source": [
    "data_m = df_m.values\n",
    "\n",
    "\"\"\"\n",
    "values doesn't contain index names. \n",
    "\"atom\" is now an index. \n",
    "\"\"\"\n",
    "print(data_m)"
   ]
  },
  {
   "cell_type": "markdown",
   "metadata": {},
   "source": [
    "index.level0 (今の場合結晶名)でloopを回してみます．"
   ]
  },
  {
   "cell_type": "code",
   "execution_count": null,
   "metadata": {},
   "outputs": [],
   "source": [
    "print (df_m.index.levels[0])\n",
    "for i, index0 in enumerate(df_m.index.levels[0]):\n",
    "    df_l = df_m.loc[index0, :]\n",
    "    \"\"\"\n",
    "    df_lはindex.level[1:]がindexとなる\n",
    "    \"\"\"\n",
    "    display(df_l)\n",
    "    if i>=2:\n",
    "        break\n",
    "        \"\"\"\n",
    "        It takes time to process all.\n",
    "        I stop the operation here. \n",
    "        \"\"\""
   ]
  },
  {
   "cell_type": "code",
   "execution_count": null,
   "metadata": {},
   "outputs": [],
   "source": []
  },
  {
   "cell_type": "code",
   "execution_count": null,
   "metadata": {},
   "outputs": [],
   "source": []
  },
  {
   "cell_type": "code",
   "execution_count": null,
   "metadata": {},
   "outputs": [],
   "source": []
  },
  {
   "cell_type": "code",
   "execution_count": null,
   "metadata": {},
   "outputs": [],
   "source": []
  }
 ],
 "metadata": {
  "kernelspec": {
   "display_name": "Python 3 (ipykernel)",
   "language": "python",
   "name": "python3"
  },
  "language_info": {
   "codemirror_mode": {
    "name": "ipython",
    "version": 3
   },
   "file_extension": ".py",
   "mimetype": "text/x-python",
   "name": "python",
   "nbconvert_exporter": "python",
   "pygments_lexer": "ipython3",
   "version": "3.9.7"
  }
 },
 "nbformat": 4,
 "nbformat_minor": 2
}
