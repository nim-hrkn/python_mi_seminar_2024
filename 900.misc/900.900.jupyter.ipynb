{
 "cells": [
  {
   "cell_type": "code",
   "execution_count": null,
   "id": "bb4cdaaf",
   "metadata": {},
   "outputs": [],
   "source": [
    "%%javascript\n",
    "IPython.notebook.events.off('checkpoint_created.Notebook');\n",
    "IPython.notebook.events.off('notebook_saved.Notebook');"
   ]
  },
  {
   "cell_type": "markdown",
   "id": "cd2686fe",
   "metadata": {},
   "source": [
    "# jupyter notebook tips\n",
    "## 行番号の表示\n",
    "\n",
    "View->\"Toggle Line numbers\"で行番号の表示切り替えが可能です．\n",
    "\n",
    "## indent\n",
    "範囲選択してtabで標準で4文字右へ移動，shift-tabで標準で4文字左へ移動します．"
   ]
  },
  {
   "cell_type": "code",
   "execution_count": null,
   "id": "0b31401b",
   "metadata": {},
   "outputs": [],
   "source": [
    "for i in range(3):\n",
    "    print(i)\n",
    "    print(i*2)\n"
   ]
  },
  {
   "cell_type": "markdown",
   "id": "1d5c14ed",
   "metadata": {},
   "source": [
    "## \"Checkpoint created\"を非表示にする．\n",
    "\n",
    "\"Checkpoint created\"が表示されるとメニュー位置が上下にずれて誤った選択をしかねません．\n",
    "これを非表示させるのに以下の方法があります．\n",
    "\n",
    "1. 横に長く表示させる．\n",
    "\n",
    "横に長く表示させるとメニューの上でなくメニューの右横に表示されてメニューがずれません．\n",
    "\n",
    "\n",
    "2. イベントハンドラーを書く( **機能しない場合あり** )\n",
    "以下を最初に書くことで\"Checkpoint created\"を非表示にします．\n",
    "\n",
    "```python\n",
    "%%javascript\n",
    "IPython.notebook.events.off('checkpoint_created.Notebook');\n",
    "IPython.notebook.events.off('notebook_saved.Notebook');\n",
    "```\n",
    "\n",
    "Python Kernelを再起動してもそのwindow内で有効です．\n",
    "\n",
    "\n",
    "- ref.\n",
    " https://stackoverflow.com/questions/53200747/how-can-one-switch-off-the-checkpoint-notification"
   ]
  },
  {
   "cell_type": "code",
   "execution_count": null,
   "id": "4be60602",
   "metadata": {},
   "outputs": [],
   "source": []
  }
 ],
 "metadata": {
  "kernelspec": {
   "display_name": "Python 3 (ipykernel)",
   "language": "python",
   "name": "python3"
  },
  "language_info": {
   "codemirror_mode": {
    "name": "ipython",
    "version": 3
   },
   "file_extension": ".py",
   "mimetype": "text/x-python",
   "name": "python",
   "nbconvert_exporter": "python",
   "pygments_lexer": "ipython3",
   "version": "3.9.7"
  }
 },
 "nbformat": 4,
 "nbformat_minor": 5
}
