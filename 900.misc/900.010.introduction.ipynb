{
 "cells": [
  {
   "cell_type": "markdown",
   "id": "0b35ebbe",
   "metadata": {},
   "source": [
    "# データの読み込み・可視化・数値演算\n",
    "\n",
    "以下のスクリプトは{ROOT}/900.miscディレクリから実行することを想定しています．\n",
    "以下のスクリプトは\n",
    "900.010.introduction.ipynbに保存されており，同ディレクトリには他により詳細なスクリプト使用例があります．\n",
    "Notebookセル（拡張子ipynb)にはPython入力部分（コードセル）とPythonの出力部分（出力セル）があり本書では前者は網掛け，後者は表示する場合は網掛けがない枠のみで示します．"
   ]
  },
  {
   "cell_type": "markdown",
   "id": "20b95947",
   "metadata": {},
   "source": [
    "## 数値演算ライブラリ\n",
    "\n",
    "\n",
    "### numpy\n",
    "Pythonでは多くの例でベクトル，行列定義・演算のためにnumpyを用います．\n",
    "numpyをnpとして利用可能にしてから利用し，ベクトルもしくは行列演算が可能となります．以下はベクトルの加算例です．\n",
    "この他に\n",
    "内積演算(np.inner(x1,x2)), 外積演算(np.cross(x1,x2)など多くの演算が予め用意されています．\n"
   ]
  },
  {
   "cell_type": "code",
   "execution_count": null,
   "id": "0aaf5d6c",
   "metadata": {},
   "outputs": [],
   "source": [
    "import numpy as np\n",
    "x1 = np.array([1., 0., 0.])\n",
    "x2 = np.array([.1, .2, 0.3])\n",
    "x1 + x2"
   ]
  },
  {
   "cell_type": "markdown",
   "id": "32d916fe",
   "metadata": {},
   "source": [
    "次は行列$\\times$ベクトルの例です．\n",
    "この他に\n",
    "逆行列（np.linalg.inv(M)），\n",
    "固有値問題（np.linalg.eig(M))など多くの演算が予め用意されています\n",
    "\\footnote{本書では例がありませんが複素数の表示及び演算も可能です．}．"
   ]
  },
  {
   "cell_type": "code",
   "execution_count": null,
   "id": "cfd037af",
   "metadata": {},
   "outputs": [],
   "source": [
    "from math import cos, sin\n",
    "theta = np.pi*60.0/180.0\n",
    "M = np.matrix([[cos(theta), -sin(theta),0],\n",
    "               [sin(theta), cos(theta),0],\n",
    "               [0,0,1]])\n",
    "M.dot(x1)"
   ]
  },
  {
   "cell_type": "markdown",
   "id": "25111c7f",
   "metadata": {},
   "source": [
    "\n",
    "## scipy\n",
    "\n",
    "numpyと重複している部分もありますが，numpyより高度な数値演算ライブラリにscipyがあります．\n",
    "FFTや高度な乱数生成や階層クラスタリングライブラリが含まれます．\n",
    "以下は高次元ガウス分布の確率分布をランダムサンプリングした例です．"
   ]
  },
  {
   "cell_type": "code",
   "execution_count": null,
   "id": "6c8e86f0",
   "metadata": {},
   "outputs": [],
   "source": [
    "from scipy.stats import multivariate_normal\n",
    "import matplotlib.pyplot as plt\n",
    "\n",
    "rv = multivariate_normal([0.5, -0.2], [[3.0, 2.0], [0.1, 0.5]])\n",
    "Nsample = 2000\n",
    "x = rv.rvs(Nsample)\n",
    "plt.scatter(x[:,0], x[:,1], alpha=0.1)\n",
    "plt.tight_layout()\n"
   ]
  },
  {
   "cell_type": "markdown",
   "id": "d5b7f48e",
   "metadata": {},
   "source": [
    "\n",
    "## データ読み込み及びデータ型ライブラリ\n",
    "\n",
    "Pythonモジュールは使用する前にimportする必要があります．\n",
    "本書スクリプトではPandasモジュールを用いてデータを読み込みます．\n",
    "多くの例で，\n",
    "Pandasクラス\\footnote{Anacondaでは標準でインストールされています．}\n",
    "を別名pdとして使用できるようにしてから利用します．"
   ]
  },
  {
   "cell_type": "code",
   "execution_count": null,
   "id": "a36aa945",
   "metadata": {},
   "outputs": [],
   "source": [
    "import pandas as pd"
   ]
  },
  {
   "cell_type": "markdown",
   "id": "1ac288e1",
   "metadata": {},
   "source": [
    "\n",
    "以下の例のようにカラム名を含めてcsvファイルを読み込み，\n",
    "dfがデータフレームを得ることができます．\n",
    "Jupyter Notebookを用いると整形して表示することが可能です．\n",
    "データフレームの表示はNotebookセルの最後に出力する他に，上から表示（head())，下から表示（tail()），ランダムに表示（sample()）などで表示数を制限することができます．"
   ]
  },
  {
   "cell_type": "code",
   "execution_count": null,
   "id": "a9a43647",
   "metadata": {},
   "outputs": [],
   "source": [
    "ROOT = \"..\"\n",
    "filename = f\"{ROOT}/data/TC_ReCo_detail_descriptor.csv\"\n",
    "df = pd.read_csv(filename)\n",
    "df.head(4)"
   ]
  },
  {
   "cell_type": "markdown",
   "id": "1709e75d",
   "metadata": {},
   "source": [
    "\\caption{データフレーム例}\n",
    "\\label{fig:misc:dataframe}\n",
    "\n",
    "データフレームは文字列および文字列リストで指定するカラムに対してアクセスが可能です．\n",
    ".valueによりnumpyのベクトル，多次元ベクトルに変換します．\n",
    "本書ではDESCRIPTOR_NAMES変数，TARGET_NAME変数を指定することで説明変数，目的変数を得ます．\n",
    "Xrawはサイズ(60,11)の二次元配列，yはサイズ(60)の一次元配列を得ます．"
   ]
  },
  {
   "cell_type": "code",
   "execution_count": null,
   "id": "09ffa9ca",
   "metadata": {},
   "outputs": [],
   "source": [
    "DESCRIPTOR_NAMES = ['C_R', 'C_T', 'vol_per_atom', 'Z', 'f4', 'd5', 'L4f', \n",
    "                    'S4f', 'J4f','(g-1)J4f', '(2-g)J4f']\n",
    "TARGET_NAME = 'Tc'\n",
    "Xraw = df[DESCRIPTOR_NAMES].values\n",
    "y = df[TARGET_NAME].values"
   ]
  },
  {
   "cell_type": "markdown",
   "id": "347f52ef",
   "metadata": {},
   "source": [
    "## 可視化ライブラリ"
   ]
  },
  {
   "cell_type": "markdown",
   "id": "0eddbb50",
   "metadata": {},
   "source": [
    "Pandasデータフレームは線画(plot)，散布図(scatter)，ヒストグラム(hist)などの可視化も可能です．"
   ]
  },
  {
   "cell_type": "code",
   "execution_count": null,
   "id": "10966c9a",
   "metadata": {},
   "outputs": [],
   "source": [
    "import matplotlib.pyplot as plt\n",
    "\n",
    "df.plot.scatter(x=\"C_R\",y=\"Tc\")\n"
   ]
  },
  {
   "cell_type": "markdown",
   "id": "83865e37",
   "metadata": {},
   "source": [
    "\\caption{説明変数C_R vs 目的変数TC}\n",
    "\\label{fig:misc:CRTCscatter}\n",
    "\n",
    "よりprimitiveな可視化ライブラリには別名pltとして利用されることが多いmatplotlibモジュールがあります．matpltlibも線画(plot)，散布図(scatter)，ヒストグラム(hist)などの可視化が可能です．"
   ]
  },
  {
   "cell_type": "code",
   "execution_count": null,
   "id": "ee01956f",
   "metadata": {},
   "outputs": [],
   "source": [
    "plt.hist(y)\n"
   ]
  },
  {
   "cell_type": "markdown",
   "id": "2c55ab4c",
   "metadata": {},
   "source": [
    "\\caption{目的変数TCヒストグラム}\n",
    "\\label{fig:misc:yhist}\n",
    "\n",
    "より高度な可視化ライブラリにseabornがあります．\n",
    "例えば，カーネル密度推定(kdeplot)と呼ばれる，分布の密度関数を推定した「等高線図」を示すことができます．\n",
    "その他にもカラム名とインデックス名を持つデータフレームと連携した多くの可視化を行うことができます．"
   ]
  },
  {
   "cell_type": "code",
   "execution_count": null,
   "id": "b4391922",
   "metadata": {},
   "outputs": [],
   "source": [
    "import seaborn as sns\n",
    "sns.kdeplot(x=Xraw[:,0], y=Xraw[:,2])\n",
    "plt.scatter(Xraw[:,0],Xraw[:,2])\n"
   ]
  },
  {
   "cell_type": "markdown",
   "id": "83050844",
   "metadata": {},
   "source": [
    "\\caption{高次元ガウス分布の確率分布をランダムサンプリング例}\n",
    "\\label{fig:misc:kdeplot}\n",
    "\n",
    "\\caption{seaborn kdeplot例}\n",
    "\\label{fig:misc:kdeplot}"
   ]
  },
  {
   "cell_type": "code",
   "execution_count": null,
   "id": "98d3b2b0",
   "metadata": {},
   "outputs": [],
   "source": []
  }
 ],
 "metadata": {
  "kernelspec": {
   "display_name": "Python 3",
   "language": "python",
   "name": "python3"
  },
  "language_info": {
   "codemirror_mode": {
    "name": "ipython",
    "version": 3
   },
   "file_extension": ".py",
   "mimetype": "text/x-python",
   "name": "python",
   "nbconvert_exporter": "python",
   "pygments_lexer": "ipython3",
   "version": "3.9.12"
  }
 },
 "nbformat": 4,
 "nbformat_minor": 5
}
