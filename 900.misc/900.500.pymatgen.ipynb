{
 "cells": [
  {
   "cell_type": "markdown",
   "metadata": {},
   "source": [
    "## pymatgen\n",
    "\n",
    "pymatgenはmaterials projectで作成された物質を扱うPythonライブラリです．\n",
    "\n",
    "pymatgenの簡単な紹介を行います．\n",
    "\n",
    "### 原子座標\n"
   ]
  },
  {
   "cell_type": "code",
   "execution_count": null,
   "metadata": {},
   "outputs": [],
   "source": [
    "import sys\n",
    "import os\n",
    "from pymatgen.core import Structure\n",
    "from pymatgen.io.cif import CifWriter\n",
    "from pymatgen.io.xcrysden import XSF\n",
    "\n",
    "\n",
    "def fileconvert2cif(file1, file2):\n",
    "    \"\"\"\n",
    "    file format conversion\n",
    "    ref.s\n",
    "    http://pymatgen.org/usage.html\n",
    "\n",
    "    @param file1 : input filename, any formats pymatgen accepts\n",
    "    @param file2 : cif output filename\n",
    "    \"\"\"\n",
    "    tmpfilename = \"__temp__.cif\"\n",
    "\n",
    "    def write2cif(f1, f2):\n",
    "        structure = Structure.from_file(f1)\n",
    "        w = CifWriter(structure)\n",
    "        w.write_file(f2)\n",
    "\n",
    "        return structure\n",
    "\n",
    "    def write2xsf(f1, f2):\n",
    "        structure = Structure.from_file(f1)\n",
    "\n",
    "        xsf = XSF(structure)\n",
    "        s = xsf.to_string()\n",
    "        with open(f2, \"wb\") as f:\n",
    "            f.write(s)\n",
    "\n",
    "        return structure\n",
    "    _ = write2cif(file1, tmpfilename)\n",
    "    \"\"\"\n",
    "    run twice to make atoms inside the cell automatically.\n",
    "    \"\"\"\n",
    "    structure = write2cif(tmpfilename, file2)\n",
    "\n",
    "    os.remove(tmpfilename)\n",
    "    return structure\n",
    "\n",
    "\n",
    "structure = fileconvert2cif(\"../data/Fe4_xsf/hcp.xsf\", \"tmp1.cif\")\n"
   ]
  },
  {
   "cell_type": "code",
   "execution_count": null,
   "metadata": {},
   "outputs": [],
   "source": [
    "structure"
   ]
  },
  {
   "cell_type": "code",
   "execution_count": null,
   "metadata": {},
   "outputs": [],
   "source": [
    "print(len(structure))\n",
    "for s in structure:\n",
    "    print(s)"
   ]
  },
  {
   "cell_type": "code",
   "execution_count": null,
   "metadata": {},
   "outputs": [],
   "source": [
    "def show_neighbors(structure):\n",
    "    rcut = 3.0\n",
    "    for s in structure:\n",
    "        print(\"center\", s.coords, s.specie)\n",
    "        nn = structure.get_neighbors(s, rcut)\n",
    "        print(\"number of atoms\", len(nn))\n",
    "        for n in nn:\n",
    "            print(\"cart\", n[0].coords, n[0].specie, \"distance\", n[1])\n",
    "\n",
    "\n",
    "show_neighbors(structure)\n"
   ]
  },
  {
   "cell_type": "code",
   "execution_count": null,
   "metadata": {},
   "outputs": [],
   "source": [
    "import numpy as np\n",
    "import matplotlib.pyplot as plt\n",
    "%matplotlib inline\n",
    "\n",
    "\n",
    "def plot_rdf(structure, rcut):\n",
    "    \"\"\"\n",
    "    plot radial distribution function (rdf) with the distance list given by pymatgen library\n",
    "\n",
    "    @param structure : pymatgen structure\n",
    "    @param  rcut : cutoff distance\n",
    "    \"\"\"\n",
    "    distancelist = []\n",
    "    for s in structure:\n",
    "        nn = structure.get_neighbors(s, rcut)\n",
    "        for n in nn:\n",
    "            distancelist.append(n[1])\n",
    "\n",
    "    def plot_hist(distancelist, bins=50):\n",
    "        \"\"\"\n",
    "        histgram plot\n",
    "\n",
    "        @param distancelist : a list of distances\n",
    "        @param bins : a list of bins\n",
    "        \"\"\"\n",
    "        plt.xlabel(\"r\")\n",
    "        plt.ylabel(\"occurence\")\n",
    "        \"\"\"\n",
    "        histgram library of matplotlib\n",
    "        \"\"\"\n",
    "        plt.hist(distancelist, bins=bins)\n",
    "        plt.show()\n",
    "\n",
    "    plot_hist(distancelist)\n",
    "\n",
    "    def plot_rdf_div_r2(distancelist, rcut, xmin=1.0, bins=50):\n",
    "        \"\"\"\n",
    "        multiply histgram by 1/r**2\n",
    "        and plot it\n",
    "\n",
    "        @param distancelist : a list of distance\n",
    "        @param xrange : 1d array [2], min and max\n",
    "        @param bins : number of bins of histgram\n",
    "        \"\"\"\n",
    "        bins = np.linspace(xmin, rcut, bins)\n",
    "        print(bins)\n",
    "        index = np.digitize(distancelist, bins)\n",
    "        \"\"\"\n",
    "        add to hist array\n",
    "        \"\"\"\n",
    "        hist = np.zeros((len(bins)))\n",
    "        for i, d in zip(index, distancelist):\n",
    "            if i > 0 and i < len(bins):\n",
    "                if bins[i-1] < d and d < bins[i]:\n",
    "                    hist[i] += 1.0/d**2\n",
    "                    continue\n",
    "            print(\"warning i\", i, d)\n",
    "        \"\"\"\n",
    "        visualization\n",
    "        \"\"\"\n",
    "        plt.xlabel(\"r\")\n",
    "        plt.ylabel(\"occurence/r**2\")\n",
    "        \"\"\"\n",
    "        use the middle point for x points\n",
    "        \"\"\"\n",
    "        bins_mid = (bins[0:-1]+bins[1:])*0.5\n",
    "\n",
    "        plt.plot(bins_mid, hist[1:])\n",
    "        plt.show()\n",
    "\n",
    "    plot_rdf_div_r2(distancelist, rcut)\n",
    "\n",
    "\n",
    "plot_rdf(structure, rcut=7.0)\n"
   ]
  },
  {
   "cell_type": "markdown",
   "metadata": {},
   "source": [
    "\n",
    "### 分子式\n",
    "\n",
    "分子式の解釈,元素の説明変数取得ができます．"
   ]
  },
  {
   "cell_type": "code",
   "execution_count": null,
   "metadata": {},
   "outputs": [],
   "source": [
    "from pymatgen.core.composition import Composition\n",
    "comp = Composition(\"(FeO3Cl)Cl3.5\")\n",
    "print(\"str(comp)=\", str(comp))\n",
    "print(\"comp.num_atoms=\", comp.num_atoms)\n",
    "print(\"comp.as_dict()=\", comp.as_dict())\n",
    "print(\"comp.weight=\", comp.weight)\n"
   ]
  },
  {
   "cell_type": "markdown",
   "metadata": {},
   "source": [
    "\n",
    "### 元素\n",
    "\n",
    "元素の物性値を取得することができます．"
   ]
  },
  {
   "cell_type": "code",
   "execution_count": null,
   "metadata": {},
   "outputs": [],
   "source": [
    "from pymatgen.core.periodic_table import Element\n",
    "elm = Element(\"Fe\")\n",
    "print(\"elm.atomic_radius_calculated=\", elm.atomic_radius_calculated)\n",
    "print(\"elm.liquid_range=\", elm.liquid_range)\n",
    "print(\"elm.X(Pauling electronegativity)=\", elm.X)\n"
   ]
  },
  {
   "cell_type": "markdown",
   "metadata": {},
   "source": [
    "最後にcompsitionから各原元素を得てその元素の特性を表示する例を示します．"
   ]
  },
  {
   "cell_type": "code",
   "execution_count": null,
   "metadata": {},
   "outputs": [],
   "source": [
    "comp = Composition(\"(Fe(CN)6)(CH3)3\")\n",
    "for key in comp:\n",
    "    elm = Element(key)\n",
    "    print(\"element={}, fraction={}, density_of_solid={}, molar_volume={}\".format(\n",
    "        key, comp[key], elm.density_of_solid, elm.molar_volume))\n"
   ]
  }
 ],
 "metadata": {
  "kernelspec": {
   "display_name": "Python 3 (ipykernel)",
   "language": "python",
   "name": "python3"
  },
  "language_info": {
   "codemirror_mode": {
    "name": "ipython",
    "version": 3
   },
   "file_extension": ".py",
   "mimetype": "text/x-python",
   "name": "python",
   "nbconvert_exporter": "python",
   "pygments_lexer": "ipython3",
   "version": "3.9.7"
  }
 },
 "nbformat": 4,
 "nbformat_minor": 2
}
