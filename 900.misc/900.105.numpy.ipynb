{
 "cells": [
  {
   "cell_type": "markdown",
   "metadata": {},
   "source": [
    "# numpy\n",
    "\n",
    "vector，多次元行列の計算を容易に行うことができます．"
   ]
  },
  {
   "cell_type": "code",
   "execution_count": null,
   "metadata": {},
   "outputs": [],
   "source": [
    "import numpy as np"
   ]
  },
  {
   "cell_type": "code",
   "execution_count": null,
   "metadata": {},
   "outputs": [],
   "source": [
    "v1 = []\n",
    "for i in range(9):\n",
    "    v1.append(i)\n",
    "v2 = []\n",
    "for i in range(9):\n",
    "    v2.append(9-i)\n",
    "v1, v2\n"
   ]
  },
  {
   "cell_type": "markdown",
   "metadata": {},
   "source": [
    "数学的にv1+v2をどうしたら実行できますか．"
   ]
  },
  {
   "cell_type": "code",
   "execution_count": null,
   "metadata": {},
   "outputs": [],
   "source": [
    "vsum = v1+v2\n",
    "vsum"
   ]
  },
  {
   "cell_type": "markdown",
   "metadata": {},
   "source": [
    "listとして接続されてしまいました．list型の変数としては正しい動作ですが，\n",
    "これは意図した動作ではありません．numpy arrayに直すと数学的な和を容易に実行することができます．"
   ]
  },
  {
   "cell_type": "code",
   "execution_count": null,
   "metadata": {},
   "outputs": [],
   "source": [
    "v1array = np.array(v1)\n",
    "v2array = np.array(v2)\n",
    "v2arraysum = v1array + v2array\n",
    "v2arraysum"
   ]
  },
  {
   "cell_type": "markdown",
   "metadata": {},
   "source": [
    "### numpy arrayからlistへの変換\n",
    "\n",
    "numpy arrayをlistに戻すことも可能です．"
   ]
  },
  {
   "cell_type": "code",
   "execution_count": null,
   "metadata": {},
   "outputs": [],
   "source": [
    "v2arraysum.tolist()\n",
    "v2arraysum\n",
    "# list(v2arraysum) 一次元に限る"
   ]
  },
  {
   "cell_type": "markdown",
   "metadata": {},
   "source": [
    "## 初期位置と大きさを指定したnumpy arrayの作成\n"
   ]
  },
  {
   "cell_type": "code",
   "execution_count": null,
   "metadata": {},
   "outputs": [],
   "source": [
    "n= 3\n",
    "m = 4\n",
    "\n",
    "# 単位行列\n",
    "a = np.eye(n,m)\n",
    "# a = np.identity(n)\n",
    "print(a)\n",
    "\n",
    "print(\"--------\")\n",
    "\n",
    "# ゼロ\n",
    "a = np.zeros((n,m))\n",
    "print(a)\n",
    "\n",
    "print(\"--------\")\n",
    "\n",
    "# 初期値\n",
    "a = np.full((n,m), -10.0)\n",
    "print(a)"
   ]
  },
  {
   "cell_type": "markdown",
   "metadata": {},
   "source": [
    "## 行列演算"
   ]
  },
  {
   "cell_type": "code",
   "execution_count": null,
   "metadata": {},
   "outputs": [],
   "source": [
    "v1 = []\n",
    "for i in range(4):\n",
    "    v1.append(i+1)\n",
    "v2 = []\n",
    "for i in range(4):\n",
    "    v2.append(4-i)\n",
    "    \n",
    "v1 = np.array(v1)\n",
    "v2 = np.array(v2)\n",
    "\n",
    "a1 = v1.reshape((2,2))\n",
    "a2 = v2.reshape((2,2))\n",
    "\n",
    "print(\"a1\")\n",
    "print(a1)\n",
    "print(\"a2\")\n",
    "print(a2)\n",
    "\n",
    "# 各要素の積　であることは既に例を示した．\n",
    "print(\"a1*a2\")\n",
    "print(a1*a2)"
   ]
  },
  {
   "cell_type": "markdown",
   "metadata": {},
   "source": [
    "行列としての積を行えるnp.matrix()もあります．"
   ]
  },
  {
   "cell_type": "code",
   "execution_count": null,
   "metadata": {},
   "outputs": [],
   "source": [
    "m1 = np.matrix(a1)\n",
    "m2 = np.matrix(a2)\n",
    "print(\"a1*a2 as matrix\")\n",
    "print(m1*m2)"
   ]
  },
  {
   "cell_type": "markdown",
   "metadata": {},
   "source": [
    "array/matrixのtranspose"
   ]
  },
  {
   "cell_type": "code",
   "execution_count": null,
   "metadata": {},
   "outputs": [],
   "source": [
    "print(\"a\",a1)\n",
    "print(\"a.T\",a1.T)\n",
    "print(\"-------\")\n",
    "print(\"m\",m1)\n",
    "print(\"m.T\",m1.T)"
   ]
  },
  {
   "cell_type": "markdown",
   "metadata": {},
   "source": [
    "### numpyを使う意味\n",
    "この程度のarrayサイズでしたら，for文でloopを回しても速度的に問題ありませんが，\n",
    "arrayサイズが数千，数万と大きくなると，for文で演算を行う方と速度が出ません．\n",
    "個々の要素でなく，numpyを用いてarray/matrixとして計算を行うとblas libraryを用いて計算するのではるかに高速に計算できます．"
   ]
  },
  {
   "cell_type": "markdown",
   "metadata": {},
   "source": [
    "## 線形代数演算"
   ]
  },
  {
   "cell_type": "markdown",
   "metadata": {},
   "source": [
    "### 内積と外積"
   ]
  },
  {
   "cell_type": "code",
   "execution_count": null,
   "metadata": {},
   "outputs": [],
   "source": [
    "v1 = []\n",
    "for i in range(3):\n",
    "    v1.append(i+1)\n",
    "v2 = []\n",
    "for i in range(3):\n",
    "    v2.append(3-i)\n",
    "    \n",
    "print(v1,v2)\n",
    "print(\"---inner product\")\n",
    "print(np.dot(v1,v2)) # 内積\n",
    "print(np.inner(v1,v2)) # 内積\n",
    "print(\"---outer product\")\n",
    "print(np.cross(v1,v2)) # 外積"
   ]
  },
  {
   "cell_type": "markdown",
   "metadata": {},
   "source": [
    "### 逆行列\n",
    "行列m1の逆行列を求めてみます．"
   ]
  },
  {
   "cell_type": "code",
   "execution_count": null,
   "metadata": {},
   "outputs": [],
   "source": [
    "m1_inv = np.linalg.inv(m1)\n",
    "print(m1_inv)\n",
    "\n",
    "# 確かめ\n",
    "print(\"--------\")\n",
    "print(m1*m1_inv)\n",
    "print(m1_inv*m1)\n",
    "print(m1_inv @ m1) # この書き方もある．matrix x vectorでも使える．"
   ]
  },
  {
   "cell_type": "code",
   "execution_count": null,
   "metadata": {},
   "outputs": [],
   "source": []
  },
  {
   "cell_type": "markdown",
   "metadata": {},
   "source": [
    "上は数値誤差の範囲で単位行列になりました．"
   ]
  },
  {
   "cell_type": "markdown",
   "metadata": {},
   "source": [
    "### 固有値，固有ベクトル"
   ]
  },
  {
   "cell_type": "code",
   "execution_count": null,
   "metadata": {},
   "outputs": [],
   "source": [
    "w, v = np.linalg.eig(m1)\n",
    "print(w)\n",
    "print(v)"
   ]
  },
  {
   "cell_type": "markdown",
   "metadata": {},
   "source": [
    "固有値と固有ベクトルであることの確かめ"
   ]
  },
  {
   "cell_type": "code",
   "execution_count": null,
   "metadata": {},
   "outputs": [],
   "source": [
    "for ieig in range(2):\n",
    "    diff = m1*v[:,ieig] - w[ieig]*v[:,ieig]\n",
    "    print(ieig, \"diff=\",diff.T) # Tを行ったは表示を一行に収めるため"
   ]
  },
  {
   "cell_type": "markdown",
   "metadata": {},
   "source": [
    "## numpy の行列次元変換\n",
    "\n",
    "一次元のsize n vectorと(1,n),(n,1) arrayを相互変換します．\n",
    "目的変数が一つの場合でも二次元arrayとせねばライブラリを呼べない場合や戻り値が二次arrayであることがあります．"
   ]
  },
  {
   "cell_type": "code",
   "execution_count": null,
   "metadata": {},
   "outputs": [],
   "source": [
    "import numpy as np\n",
    "iv = np.arange(10)\n",
    "iv"
   ]
  },
  {
   "cell_type": "markdown",
   "metadata": {},
   "source": [
    "配列の切り方を変えます．"
   ]
  },
  {
   "cell_type": "code",
   "execution_count": null,
   "metadata": {},
   "outputs": [],
   "source": [
    "ivnp3 = iv.reshape(2, 5)\n",
    "print(ivnp3.shape)\n",
    "print(ivnp3)"
   ]
  },
  {
   "cell_type": "code",
   "execution_count": null,
   "metadata": {},
   "outputs": [],
   "source": [
    "ivnp1 = ivnp3.reshape(-1)\n",
    "print(ivnp1.shape)\n",
    "print(ivnp1)"
   ]
  },
  {
   "cell_type": "code",
   "execution_count": null,
   "metadata": {},
   "outputs": [],
   "source": [
    "ivnp2 = ivnp3.reshape(-1, 1)\n",
    "print(ivnp2.shape)\n",
    "\"\"\"\n",
    "(10,)＝ 1D \n",
    "is different from \n",
    "(10,1)＝ 2D \n",
    "\n",
    "\"\"\"\n",
    "print(ivnp2)"
   ]
  },
  {
   "cell_type": "markdown",
   "metadata": {},
   "source": [
    "### 最近は行列次元変換のやり方としてp.newaxisを用いた書き方を推奨しています．"
   ]
  },
  {
   "cell_type": "code",
   "execution_count": null,
   "metadata": {},
   "outputs": [],
   "source": [
    "ivnp1[np.newaxis, :] "
   ]
  },
  {
   "cell_type": "code",
   "execution_count": null,
   "metadata": {},
   "outputs": [],
   "source": [
    "ivnp1[:, np.newaxis]"
   ]
  },
  {
   "cell_type": "markdown",
   "metadata": {},
   "source": [
    "行列としての積ではなく，各要素の積を行う．"
   ]
  },
  {
   "cell_type": "code",
   "execution_count": null,
   "metadata": {},
   "outputs": [],
   "source": [
    "ivnp6 = ivnp1[np.newaxis, :]  * ivnp1[:, np.newaxis]\n",
    "print (ivnp6)"
   ]
  },
  {
   "cell_type": "code",
   "execution_count": null,
   "metadata": {},
   "outputs": [],
   "source": [
    "ivnp6 =  ivnp1[:, np.newaxis] * ivnp1[np.newaxis, :] \n",
    "print (ivnp6)"
   ]
  },
  {
   "cell_type": "markdown",
   "metadata": {},
   "source": [
    "## loop\n",
    "numpy arrayでもloopを回すことができます．"
   ]
  },
  {
   "cell_type": "code",
   "execution_count": null,
   "metadata": {},
   "outputs": [],
   "source": [
    "for a in ivnp6:\n",
    "    print(a)"
   ]
  },
  {
   "cell_type": "markdown",
   "metadata": {},
   "source": [
    "## 一次元numpy arrayへの変換"
   ]
  },
  {
   "cell_type": "code",
   "execution_count": null,
   "metadata": {},
   "outputs": [],
   "source": [
    "ivnp6.ravel()"
   ]
  },
  {
   "cell_type": "markdown",
   "metadata": {},
   "source": [
    "# 付録\n",
    "\n",
    "本チュートリアルでは用いませんが有用な機能について紹介します．\n",
    "\n",
    "## 複素数\n",
    "\n",
    "numpyでは複素数を用いることも可能です．\n",
    "ｊでimaginaryを表します．\n",
    "'i'はjだけでは文字なのか区別がつかないので1jです．"
   ]
  },
  {
   "cell_type": "code",
   "execution_count": null,
   "metadata": {},
   "outputs": [],
   "source": [
    "v1 = np.array([3, 1j, 1-1j])\n",
    "v1"
   ]
  },
  {
   "cell_type": "markdown",
   "metadata": {},
   "source": [
    "## 文字演算\n",
    "\n",
    "Mathematicaが行うような，文字演算も可能です．同時にnumpyも利用可能です．\n",
    "\n",
    "anacondaを使っているのでなければsympyのinstallが必要です．"
   ]
  },
  {
   "cell_type": "code",
   "execution_count": null,
   "metadata": {},
   "outputs": [],
   "source": [
    "from sympy import Symbol, symbols\n",
    "\n",
    "# x,yは演算対象であることを宣言する．\n",
    "if True:\n",
    "    x = Symbol('x')\n",
    "    y = Symbol('y')\n",
    "else:\n",
    "    x,y = symbols(\"x y\") # 上の定義と等価です．\n",
    "\n",
    "expr = 2*x + y+1\n",
    "expr # jupyterだとTeX出力されるので普通の式でないことが分かる．"
   ]
  },
  {
   "cell_type": "code",
   "execution_count": null,
   "metadata": {},
   "outputs": [],
   "source": [
    "# numpyとの同時利用．\n",
    "v = np.array([2*x, x])\n",
    "print(\"v\",v)\n",
    "# 上で定義したnp.matrix m1を用いる．\n",
    "v2 = np.dot(v,m1) # matrix x vector\n",
    "print(\"v2\",v2)"
   ]
  },
  {
   "cell_type": "code",
   "execution_count": null,
   "metadata": {},
   "outputs": [],
   "source": [
    "# 値の代入\n",
    "# 一度np.arrayに直してからloopを回す．\n",
    "for expr in np.array(v2)[0]:\n",
    "    value = expr.subs([(\"x\",0.1)]) # x=0.1として評価する．\n",
    "    print(expr, \"->\", value)"
   ]
  },
  {
   "cell_type": "markdown",
   "metadata": {},
   "source": [
    "私は空間群操作による座標変換で数値精度が下がるのを防止する時に用いています．"
   ]
  },
  {
   "cell_type": "code",
   "execution_count": null,
   "metadata": {},
   "outputs": [],
   "source": []
  }
 ],
 "metadata": {
  "kernelspec": {
   "display_name": "Python 3 (ipykernel)",
   "language": "python",
   "name": "python3"
  },
  "language_info": {
   "codemirror_mode": {
    "name": "ipython",
    "version": 3
   },
   "file_extension": ".py",
   "mimetype": "text/x-python",
   "name": "python",
   "nbconvert_exporter": "python",
   "pygments_lexer": "ipython3",
   "version": "3.9.7"
  }
 },
 "nbformat": 4,
 "nbformat_minor": 2
}
