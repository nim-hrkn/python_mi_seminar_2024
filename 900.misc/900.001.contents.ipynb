{
 "cells": [
  {
   "cell_type": "markdown",
   "metadata": {},
   "source": [
    "# 0050.misc\n",
    "\n",
    "このdirectoryでは\n",
    "\n",
    "- pythonで間違えやすい箇所の説明\n",
    "- matplotlibの簡単な説明\n",
    "- pandasの簡単な説明\n",
    "- seabornの簡単な説明\n",
    "- pymatgenの簡単な説明\n",
    "\n",
    "を行っています．\n"
   ]
  },
  {
   "cell_type": "code",
   "execution_count": null,
   "metadata": {},
   "outputs": [],
   "source": []
  }
 ],
 "metadata": {
  "kernelspec": {
   "display_name": "Python 3 (ipykernel)",
   "language": "python",
   "name": "python3"
  },
  "language_info": {
   "codemirror_mode": {
    "name": "ipython",
    "version": 3
   },
   "file_extension": ".py",
   "mimetype": "text/x-python",
   "name": "python",
   "nbconvert_exporter": "python",
   "pygments_lexer": "ipython3",
   "version": "3.9.7"
  }
 },
 "nbformat": 4,
 "nbformat_minor": 2
}
