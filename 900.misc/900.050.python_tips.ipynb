{
 "cells": [
  {
   "cell_type": "markdown",
   "metadata": {},
   "source": [
    "Pythonがある程度分かることを仮定しています．"
   ]
  },
  {
   "cell_type": "markdown",
   "metadata": {},
   "source": [
    "# Python\n",
    "## listとloop"
   ]
  },
  {
   "cell_type": "code",
   "execution_count": null,
   "metadata": {},
   "outputs": [],
   "source": [
    "oneDlist = [10, 20, 30]\n",
    "twoDlist = [[1, 2, 3], [4, 5, 6], [7, 8]]\n"
   ]
  },
  {
   "cell_type": "markdown",
   "metadata": {},
   "source": [
    "## list indexを付加したloop"
   ]
  },
  {
   "cell_type": "code",
   "execution_count": null,
   "metadata": {},
   "outputs": [],
   "source": [
    "for i,x in enumerate(oneDlist):\n",
    "    print(i,x)"
   ]
  },
  {
   "cell_type": "markdown",
   "metadata": {},
   "source": [
    "## 変数の結合によるloop\n"
   ]
  },
  {
   "cell_type": "code",
   "execution_count": null,
   "metadata": {},
   "outputs": [],
   "source": [
    "for x,y in zip(oneDlist, twoDlist):\n",
    "    print(x)\n",
    "    print(y)\n",
    "    print(\"---\")"
   ]
  },
  {
   "cell_type": "markdown",
   "metadata": {},
   "source": [
    "## Python tipcs\n",
    "### ポインタ参照\n",
    "\n",
    "pythonはscalerでないベクトルなどはポインタ参照されます．\n",
    "コードが簡単になることもありますが，\n",
    "誤ってデータを上書きしてしまうことがあります．"
   ]
  },
  {
   "cell_type": "code",
   "execution_count": null,
   "metadata": {},
   "outputs": [],
   "source": [
    "def change_element(v):\n",
    "    v[0] = 100\n",
    "    \n",
    "v = [ 0,1,2,3,4]\n",
    "print(\"before\",v)\n",
    "change_element(v)\n",
    "print(\"after\",v)"
   ]
  },
  {
   "cell_type": "markdown",
   "metadata": {},
   "source": [
    "上の例では関数change_elementの中でvの要素を変更しています．そして，vは関数の戻り値ではありません．しかし，print(v)で分かるとおり，vの要素が変わっています．\n",
    "\n",
    "次の例では，変数gはpointerをコピーしてその要素を変えています．\n",
    "変数gとvの指す中身は同じですので，\n",
    "配列gを書き換えると配列vの内容も変わってしまいます．"
   ]
  },
  {
   "cell_type": "code",
   "execution_count": null,
   "metadata": {},
   "outputs": [],
   "source": [
    "g = v\n",
    "g[2] = -100 # コピーしたポインタを用いて代入\n",
    "print (\"g\", g) # コピーしたポインタを用いた参照\n",
    "print (\"v\",v) # 元のlistの値も変わる．"
   ]
  },
  {
   "cell_type": "markdown",
   "metadata": {},
   "source": [
    "copy.deepcopy()によりインスタンスの中身を全部コピーするのが安全なやり方です．\n"
   ]
  },
  {
   "cell_type": "code",
   "execution_count": null,
   "metadata": {},
   "outputs": [],
   "source": [
    "import copy\n",
    "\"\"\"\n",
    "copy.deepcopy(object) copy all the object\n",
    "\"\"\"\n",
    "g = copy.deepcopy(v)\n",
    "g[1] = -200\n",
    "print(\"g\",g)\n",
    "print(\"v\",v)"
   ]
  },
  {
   "cell_type": "markdown",
   "metadata": {},
   "source": [
    "不要なインスタンスはdelで明示的に使用メモリを解放できます．"
   ]
  },
  {
   "cell_type": "code",
   "execution_count": null,
   "metadata": {},
   "outputs": [],
   "source": [
    "g = v\n",
    "del g"
   ]
  },
  {
   "cell_type": "markdown",
   "metadata": {},
   "source": [
    "すでに消去しているgにはアクセスできません．（以下のエラーは正常な動作です．）"
   ]
  },
  {
   "cell_type": "code",
   "execution_count": null,
   "metadata": {},
   "outputs": [],
   "source": [
    "g"
   ]
  },
  {
   "cell_type": "markdown",
   "metadata": {},
   "source": [
    "しかしvは消されていません．"
   ]
  },
  {
   "cell_type": "code",
   "execution_count": null,
   "metadata": {},
   "outputs": [],
   "source": [
    "v"
   ]
  },
  {
   "cell_type": "markdown",
   "metadata": {},
   "source": [
    "jupyter notebookなどでPython script書いている場合に変数が関数内に遮蔽されません．\n",
    "変数が誤って変更されていたり，script内全てでアクセスできる変数と関数内で定義した変数を誤って使用している場合がありますので注意してください．"
   ]
  },
  {
   "cell_type": "markdown",
   "metadata": {},
   "source": [
    "## 範囲外アクセス\n",
    "\n",
    "範囲外アクセスはPythonのエラーが起きます．"
   ]
  },
  {
   "cell_type": "code",
   "execution_count": null,
   "metadata": {},
   "outputs": [],
   "source": [
    "v[100]"
   ]
  },
  {
   "cell_type": "markdown",
   "metadata": {},
   "source": [
    "## 一括型変換\n",
    "\n",
    "list vの各要素をstrに直したい場合など．"
   ]
  },
  {
   "cell_type": "code",
   "execution_count": null,
   "metadata": {},
   "outputs": [],
   "source": [
    "v = [ 0,1,2,3,4]\n",
    "print(\"v\", v)\n",
    "\n",
    "slist = []\n",
    "for i in v:\n",
    "    s = str(i)\n",
    "    slist.append(s)\n",
    "print(\"slist\",slist)\n",
    "\n",
    "print(\"-------\")\n",
    "# 次の一文で同じことを行えます．\n",
    "slist2 = list(map(str,v))\n",
    "print(\"slist2\",slist2)"
   ]
  },
  {
   "cell_type": "markdown",
   "metadata": {},
   "source": [
    "## 型注釈\n",
    "\n",
    "関数定義時に型\"注釈\"を書くことが**できます**．強制ではありません．なお，\"注釈\"部分は文法的には正確である必要がありますが，Pythonは無視するので書かなくても動きます．\n",
    "\"注釈\"部分の型が正しいかは自分でコードを書かねばならないが，人のコードを読む場合に入出力の型が分かることはコード理解の大きな助けになります．\n"
   ]
  },
  {
   "cell_type": "code",
   "execution_count": null,
   "metadata": {},
   "outputs": [],
   "source": [
    "import numpy as np\n",
    "\n",
    "def aX(x: np.ndarray, a: float) -> np.ndarray:\n",
    "    y = x * a\n",
    "    return y\n",
    "\n",
    "v = np.array([1,2,3,4])\n",
    "print(aX(v, 2.0))"
   ]
  },
  {
   "cell_type": "markdown",
   "metadata": {},
   "source": [
    "型\"注釈\"部分を用いてPythonが型チェックをするわけではありません．\n",
    "以下のコードはxがnumpy arrayではありませんが，エラーが起きずに実行されます．"
   ]
  },
  {
   "cell_type": "code",
   "execution_count": null,
   "metadata": {},
   "outputs": [],
   "source": [
    "print(aX(2, -1))"
   ]
  },
  {
   "cell_type": "markdown",
   "metadata": {},
   "source": [
    "型チェック部分を加えたコードは以下になります．"
   ]
  },
  {
   "cell_type": "code",
   "execution_count": null,
   "metadata": {},
   "outputs": [],
   "source": [
    "import numpy as np\n",
    "\n",
    "def aX(x: np.ndarray, a: float) -> np.ndarray:\n",
    "    if not isinstance(x, np.ndarray):\n",
    "        raise TypeError(\"x is not np.ndarray.\")\n",
    "    y = x * a\n",
    "    return y\n",
    "\n",
    "print(aX(2, -1))"
   ]
  },
  {
   "cell_type": "markdown",
   "metadata": {},
   "source": [
    "（上のコードは途中で止まるのが意図した動作です．）\n",
    "\n"
   ]
  },
  {
   "cell_type": "markdown",
   "metadata": {},
   "source": [
    "型コメントの他の利点は\n",
    "- 高機能なeditorなどが注釈を利用して型チェックを行ってくれること\n",
    "- docstringで型を自動生成してくれること，\n",
    "です．以下の三重引用符で囲われた注釈部分はVS codeのdocstring extensionで自動生成しました．[]で囲われた部分を作者が埋めてdocumentを作成します．"
   ]
  },
  {
   "cell_type": "code",
   "execution_count": null,
   "metadata": {},
   "outputs": [],
   "source": [
    "def aX(x: np.ndarray, a: float) -> np.ndarray:\n",
    "    \"\"\"[summary]\n",
    "\n",
    "    Args:\n",
    "        x (np.ndarray): [description]\n",
    "        a (float): [description]\n",
    "\n",
    "    Raises:\n",
    "        TypeError: [description]\n",
    "\n",
    "    Returns:\n",
    "        np.ndarray: [description]\n",
    "    \"\"\"\n",
    "    if not isinstance(x, np.ndarray):\n",
    "        raise TypeError(\"x is not np.ndarray.\")    \n",
    "    y = x * a\n",
    "    return y\n"
   ]
  },
  {
   "cell_type": "markdown",
   "metadata": {},
   "source": [
    "型を複数指定する場合は例えば\n",
    "<pre>\n",
    "from typing import Union\n",
    "...\n",
    "def ...   a: Union[float, int] ...\n",
    "</pre>\n",
    "とします．"
   ]
  },
  {
   "cell_type": "markdown",
   "metadata": {},
   "source": [
    "## スタイルガイド\n",
    "\n",
    "pep8というPythonコードのコーディング規約があります．\n",
    "インデントが空白４文字というのもこのスタイルガイドによります．(4文字でなくてもPythonは動きます．）\n",
    "「（この）ガイドラインの目的は，コードを読みやすくするとともに，Pythonで書かれた幅広いコードのスタイルを一貫させることです．」\n",
    "\n",
    "このスタイルガイドを押し売りする人がいますが，スタイルガイド\n",
    "https://pep8-ja.readthedocs.io/ja/latest/\n",
    "自体が「一貫性にこだわりすぎるのは，狭い心の現れである」と書いています．\n",
    "\n",
    "「多くのプロジェクトには，自分たちのコーディングスタイルに関するガイドラインがあります．それとこの文書の規約の内容が矛盾した場合は，そのプロジェクトのガイドラインが優先します．」\n",
    "と書いてあるとおり自分のスタイルを優先して問題ありません．\n",
    "\n",
    "良いコードは意図通りに動作するコードです．一貫したスタイルに沿って書かれたコードではありません．\n",
    "\n",
    "また，vs codeなどはPythonコードをpep8に従い自動的に変換してくれる機能がありますので，人間がpep8に従いコードを書く必要もありません．\n"
   ]
  },
  {
   "cell_type": "code",
   "execution_count": null,
   "metadata": {},
   "outputs": [],
   "source": []
  }
 ],
 "metadata": {
  "kernelspec": {
   "display_name": "Python 3 (ipykernel)",
   "language": "python",
   "name": "python3"
  },
  "language_info": {
   "codemirror_mode": {
    "name": "ipython",
    "version": 3
   },
   "file_extension": ".py",
   "mimetype": "text/x-python",
   "name": "python",
   "nbconvert_exporter": "python",
   "pygments_lexer": "ipython3",
   "version": "3.9.7"
  }
 },
 "nbformat": 4,
 "nbformat_minor": 2
}
