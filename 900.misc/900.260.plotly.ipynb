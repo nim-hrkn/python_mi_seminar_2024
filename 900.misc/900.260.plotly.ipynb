{
 "cells": [
  {
   "cell_type": "markdown",
   "metadata": {},
   "source": [
    "## potlyの使い方\n",
    "\n",
    "bokehと同様の可視化ライブラリ．\n",
    "\n",
    "### install\n",
    "to install plotly, e.g.,\n",
    "```\n",
    "pip install plotly\n",
    "```\n",
    "or\n",
    "```\n",
    "conda install plotly\n",
    "```\n",
    "\n",
    "\n",
    "### データ読み込み\n",
    "まず，\n",
    " データの読み込みを行う．"
   ]
  },
  {
   "cell_type": "code",
   "execution_count": null,
   "metadata": {},
   "outputs": [],
   "source": [
    "import pandas as pd\n",
    "df = pd.read_csv(\"../data/ZB_WZ_dE_rawdescriptor.csv\")\n",
    "descriptor_names = ['IP_A', 'EA_A', 'EN_A', 'Highest_occ_A',\n",
    "                    'Lowest_unocc_A', 'rs_A', 'rp_A', 'rd_A', 'IP_B', 'EA_B', 'EN_B',\n",
    "                    'Highest_occ_B', 'Lowest_unocc_B', 'rs_B', 'rp_B', 'rd_B']\n",
    "target_name = 'dE'\n",
    "\n",
    "df_3var = pd.read_csv(\"../data_calculated/ZB_WZ_dE_3var.csv\")\n",
    "descriptor_names = ['desc1', 'desc2', 'desc3']\n",
    "target_name = 'dE'\n",
    "\n",
    "\n",
    "del df_3var[\"dE\"]\n",
    "dfall = pd.concat([df, df_3var], axis=1)\n",
    "dfall\n"
   ]
  },
  {
   "cell_type": "code",
   "execution_count": null,
   "metadata": {},
   "outputs": [],
   "source": [
    "import plotly.express as px\n",
    "fig = px.scatter(dfall, x='desc1', y='desc2',\n",
    "                 color=\"dE\", hover_data=[\"A\",\"B\"],\n",
    "                 width=400, height=400)\n",
    "fig.show()"
   ]
  },
  {
   "cell_type": "markdown",
   "metadata": {},
   "source": [
    "## heatmap"
   ]
  },
  {
   "cell_type": "code",
   "execution_count": null,
   "metadata": {},
   "outputs": [],
   "source": [
    "import pandas as pd\n",
    "df = pd.read_csv(\"../data/group131415_div1.csv\", index_col=[0])\n",
    "df"
   ]
  },
  {
   "cell_type": "code",
   "execution_count": null,
   "metadata": {},
   "outputs": [],
   "source": [
    "import plotly.express as px\n",
    "fig = px.imshow(df)\n",
    "fig.show()\n",
    "# colorと出るのはカラーで示してる値のことを指す．"
   ]
  },
  {
   "cell_type": "markdown",
   "metadata": {},
   "source": [
    "## 補足\n",
    "plotlyの良い点はdashで可視化webアプリケーションを作れる点もあります．\n"
   ]
  },
  {
   "cell_type": "code",
   "execution_count": null,
   "metadata": {},
   "outputs": [],
   "source": []
  }
 ],
 "metadata": {
  "kernelspec": {
   "display_name": "Python 3 (ipykernel)",
   "language": "python",
   "name": "python3"
  },
  "language_info": {
   "codemirror_mode": {
    "name": "ipython",
    "version": 3
   },
   "file_extension": ".py",
   "mimetype": "text/x-python",
   "name": "python",
   "nbconvert_exporter": "python",
   "pygments_lexer": "ipython3",
   "version": "3.9.7"
  }
 },
 "nbformat": 4,
 "nbformat_minor": 4
}
