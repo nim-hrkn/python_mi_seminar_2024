{
 "cells": [
  {
   "cell_type": "markdown",
   "metadata": {},
   "source": [
    "## seaborn可視化ライブラリ"
   ]
  },
  {
   "cell_type": "code",
   "execution_count": null,
   "metadata": {},
   "outputs": [],
   "source": [
    "import numpy as np\n",
    "x = np.linspace(-1, 1, 20)\n",
    "y = x**2"
   ]
  },
  {
   "cell_type": "markdown",
   "metadata": {},
   "source": [
    "まず，普通の図を書きます．"
   ]
  },
  {
   "cell_type": "code",
   "execution_count": null,
   "metadata": {},
   "outputs": [],
   "source": [
    "import matplotlib.pyplot as plt\n",
    "%matplotlib inline\n",
    "\n",
    "plt.figure()\n",
    "plt.plot(x, y)\n",
    "plt.show()\n"
   ]
  },
  {
   "cell_type": "markdown",
   "metadata": {},
   "source": [
    "seabornを使うとplotにmeshをつけて図を綺麗にしてくれます．"
   ]
  },
  {
   "cell_type": "code",
   "execution_count": null,
   "metadata": {},
   "outputs": [],
   "source": [
    "import seaborn as sns\n",
    "sns.set()\n",
    "# sns.reset_orig() # 設定を元に戻す場合"
   ]
  },
  {
   "cell_type": "code",
   "execution_count": null,
   "metadata": {},
   "outputs": [],
   "source": [
    "plt.figure()\n",
    "plt.plot(x, y)\n",
    "plt.show()"
   ]
  },
  {
   "cell_type": "markdown",
   "metadata": {},
   "source": [
    "値付きのheatmap表示ができます．"
   ]
  },
  {
   "cell_type": "code",
   "execution_count": null,
   "metadata": {},
   "outputs": [],
   "source": [
    "xmesh = np.random.sample(size=30).reshape(6, 5)\n",
    "\n",
    "plt.figure()\n",
    "sns.heatmap(xmesh)\n",
    "plt.ylim((0, xmesh.shape[1])) # 必要\n",
    "plt.show()"
   ]
  },
  {
   "cell_type": "markdown",
   "metadata": {},
   "source": [
    "kde plotという分布の表示ができます．点から分布を表示します．"
   ]
  },
  {
   "cell_type": "code",
   "execution_count": null,
   "metadata": {},
   "outputs": [],
   "source": [
    "from scipy.stats import multivariate_normal\n",
    "\n",
    "cov = [[1, -0.5], [-0.5, 1]]\n",
    "xpoints = []\n",
    "for i in range(1000):\n",
    "    xpoints.append(multivariate_normal.rvs(mean=[2, 1], cov=cov))\n",
    "xpoints = np.array(xpoints)\n",
    "\n",
    "plt.figure()\n",
    "plt.plot(xpoints[:, 0], xpoints[:, 1], \".\")\n",
    "sns.kdeplot(x=xpoints[:, 0], y=xpoints[:, 1])  # 分布の等高線を書く\n",
    "plt.show()\n"
   ]
  },
  {
   "cell_type": "markdown",
   "metadata": {},
   "source": [
    "pairplot(二つの変数の間の相間図）を書きます．"
   ]
  },
  {
   "cell_type": "code",
   "execution_count": null,
   "metadata": {},
   "outputs": [],
   "source": [
    "import pandas as pd\n",
    "import copy\n",
    "df_3desc = pd.read_csv(\"../data_calculated/ZB_WZ_dE_3var.csv\")\n",
    "descriptor_names = ['desc1', 'desc2', 'desc3']\n",
    "target_name = 'dE'\n",
    "labels = copy.deepcopy(descriptor_names)\n",
    "labels.append(target_name)\n",
    "df = df_3desc[labels]\n",
    "\n",
    "plt.figure()\n",
    "sns.pairplot(df)\n",
    "plt.show()\n"
   ]
  },
  {
   "cell_type": "markdown",
   "metadata": {},
   "source": [
    "例えば上図の例だとdEとdesc1がほぼ線形相関を示していることが，機械学習を実行する前に分かります．\n",
    "また，各変数の分布を見ておくことも重要です．"
   ]
  },
  {
   "cell_type": "code",
   "execution_count": null,
   "metadata": {},
   "outputs": [],
   "source": []
  }
 ],
 "metadata": {
  "kernelspec": {
   "display_name": "Python 3",
   "language": "python",
   "name": "python3"
  },
  "language_info": {
   "codemirror_mode": {
    "name": "ipython",
    "version": 3
   },
   "file_extension": ".py",
   "mimetype": "text/x-python",
   "name": "python",
   "nbconvert_exporter": "python",
   "pygments_lexer": "ipython3",
   "version": "3.9.12"
  }
 },
 "nbformat": 4,
 "nbformat_minor": 4
}
