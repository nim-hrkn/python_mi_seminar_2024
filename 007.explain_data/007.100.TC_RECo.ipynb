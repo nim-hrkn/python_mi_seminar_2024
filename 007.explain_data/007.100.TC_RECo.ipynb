{
 "cells": [
  {
   "cell_type": "markdown",
   "metadata": {},
   "source": [
    "## 希土類Co合金の磁気転移温度\n",
    "\n"
   ]
  },
  {
   "cell_type": "markdown",
   "metadata": {},
   "source": [
    "***説明変数***\n",
    "\n",
    "周期律表\n",
    "\n",
    "- Z : atomic number\n",
    "\n",
    "構造、構造に関する説明変数はAtomWorkから結晶構造を取得した後に加工している。\n",
    "\n",
    "\n",
    "- C_R : 希土類元素の数密度\n",
    "- C_T : Coの数密度\n",
    "- vol_per_atom: 元素あたりの体積\n",
    "\n",
    "希土類原子説明変数\n",
    "\n",
    "- f4, d5: 希土類元素の電子配置\n",
    "- L4f, S4f, J4f,(g-1)J4f, (2-g)J4f ,　元素の角運動量期待値とその射影量\n",
    "\n",
    "***目的変数***\n",
    "\n",
    "- Tc: Curie temperature （K)\n"
   ]
  },
  {
   "cell_type": "code",
   "execution_count": null,
   "metadata": {},
   "outputs": [],
   "source": [
    "INPUT_DATA_DIR = \"../data\"\n",
    "OUTPUT_IMG_DIR = \"image_executed\"\n",
    "IMG_FORMAT = \"png\""
   ]
  },
  {
   "cell_type": "code",
   "execution_count": null,
   "metadata": {},
   "outputs": [],
   "source": [
    "import pandas as pd\n",
    "import os\n",
    "\n",
    "pd.set_option(\"display.max_columns\",100)\n",
    "pd.set_option(\"display.max_rows\",100)\n",
    "import matplotlib.pyplot as plt\n"
   ]
  },
  {
   "cell_type": "code",
   "execution_count": null,
   "metadata": {},
   "outputs": [],
   "source": [
    "!head -3 ../data/TC_ReCo_detail_descriptor.csv"
   ]
  },
  {
   "cell_type": "code",
   "execution_count": null,
   "metadata": {},
   "outputs": [],
   "source": [
    "df = pd.read_csv(os.path.join(INPUT_DATA_DIR,\"TC_ReCo_detail_descriptor.csv\"))\n",
    "descriptor_names = ['C_R', 'C_T', 'vol_per_atom', 'Z', 'f4', 'd5', 'L4f', 'S4f', 'J4f',\n",
    "       '(g-1)J4f', '(2-g)J4f']\n",
    "target_name = 'Tc'\n",
    "mata_labels = ['name', 'polytyp','ref', 'author', 'link', 'comment', 'polytyp2']"
   ]
  },
  {
   "cell_type": "code",
   "execution_count": null,
   "metadata": {},
   "outputs": [],
   "source": [
    "df.head()"
   ]
  },
  {
   "cell_type": "code",
   "execution_count": null,
   "metadata": {},
   "outputs": [],
   "source": [
    "def show_hist(df, target_name, output_img_dir=OUTPUT_IMG_DIR,img_format=IMG_FORMAT):\n",
    "    fig, ax = plt.subplots(figsize=(4,4))\n",
    "    df.hist(target_name, ax=ax)\n",
    "    ax.set_xlabel(target_name)\n",
    "    ax.set_ylabel(\"DOS\")\n",
    "    fig.tight_layout()\n",
    "    if True:\n",
    "        os.makedirs(OUTPUT_IMG_DIR, exist_ok=True)\n",
    "        fig.savefig(os.path.join(output_img_dir,f\"TC_RECo_Tc_historgram.{img_format}\"))\n",
    "    fig.show()\n",
    "    \n",
    "show_hist(df, target_name)"
   ]
  },
  {
   "cell_type": "code",
   "execution_count": null,
   "metadata": {},
   "outputs": [],
   "source": [
    "from sklearn.preprocessing import StandardScaler\n",
    "from scipy.spatial.distance import pdist,squareform\n",
    "from scipy.cluster.hierarchy import dendrogram, linkage\n",
    "import copy\n",
    "from scipy.stats import pearsonr\n",
    "import numpy as np\n",
    "\n",
    "def make_linkage(df, descriptor_names, target_name, corr=\"minus_abs_pearson\", method=\"weighted\"):\n",
    "    labels = copy.deepcopy(descriptor_names)\n",
    "    labels.append(target_name)\n",
    "    Xraw = df.loc[:,labels].values\n",
    "    scaler = StandardScaler()\n",
    "    X = scaler.fit_transform(Xraw)\n",
    "    df_tmp = pd.DataFrame(X)\n",
    "    if corr==\"minus_abs_pearson\":\n",
    "        corr = 1- np.abs(df_tmp.corr())\n",
    "    else:\n",
    "        raise ValueError(\"unknown corr={}\".format(corr))\n",
    "    pairdistance = squareform(corr)\n",
    "    Z = linkage(pairdistance, method=method)\n",
    "    return Z, labels\n",
    "\n",
    "def show_dendrogram(Z,labels, corr, output_img_dir=OUTPUT_IMG_DIR, img_format=IMG_FORMAT):\n",
    "    fig, ax = plt.subplots()\n",
    "    dendrogram(Z,labels=labels,orientation=\"left\", ax=ax)\n",
    "    ax.set_xlabel(corr)\n",
    "    fig.tight_layout()\n",
    "    if True:\n",
    "        os.makedirs(OUTPUT_IMG_DIR, exist_ok=True)\n",
    "        fig.savefig(os.path.join(output_img_dir,f\"TC_RECo_{corr}_dendrogram.{img_format}\"))\n",
    "    fig.show()\n",
    "    \n",
    "corr=\"minus_abs_pearson\"\n",
    "Z, labels = make_linkage(df, descriptor_names, target_name, corr)\n",
    "show_dendrogram(Z,labels, corr)"
   ]
  },
  {
   "cell_type": "code",
   "execution_count": null,
   "metadata": {},
   "outputs": [],
   "source": [
    "import numpy as np\n",
    "import matplotlib.pyplot as plt\n",
    "def plot_z_Tc(df, output_img_dir=OUTPUT_IMG_DIR,img_format=IMG_FORMAT):\n",
    "    color = [\"black\",\"gray\",\"silver\",\"red\",\"darkkhaki\",\"darksalmon\",\n",
    "             \"gold\",\"green\",\"blue\",\"deepskyblue\",\"m\",\"paleviotedred\"]\n",
    "    plt.figure()\n",
    "    labels = np.unique(df[\"polytyp2\"].values)\n",
    "    for i,label in enumerate(labels):\n",
    "        dfq = df.query(\"polytyp2=='{}'\".format(label)).sort_values(by=\"Z\")\n",
    "        x = dfq.loc[:,'Z'].values\n",
    "        y = dfq.loc[:,'Tc'].values\n",
    "        plt.plot(x,y,\"o-\",c=color[i],label=label)\n",
    "    plt.xlabel(\"Z\")\n",
    "    plt.ylabel(\"Tc\")\n",
    "    plt.legend(bbox_to_anchor=(1.05, 1), loc='upper left', borderaxespad=0 )\n",
    "    plt.tight_layout()\n",
    "    if True:\n",
    "        os.makedirs(OUTPUT_IMG_DIR, exist_ok=True)\n",
    "        plt.savefig(os.path.join(output_img_dir,f\"TC_RECo_vs_Z.{img_format}\"))\n",
    "    plt.show()\n",
    "plot_z_Tc(df)"
   ]
  },
  {
   "cell_type": "code",
   "execution_count": null,
   "metadata": {},
   "outputs": [],
   "source": [
    "import os\n",
    "import seaborn as sns\n",
    "from copy import deepcopy\n",
    "\n",
    "imgfile = os.path.join(OUTPUT_IMG_DIR,f\"ReCo_pairplot.{IMG_FORMAT}\")\n",
    "# すでにimgfileが有る場合は再度実行しない。\n",
    "if not os.path.isfile(imgfile):\n",
    "    alllabels = deepcopy(descriptor_names)\n",
    "    alllabels.append(target_name)\n",
    "    img = sns.pairplot(df[alllabels])\n",
    "    os.makedirs(OUTPUT_IMG_DIR, exist_ok=True)\n",
    "    img.savefig(imgfile)\n",
    "\n",
    "# imgfileを表示する。\n",
    "import IPython\n",
    "IPython.display.Image(imgfile)"
   ]
  },
  {
   "cell_type": "markdown",
   "metadata": {},
   "source": [
    "**参考文献**\n",
    "\n",
    "1. Hieu Chi Dam, Viet Cuong Nguyen, Tien Lam Pham, Anh Tuan Nguyen, Kiyoyuki Terakura, Takashi Miyake, and Hiori Kino, J. Phys. Soc. Jpn. 87, 113801 (2018). (open select) https://journals.jps.jp/doi/abs/10.7566/JPSJ.87.113801\n",
    "2. Tcの取得先論文に関してはファイル内に記載しています。\n",
    "3. 量子数関連説明変数 Jens Jensen and Allan R. Mackintosh, \"Rare Earth Magnetism, Structures and Excitations\", Clarendon Press, Oxford(1991)\n",
    "4. 構造の元データ取得元。\n",
    "http://crystdb.nims.go.jp/　（June, 28, 2017), \n",
    "Yibin Xu, Masayoshi Yamazaki, and Pierre Villars: Inorganic Materials Database for Exploring the Nature of Material: Jpn. J. Appl. Phys. 50 (2011) 11RH02."
   ]
  }
 ],
 "metadata": {
  "kernelspec": {
   "display_name": "Python 3 (ipykernel)",
   "language": "python",
   "name": "python3"
  },
  "language_info": {
   "codemirror_mode": {
    "name": "ipython",
    "version": 3
   },
   "file_extension": ".py",
   "mimetype": "text/x-python",
   "name": "python",
   "nbconvert_exporter": "python",
   "pygments_lexer": "ipython3",
   "version": "3.9.15"
  }
 },
 "nbformat": 4,
 "nbformat_minor": 4
}
