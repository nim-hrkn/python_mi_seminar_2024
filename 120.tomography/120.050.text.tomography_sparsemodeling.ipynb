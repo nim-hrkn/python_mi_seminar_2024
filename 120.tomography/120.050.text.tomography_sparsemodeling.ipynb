{
 "cells": [
  {
   "cell_type": "markdown",
   "metadata": {},
   "source": [
    "![](image_text/120a_02.png)"
   ]
  },
  {
   "cell_type": "markdown",
   "metadata": {},
   "source": [
    "![](image_text/120a_03.png)"
   ]
  },
  {
   "cell_type": "markdown",
   "metadata": {},
   "source": [
    "![](image_text/120a_04.png)"
   ]
  },
  {
   "cell_type": "markdown",
   "metadata": {},
   "source": [
    "![](image_text/120a_05.png)"
   ]
  },
  {
   "cell_type": "markdown",
   "metadata": {},
   "source": [
    "![](image_text/120a_06.png)"
   ]
  },
  {
   "cell_type": "markdown",
   "metadata": {},
   "source": [
    "![](image_text/120a_07.png)"
   ]
  },
  {
   "cell_type": "markdown",
   "metadata": {},
   "source": [
    "![](image_text/120a_08.png)"
   ]
  },
  {
   "cell_type": "markdown",
   "metadata": {},
   "source": [
    "![](image_text/120a_09.png)"
   ]
  },
  {
   "cell_type": "markdown",
   "metadata": {},
   "source": [
    "![](image_text/120a_10.png)"
   ]
  },
  {
   "cell_type": "markdown",
   "metadata": {},
   "source": [
    "以下で、左に表示される入出力セル番号は新規実行した場合の番号を示します。"
   ]
  },
  {
   "cell_type": "code",
   "execution_count": null,
   "metadata": {},
   "outputs": [],
   "source": [
    "import pandas as pd\n",
    "import numpy as np\n",
    "from sklearn.linear_model import Lasso\n",
    "import matplotlib.pyplot as plt\n",
    "import os"
   ]
  },
  {
   "cell_type": "code",
   "execution_count": null,
   "metadata": {},
   "outputs": [],
   "source": [
    "DATA_NAME = \"L64\"  #　フォントを定義\n",
    "# ”L64\", \"dance64\", \"syou64\", \"zen64\"を選択可能です。\n",
    "D = 4 # トモグラフ像撮影数を説明変数の1/Dとする。\n",
    "NOISE_FAC = 0.05  # Xwに追加するノイズの大きさ\n",
    "ALPHA = 10**(-5)  # 予め最適化したLasso hyperparemeter\n",
    "FIT_INTERCEPT = True # Lassoの切片を使うかどうか。\n"
   ]
  },
  {
   "cell_type": "code",
   "execution_count": null,
   "metadata": {},
   "outputs": [],
   "source": [
    "ROOT = \"..\"\n",
    "filename = os.path.join(f\"{ROOT}/data/font\",DATA_NAME + \".csv\") # ファイル名生成\n",
    "data = np.loadtxt(filename, delimiter=\",\") # 名前カラムがないので、numpyでデータ取得している。\n",
    "l = data.shape[0] # data(l,l)、フォント。(l,l)であることを仮定している。\n",
    "print(\"l=\",l)\n",
    "data = data.reshape(-1) # P=l*l, size Pの一次元に行列を変える。\n"
   ]
  },
  {
   "cell_type": "code",
   "execution_count": null,
   "metadata": {},
   "outputs": [],
   "source": [
    "m1 = data.min() # 全体の最小値\n",
    "m2 = data.max() # 全体の最大値\n",
    "w_orig = (data-m1)/(m2-m1) # データ全体を[最小値,最大値]を[0,1]で規格化する。\n",
    "# 元画像をw_origとする。地（背景）部分が0、文字部分が1となる。\n"
   ]
  },
  {
   "cell_type": "code",
   "execution_count": null,
   "metadata": {},
   "outputs": [],
   "source": [
    "plt.imshow(w_orig.reshape(l,l), cmap=plt.cm.gray, interpolation='nearest') # データの可視化"
   ]
  },
  {
   "cell_type": "code",
   "execution_count": null,
   "metadata": {},
   "outputs": [],
   "source": [
    "plt.hist(w_orig, bins=100) # 0が多いことを仮定していたので、値の頻度を可視化\n",
    "\"_\" # plt.histだけだとtext出力が多く出るのでcode cellの最後に文字列を表示\n",
    "# Lの場合82％が=0。"
   ]
  },
  {
   "cell_type": "code",
   "execution_count": null,
   "metadata": {},
   "outputs": [],
   "source": [
    "from tomography_misc import build_projection_operator\n",
    "# build_projection_operatorはsklearnのコードから来ています．\n",
    "# https://scikit-learn.org/stable/auto_examples/applications/plot_tomography_l1_reconstruction.html\n",
    "P = l*l # 説明変数数\n",
    "X = build_projection_operator(l, l//D) # 変換行列Xの生成, l//Dはintを返す。Nをl//D分の１にする。\n",
    "print(X.shape) # (N,P), D=4だとPの1/4なのでN=4069/4=1024になる。"
   ]
  },
  {
   "cell_type": "code",
   "execution_count": null,
   "metadata": {},
   "outputs": [],
   "source": [
    "y = X * w_orig # 平行系トモグラフ像の生成, X * w　\n",
    "y += NOISE_FAC * (np.random.randn(*y.shape)-0.5)*2 # 更に乱数ノイズを加えて観測値とする。\n"
   ]
  },
  {
   "cell_type": "code",
   "execution_count": null,
   "metadata": {},
   "outputs": [],
   "source": [
    "reg = Lasso(alpha=ALPHA, fit_intercept=FIT_INTERCEPT) # 予め設定したALPHAを用いてLasso\n",
    "reg.fit(X, y) # Xとyからwを求める＝トモグラフ像の復元\n",
    "w_reg = reg.coef_ # w_reg(P) 線型回帰の係数(.coef_)が復元された像,w_regとしておく。\n"
   ]
  },
  {
   "cell_type": "code",
   "execution_count": null,
   "metadata": {},
   "outputs": [],
   "source": [
    "from tomography_misc import plot_images\n",
    "plot_images(w_orig.reshape(l,l), w_reg.reshape(l,l), \"original\", \"L1\") \n",
    "# original（左）とLassoの結果（右）を並べて表示する。\n",
    "# image（上）と値の頻度（下）"
   ]
  },
  {
   "cell_type": "code",
   "execution_count": null,
   "metadata": {},
   "outputs": [],
   "source": [
    "# 最小を0、最大を1とする。\n",
    "w_reg_max1 = np.fmin(w_reg, 1) \n",
    "w_reg_max1 = np.fmax(w_reg_max1, 0) \n",
    "\n",
    "plot_images(w_orig.reshape(l,l), w_reg_max1.reshape(l,l), \"original\", \"L1 [0:1]\") \n",
    "# originalとLassoの結果を並べて表示する。\n",
    "# image（上）と値の頻度（下）"
   ]
  },
  {
   "cell_type": "markdown",
   "metadata": {},
   "source": [
    "![](image_text/120a_11.png)"
   ]
  },
  {
   "cell_type": "markdown",
   "metadata": {},
   "source": [
    "## 文字ソース\n",
    "- 文字Lは https://commons.wikimedia.org/wiki/File:Old_English_typeface.svg\n",
    "- 日本語フォントは「筆文字フリー素材集」http://fudemoji-free.com/\n",
    "\n",
    "から取得しました。"
   ]
  },
  {
   "cell_type": "code",
   "execution_count": null,
   "metadata": {},
   "outputs": [],
   "source": []
  }
 ],
 "metadata": {
  "kernelspec": {
   "display_name": "Python 3 (ipykernel)",
   "language": "python",
   "name": "python3"
  },
  "language_info": {
   "codemirror_mode": {
    "name": "ipython",
    "version": 3
   },
   "file_extension": ".py",
   "mimetype": "text/x-python",
   "name": "python",
   "nbconvert_exporter": "python",
   "pygments_lexer": "ipython3",
   "version": "3.9.18"
  }
 },
 "nbformat": 4,
 "nbformat_minor": 4
}
