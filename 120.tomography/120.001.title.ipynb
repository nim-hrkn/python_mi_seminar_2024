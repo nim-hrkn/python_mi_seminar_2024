{
 "cells": [
  {
   "cell_type": "markdown",
   "id": "1b1a63b0-8521-4593-8740-b684c3ee5b79",
   "metadata": {},
   "source": [
    "# トモグラフ像の復元\n",
    "\n",
    "説明とスクリプト\n",
    "[120.050](120.050.text.tomography_sparsemodeling.ipynb)"
   ]
  },
  {
   "cell_type": "code",
   "execution_count": null,
   "id": "ce3fc930-6616-4a8c-9744-8f2d2432a45f",
   "metadata": {},
   "outputs": [],
   "source": []
  }
 ],
 "metadata": {
  "kernelspec": {
   "display_name": "Python 3 (ipykernel)",
   "language": "python",
   "name": "python3"
  },
  "language_info": {
   "codemirror_mode": {
    "name": "ipython",
    "version": 3
   },
   "file_extension": ".py",
   "mimetype": "text/x-python",
   "name": "python",
   "nbconvert_exporter": "python",
   "pygments_lexer": "ipython3",
   "version": "3.9.15"
  }
 },
 "nbformat": 4,
 "nbformat_minor": 5
}
