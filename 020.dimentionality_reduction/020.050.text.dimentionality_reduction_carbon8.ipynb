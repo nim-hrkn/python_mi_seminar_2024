{
 "cells": [
  {
   "cell_type": "code",
   "execution_count": null,
   "id": "8cf9e05e",
   "metadata": {},
   "outputs": [],
   "source": [
    "import numpy as np\n",
    "import seaborn as sns\n",
    "import pandas as pd\n",
    "import os\n",
    "import matplotlib.pyplot as plt\n",
    "from sklearn.preprocessing import StandardScaler\n",
    "\n",
    "%matplotlib inline\n"
   ]
  },
  {
   "cell_type": "code",
   "execution_count": null,
   "id": "26b618d3-8672-43bb-bf7c-dbe7fe6dfaea",
   "metadata": {},
   "outputs": [],
   "source": [
    "import get_data \n",
    "df_obs, descriptor_names, splabel = get_data.load(\"Carbon8_desc\")\n",
    "df_all, descriptor_names, splabel = get_data.load(\"Carbon8_desc_all\")\n",
    "# df_obs, descriptor_names, splabel = get_data(\"Fe2\")\n",
    "# df_all, descriptor_names, splabel = get_data(\"Fe2_new\")"
   ]
  },
  {
   "cell_type": "code",
   "execution_count": null,
   "id": "643e4a97",
   "metadata": {},
   "outputs": [],
   "source": [
    "Xraw = df_obs.loc[:, descriptor_names].values\n",
    "scaler = StandardScaler()\n",
    "scaler.fit(Xraw)\n",
    "X = scaler.transform(Xraw)\n",
    "# 全データ\n",
    "Xraw_new = df_all.loc[:, descriptor_names].values\n",
    "X_new = scaler.transform(Xraw_new)\n"
   ]
  },
  {
   "cell_type": "code",
   "execution_count": null,
   "id": "8d158008",
   "metadata": {},
   "outputs": [],
   "source": [
    "from sklearn.decomposition import PCA\n",
    "P = X.shape[1]\n",
    "pca = PCA(P)\n",
    "pca.fit(X)\n",
    "explained_variance_ratio = []\n",
    "indx = range(1,P+1)\n",
    "esum = [np.sum(pca.explained_variance_ratio_[:i+1]) for i in\n",
    "        range(P)]\n"
   ]
  },
  {
   "cell_type": "code",
   "execution_count": null,
   "id": "7379f917",
   "metadata": {},
   "outputs": [],
   "source": [
    "from dimred_misc import plot_expratio\n",
    "plot_expratio(indx, pca.explained_variance_ratio_, esum)"
   ]
  },
  {
   "cell_type": "code",
   "execution_count": null,
   "id": "3c3d1a60",
   "metadata": {},
   "outputs": [],
   "source": [
    "from sklearn.decomposition import PCA\n",
    "ndim = 2\n",
    "pca = PCA(ndim)\n",
    "pca.fit(X)\n",
    "X_rd = pca.transform(X)\n",
    "X_rd_new = pca.transform(X_new)\n"
   ]
  },
  {
   "cell_type": "code",
   "execution_count": null,
   "id": "119afaa0",
   "metadata": {},
   "outputs": [],
   "source": [
    "from dimred_misc import scatterplot_rd\n",
    "scatterplot_rd(X_rd, df_obs[splabel].values, X_rd_new)\n"
   ]
  },
  {
   "cell_type": "code",
   "execution_count": null,
   "id": "719fc444",
   "metadata": {},
   "outputs": [],
   "source": [
    "from sklearn.manifold import MDS\n",
    "mds = MDS(ndim, random_state=1)\n",
    "X_mse = mds.fit_transform(X)\n",
    "scatterplot_rd(X_mse, df_obs[splabel].values)\n"
   ]
  },
  {
   "cell_type": "code",
   "execution_count": null,
   "id": "66e542fa-47d0-40e1-ba24-2a0bd01ec3e7",
   "metadata": {},
   "outputs": [],
   "source": [
    "from sklearn.manifold import TSNE\n",
    "tsne = TSNE(ndim, random_state=1, perplexity=30)\n",
    "X_tsne = tsne.fit_transform(X)\n",
    "scatterplot_rd(X_tsne, df_obs[splabel].values)"
   ]
  }
 ],
 "metadata": {
  "kernelspec": {
   "display_name": "Python 3 (ipykernel)",
   "language": "python",
   "name": "python3"
  },
  "language_info": {
   "codemirror_mode": {
    "name": "ipython",
    "version": 3
   },
   "file_extension": ".py",
   "mimetype": "text/x-python",
   "name": "python",
   "nbconvert_exporter": "python",
   "pygments_lexer": "ipython3",
   "version": "3.9.15"
  }
 },
 "nbformat": 4,
 "nbformat_minor": 5
}
