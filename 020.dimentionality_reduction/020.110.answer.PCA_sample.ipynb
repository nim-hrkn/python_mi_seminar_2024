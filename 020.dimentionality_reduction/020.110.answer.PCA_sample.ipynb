{
 "cells": [
  {
   "cell_type": "code",
   "execution_count": null,
   "metadata": {},
   "outputs": [],
   "source": [
    "from sklearn.decomposition import PCA\n",
    "from sklearn.preprocessing import StandardScaler\n",
    "import pandas as pd\n",
    "import matplotlib.pyplot as plt\n",
    "import os\n",
    "%matplotlib inline"
   ]
  },
  {
   "cell_type": "code",
   "execution_count": null,
   "metadata": {},
   "outputs": [],
   "source": [
    "# データ収集\n",
    "g_dfraw = pd.read_csv(\"../data/anisotropicdata1.csv\")\n",
    "g_desriptor_labels = [\"x1\", \"x2\"]\n",
    "g_target_name = \"y\"\n",
    "g_dfraw"
   ]
  },
  {
   "cell_type": "code",
   "execution_count": null,
   "metadata": {},
   "outputs": [],
   "source": [
    "G_METADATA = {\"outputdir\": \"image_executed\", \"prefix\": \"PCA_sample\", \n",
    "              \"dataname\":\"anisotropicdata1\", \"normalizationtype\": \"StandardScaler\"}"
   ]
  },
  {
   "cell_type": "code",
   "execution_count": null,
   "metadata": {},
   "outputs": [],
   "source": [
    "g_Xraw = g_dfraw.loc[:, g_desriptor_labels].values\n",
    "g_label = g_dfraw.loc[:, g_target_name].values\n",
    "# データプリプロセス\n",
    "g_scaler = StandardScaler()\n",
    "g_scaler.fit(g_Xraw)\n",
    "g_X = g_scaler.transform(g_Xraw)\n",
    "# データ解析\n",
    "g_pca = PCA(2)\n",
    "g_pca.fit(g_X)\n",
    "g_X_pca = g_pca.transform(g_X)\n"
   ]
  },
  {
   "cell_type": "code",
   "execution_count": null,
   "metadata": {},
   "outputs": [],
   "source": [
    "def plot_data2d(X, y0=None, title:str=None, metadata: dict = G_METADATA,\n",
    "               labelfontsize=15, tickfontsize=15):\n",
    "    \"\"\"plot explanatory variables and optionally target variable.\n",
    "\n",
    "    Args:\n",
    "        X (np.array): descriptors\n",
    "        y0 (np.array, optional): target variable. Defaults to None.\n",
    "        title (str, optional): 図タイトル. Defaults to None.\n",
    "        metadata (dict): 表示用データ. Defaults to G_METADATA.\n",
    "        labelfontsize (int, optional): label font size. Defaults to 15.\n",
    "        tickfontsize (int, optional): ticks font size. Defaults to 15.\n",
    "    \"\"\"\n",
    "    fig, ax = plt.subplots(figsize=(5, 5))\n",
    "    if y0 is not None:\n",
    "        y = y0.ravel()\n",
    "        ax.scatter(X[:, 0], X[:, 1], c=y, linewidths=0, s=30)\n",
    "    else:\n",
    "        ax.scatter(X[:, 0], X[:, 1], linewidths=0, s=30)\n",
    "    ax.set_xlabel(\"axis 1\", fontsize=labelfontsize)\n",
    "    ax.set_ylabel(\"axis 2\", fontsize=labelfontsize)\n",
    "    if title is not None:\n",
    "        ax.set_title(title)\n",
    "        \n",
    "    ax.tick_params(axis = 'x', labelsize =tickfontsize)\n",
    "    ax.tick_params(axis = 'y', labelsize =tickfontsize)\n",
    "    \n",
    "    fig.tight_layout()\n",
    "    filename = \"_\".join([metadata[\"prefix\"],metadata[\"dataname\"],str(title)])+\".png\"\n",
    "    print(filename)\n",
    "    fig.tight_layout()\n",
    "    fig.savefig(os.path.join(metadata[\"outputdir\"], filename))\n",
    "    # fig.show()\n",
    "    plt.show()\n",
    "    \n",
    "plot_data2d(g_X, g_label)\n"
   ]
  },
  {
   "cell_type": "code",
   "execution_count": null,
   "metadata": {},
   "outputs": [],
   "source": [
    "print(\"Scaled original data\")\n",
    "plot_data2d(g_X, g_label, title=\"original\")\n",
    "print (\"PCA transformed data\")\n",
    "plot_data2d(g_X_pca, g_label, title=\"transformed\")"
   ]
  },
  {
   "cell_type": "code",
   "execution_count": null,
   "metadata": {},
   "outputs": [],
   "source": []
  }
 ],
 "metadata": {
  "kernelspec": {
   "display_name": "Python 3 (ipykernel)",
   "language": "python",
   "name": "python3"
  },
  "language_info": {
   "codemirror_mode": {
    "name": "ipython",
    "version": 3
   },
   "file_extension": ".py",
   "mimetype": "text/x-python",
   "name": "python",
   "nbconvert_exporter": "python",
   "pygments_lexer": "ipython3",
   "version": "3.9.15"
  }
 },
 "nbformat": 4,
 "nbformat_minor": 4
}
