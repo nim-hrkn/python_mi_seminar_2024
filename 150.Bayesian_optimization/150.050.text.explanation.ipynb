{
 "cells": [
  {
   "cell_type": "code",
   "execution_count": null,
   "id": "28c15660",
   "metadata": {},
   "outputs": [],
   "source": [
    "from sklearn.gaussian_process import GaussianProcessRegressor, kernels\n",
    "from sklearn.gaussian_process.kernels import RBF\n",
    "from sklearn.preprocessing import StandardScaler\n",
    "import random\n",
    "import numpy as np\n",
    "import pandas as pd\n",
    "import matplotlib.pyplot as plt\n"
   ]
  },
  {
   "cell_type": "code",
   "execution_count": null,
   "id": "7d7507af",
   "metadata": {},
   "outputs": [],
   "source": [
    "# 観測データの初期選択\n",
    "NSELECT = 2 # 観測データ初期選択数\n",
    "RANDOM_STATE = 1 # 乱数SEED\n",
    "# 獲得関数\n",
    "V = 2 # v of sqrt(v t) of UCB\n",
    "ACQ = \"UCB\" # TS or UCB\n",
    "RANDOM_STATE_TS = 2 # TSの場合のreg.sample_y()の乱数SEED"
   ]
  },
  {
   "cell_type": "code",
   "execution_count": null,
   "id": "b903fb78",
   "metadata": {},
   "outputs": [],
   "source": [
    "ROOT = \"..\"\n",
    "df = pd.read_csv(f\"{ROOT}/data_calculated/02x_m_sin5w.csv\") # データ取得\n",
    "print(\"df.shape:\",df.shape)\n",
    "DESCRIPTOR_NAMES = ['x1'] #,'x2'] # 説明変数、xの一次と二次。\n",
    "TARGET_NAME = \"y\" # 目的変数\n",
    "\n",
    "Xraw = df[DESCRIPTOR_NAMES].values # 生の説明変数\n",
    "y = df[TARGET_NAME].values # 目的変数\n",
    "print(\"Xraw.shape, y.shape:\",Xraw.shape, y.shape)"
   ]
  },
  {
   "cell_type": "code",
   "execution_count": null,
   "id": "494dc843",
   "metadata": {},
   "outputs": [],
   "source": [
    "scaler = StandardScaler()\n",
    "X = scaler.fit_transform(Xraw) # 規格化された説明変数\n",
    "y = y - np.mean(y) # 可視化の都合で平均を引いておく\n"
   ]
  },
  {
   "cell_type": "code",
   "execution_count": null,
   "id": "21aeadd5",
   "metadata": {},
   "outputs": [],
   "source": [
    "plt.plot(X[:, 0], y, \".-\")\n"
   ]
  },
  {
   "cell_type": "code",
   "execution_count": null,
   "id": "9ba386a7",
   "metadata": {},
   "outputs": [],
   "source": [
    "kernel = RBF(length_scale=1) # ガウス過程回帰のRBFカーネル\n",
    "# k(x,y)=exp(-(x-y)^2/(2length_scale^2)), ユークリッド距離です。\n",
    "\n",
    "# ガウス過程回帰の定義\n",
    "# この例ではハイパーパラメタを最適化すると過学習するのでoptimizer=Noneとした。\n",
    "reg = GaussianProcessRegressor(kernel=kernel, optimizer=None) \n",
    "# reg = GaussianProcessRegressor(kernel=kernel) \n"
   ]
  },
  {
   "cell_type": "code",
   "execution_count": null,
   "id": "c2de5def",
   "metadata": {},
   "outputs": [],
   "source": [
    "iopt = np.argmax(y) # yが最も大きいindexが得られる。\n",
    "# インデックスioptが見つかったら終了とする。\n",
    "print(f\"argmax(X)={iopt}, max(X)={X[iopt]}\") # 表示"
   ]
  },
  {
   "cell_type": "code",
   "execution_count": null,
   "id": "93f7db6f-b23d-4fd1-b770-19ad8d1d8387",
   "metadata": {},
   "outputs": [],
   "source": [
    "random.seed(RANDOM_STATE) # random.sampleに用いるSEED\n",
    "idx = list(range(X.shape[0])) # Xのインデックスリスト\n",
    "print(\"idx:\", idx)\n",
    "print(\"NSELECT:\", NSELECT)\n",
    "action = np.array(random.sample(idx, NSELECT)) \n",
    "# Xのインデックスリストから訓練データとして用いる初期値としてNSELECTつ選ぶ\n",
    "print(\"initial action:\", action)\n",
    "print(\"initial X:\", X[action].tolist()) # 表示を横に行うためにlistにする。"
   ]
  },
  {
   "cell_type": "code",
   "execution_count": null,
   "id": "81190d21-f12c-4120-9e45-1000b2770b25",
   "metadata": {},
   "outputs": [],
   "source": [
    "from BO_misc import plot_GPR # user定義可視化関数を用いる。\n",
    "\n",
    "print(\"Acquisition function:\", ACQ)\n",
    "final_action = False\n",
    "for it in range(20):\n",
    "    Xtrain = X[action] # 訓練データ\n",
    "    ytrain = y[action] # 訓練データ\n",
    "    reg.fit(Xtrain, ytrain) # モデル当てはめ\n",
    "    yp_mean, yp_std = reg.predict(X, return_std=True) # 予測値平均値と標準偏差\n",
    "    if ACQ==\"UCB\":\n",
    "        acq = yp_mean + yp_std*np.sqrt(V*it) # UCB獲得関数\n",
    "    elif ACQ == \"TS\":\n",
    "        acq = reg.sample_y(X, random_state=RANDOM_STATE_TS+it)\n",
    "    else:\n",
    "        raise RutimeError(f\"unknown ACQ={ACQ}\")\n",
    "    ia = np.argmax(acq) # 最大の獲得関数のインデックス\n",
    "    action = np.hstack([action, ia]) # 訓練データインデックスリストに加える\n",
    "    plot_GPR(X[:,0], y, Xtrain, ytrain, yp_mean, yp_std, acq, it, ia=ia) # 可視化\n",
    "    # ravel()は一次元化するメンバー関数。\n",
    "    if final_action: \n",
    "        break\n",
    "    print(f\"iteration {it+1}, next action {ia}, {X[ia]}\")\n",
    "    if iopt in action: # 最大yを与えるインデックスを含むか？\n",
    "        print(f\"iteration {it+1}, action={action}\")\n",
    "        final_action = True # 最大yの値を得るために、最後にもう一度行う。"
   ]
  },
  {
   "cell_type": "code",
   "execution_count": null,
   "id": "a7e4466f-3d28-4d6e-9f1b-62edec492fbc",
   "metadata": {},
   "outputs": [],
   "source": [
    "if ACQ != \"TS\":\n",
    "    raise"
   ]
  },
  {
   "cell_type": "markdown",
   "id": "443e6b33-493b-48a0-9974-142cd6edb3e9",
   "metadata": {},
   "source": [
    "# 多次元ガウス分布からサンプリングする。"
   ]
  },
  {
   "cell_type": "code",
   "execution_count": null,
   "id": "73deef54-9748-41ce-8b7e-95c30a78d1d4",
   "metadata": {},
   "outputs": [],
   "source": [
    "USE_SAMPLE_Y = True # True:ガウス過程.sample_y()を使う. False:multivariate_normal.rvs()を使う\n",
    "\n",
    "random.seed(RANDOM_STATE) # random.sampleに用いるSEED\n",
    "idx = list(range(X.shape[0])) # Xのインデックスリスト\n",
    "action = np.array(random.sample(idx, NSELECT)) \n",
    "\n",
    "Xtrain = X[action] # 訓練データX\n",
    "ytrain = y[action] # 訓練データy\n",
    "reg.fit(Xtrain, ytrain) # 学習\n",
    "\n",
    "if USE_SAMPLE_Y:\n",
    "    yp_mean = reg.predict(X) # 平均値のみ\n",
    "else:\n",
    "    print(\"calculate covariance matrix\")\n",
    "    yp_mean, yp_covarencematrix = reg.predict(X, return_cov=True) # 平均値と共分散行列\n",
    "    np.random.seed(seed=RANDOM_STATE_TS)"
   ]
  },
  {
   "cell_type": "code",
   "execution_count": null,
   "id": "e928ebcd-6b7a-424b-bebe-74cf85ed78c4",
   "metadata": {},
   "outputs": [],
   "source": [
    "from scipy.stats import multivariate_normal\n",
    "fig, ax = plt.subplots()\n",
    "# 50\\vec{Y}点選択\n",
    "for _i in range(50): \n",
    "    if USE_SAMPLE_Y:\n",
    "        # random_stateの変数を変えないと、全て同じg_acqが得られる。\n",
    "        acq = reg.sample_y(X, random_state=RANDOM_STATE_TS+_i)\n",
    "    else:\n",
    "        # 平均値と共分散行列を顕に用いる。\n",
    "        acq = multivariate_normal.rvs(yp_mean, yp_covarencematrix)\n",
    "    ax.plot(X[:, 0], acq, color=\"red\", alpha=0.1)\n",
    "ax.plot(X[:, 0], y, \"--\", color=\"blue\")  # ,label=\"expriment\")\n",
    "ax.plot(Xtrain[:, 0], ytrain, \"o\", color=\"blue\", label=\"expriment\")\n",
    "# 赤線が50 lines描かれる。\n",
    "# 各赤線がStochastic samplingされた\\vec{Y}"
   ]
  },
  {
   "cell_type": "markdown",
   "id": "fe0a8843-8880-4807-a8f7-a73ba9e00240",
   "metadata": {},
   "source": []
  }
 ],
 "metadata": {
  "kernelspec": {
   "display_name": "Python 3 (ipykernel)",
   "language": "python",
   "name": "python3"
  },
  "language_info": {
   "codemirror_mode": {
    "name": "ipython",
    "version": 3
   },
   "file_extension": ".py",
   "mimetype": "text/x-python",
   "name": "python",
   "nbconvert_exporter": "python",
   "pygments_lexer": "ipython3",
   "version": "3.9.15"
  }
 },
 "nbformat": 4,
 "nbformat_minor": 5
}
