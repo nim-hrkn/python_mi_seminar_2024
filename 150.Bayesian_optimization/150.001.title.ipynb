{
 "cells": [
  {
   "cell_type": "markdown",
   "id": "94eb32dc-c650-4beb-af39-68542ab37834",
   "metadata": {},
   "source": [
    "# 150.ベイズ最適化\n",
    "\n",
    "## 説明\n",
    "\n",
    "![](image_text/150_02.png)\n",
    "\n",
    "![](image_text/150_03.png)\n",
    "\n",
    "![](image_text/150_04.png)\n",
    "\n",
    "![](image_text/150_05.png)\n",
    "\n",
    "![](image_text/150_06.png)\n",
    "\n",
    "![](image_text/150_07.png)\n",
    "\n",
    "![](image_text/150_08.png)\n"
   ]
  },
  {
   "cell_type": "markdown",
   "id": "b1c9df4d-4445-44ac-918f-af50c42cbdff",
   "metadata": {},
   "source": [
    "## 150.050\n",
    "\n",
    "\n",
    "\n",
    "### ソース\n",
    "\n",
    "[150.050.text.explanation.ipynb](150.050.text.explanation.ipynb)\n",
    "\n",
    "# UCB \n",
    "\n",
    "![](image_text/150_10.png)\n",
    "\n",
    "\n",
    "### カーネル最適化\n",
    "\n",
    "![](image_text/150_17.png)\n",
    "\n",
    "\n",
    "## トンプソンサンプリング\n",
    "\n",
    "![](image_text/150_20.png)\n"
   ]
  },
  {
   "cell_type": "markdown",
   "id": "0681fbee-263b-4838-b93a-afec95dfcedd",
   "metadata": {},
   "source": [
    "## 150.120\n",
    "\n",
    "### ソース\n",
    "[150.120.answer.Bayesian_opt_materials.ipynb](150.120.answer.Bayesian_opt_materials.ipynb)\n"
   ]
  },
  {
   "cell_type": "markdown",
   "id": "1e00935e-70de-46ce-b612-edd142761f17",
   "metadata": {},
   "source": [
    "\n",
    "![](image_text/150_43.png)\n",
    "\n",
    "![](image_text/150_44.png)\n",
    "\n",
    "![](image_text/150_45.png)\n",
    "\n",
    "![](image_text/150_46.png)\n",
    "\n",
    "![](image_text/150_47.png)\n"
   ]
  },
  {
   "cell_type": "code",
   "execution_count": null,
   "id": "84ac6bce-d158-4f80-874c-536dcc25154f",
   "metadata": {},
   "outputs": [],
   "source": []
  }
 ],
 "metadata": {
  "kernelspec": {
   "display_name": "Python 3 (ipykernel)",
   "language": "python",
   "name": "python3"
  },
  "language_info": {
   "codemirror_mode": {
    "name": "ipython",
    "version": 3
   },
   "file_extension": ".py",
   "mimetype": "text/x-python",
   "name": "python",
   "nbconvert_exporter": "python",
   "pygments_lexer": "ipython3",
   "version": "3.9.15"
  }
 },
 "nbformat": 4,
 "nbformat_minor": 5
}
