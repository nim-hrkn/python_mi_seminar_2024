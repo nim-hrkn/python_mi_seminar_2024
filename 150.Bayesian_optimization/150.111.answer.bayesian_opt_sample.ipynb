{
 "cells": [
  {
   "cell_type": "code",
   "execution_count": null,
   "metadata": {},
   "outputs": [],
   "source": [
    "from sklearn.gaussian_process import GaussianProcessRegressor, kernels\n",
    "from sklearn.gaussian_process.kernels import RBF\n",
    "from sklearn.preprocessing import StandardScaler\n",
    "import random\n",
    "import numpy as np\n",
    "import pandas as pd\n",
    "import matplotlib.pyplot as plt\n"
   ]
  },
  {
   "cell_type": "code",
   "execution_count": null,
   "metadata": {},
   "outputs": [],
   "source": [
    "ROOT = \"..\"\n",
    "FILENAME = f\"{ROOT}/data_calculated/02x_m_sin5w.csv\"\n",
    "RANDOM_STATE_TRAINTEST = 3 # 初期観測データ選択\n",
    "RANDOM_STATE_TS = 2  # seed for TS\n",
    "V = 0.3"
   ]
  },
  {
   "cell_type": "code",
   "execution_count": null,
   "metadata": {},
   "outputs": [],
   "source": [
    "# データ取得\n",
    "g_df = pd.read_csv(FILENAME)\n",
    "DESCRIPTOR_NAMES = ['x1']\n",
    "#DESCRIPTOR_NAMES = ['x1', 'x2']\n",
    "#DESCRIPTOR_NAMES = ['x1','x2','x3' ]\n",
    "#DESCRIPTOR_NAMES = ['x1','x2','x3','x4']\n",
    "TARGET_NAME = \"y\""
   ]
  },
  {
   "cell_type": "code",
   "execution_count": null,
   "metadata": {},
   "outputs": [],
   "source": [
    "g_df.plot(x=\"x1\",y=\"y\")"
   ]
  },
  {
   "cell_type": "code",
   "execution_count": null,
   "metadata": {},
   "outputs": [],
   "source": [
    "g_Xraw = g_df[DESCRIPTOR_NAMES].values\n",
    "g_y = g_df[TARGET_NAME].values\n",
    "g_y = g_y - np.mean(g_y)\n",
    "# データ加工\n",
    "g_scaler = StandardScaler()\n",
    "g_X = g_scaler.fit_transform(g_Xraw)"
   ]
  },
  {
   "cell_type": "code",
   "execution_count": null,
   "metadata": {},
   "outputs": [],
   "source": [
    "from BO_misc import plot_GPR\n",
    "def search_candidate_UCB(it, train, X, y, reg, v, filename=None):\n",
    "    \"\"\"search next action in the UCB method\n",
    "\n",
    "    Args:\n",
    "        it (int): the number of iteration\n",
    "        train (np.array): the index of training data\n",
    "        X (np.array): descriptor\n",
    "        y (np.array): target values\n",
    "        reg (regressor): regressor\n",
    "        v (float): a factor of sqrt(v*it)*stddev\n",
    "        filename (str, optional): filename. Defaults to None.\n",
    "\n",
    "    Returns:\n",
    "        int: next action\n",
    "    \"\"\"\n",
    "    # GPR training data setの作成\n",
    "    Xtrain = X[train]\n",
    "    ytrain = y[train]\n",
    "    reg.fit(Xtrain, ytrain)\n",
    "    print(\"kernel=\", reg.kernel_)\n",
    "    yp_mean, yp_std = reg.predict(X, return_std=True)\n",
    "    acq = yp_mean + yp_std*np.sqrt(v*it)\n",
    "    ia = np.argmax(acq)\n",
    "    plot_GPR(X[:,0], y, Xtrain, ytrain, yp_mean, yp_std, acq, \n",
    "             it, ia=ia)\n",
    "    return ia"
   ]
  },
  {
   "cell_type": "code",
   "execution_count": null,
   "metadata": {},
   "outputs": [],
   "source": [
    "def make_model(optimize=False):\n",
    "    if optimize:\n",
    "        kernel = RBF(length_scale=1)\n",
    "        reg = GaussianProcessRegressor(kernel=kernel)\n",
    "    else:\n",
    "        kernel = RBF(length_scale=1)\n",
    "        reg = GaussianProcessRegressor(kernel=kernel, optimizer=None)\n",
    "    return reg"
   ]
  },
  {
   "cell_type": "code",
   "execution_count": null,
   "metadata": {},
   "outputs": [],
   "source": [
    "def get_train(nall, nchoice=2, seed_initial_selection=0):\n",
    "    # データ解析 (simulationを行う．)\n",
    "    random.seed(seed_initial_selection)\n",
    "    idx = range(nall)\n",
    "    train = random.sample(idx, nchoice)\n",
    "    return train\n",
    "\n",
    "\n",
    "g_reg = make_model()\n",
    "\n",
    "g_train = get_train(g_X.shape[0], 3, RANDOM_STATE_TRAINTEST)\n",
    "\n",
    "print(\"train\", g_train)\n",
    "for _it in range(8):\n",
    "    print(\"\\niteration=\", _it+1)\n",
    "\n",
    "    g_ia = search_candidate_UCB(\n",
    "        _it, g_train, g_X, g_y, g_reg, V)\n",
    "    print(\"next action=\", g_ia, \"x=\", g_X[g_ia, 0])\n",
    "    g_train = np.hstack([g_train, g_ia])\n",
    "    print(\"action=\", g_train)"
   ]
  },
  {
   "cell_type": "code",
   "execution_count": null,
   "metadata": {},
   "outputs": [],
   "source": [
    "g_train = get_train(g_X.shape[0], 3, RANDOM_STATE_TRAINTEST) #　訓練データを得る\n",
    "\n",
    "USE_SAMPLE_Y = True # ガウス過程.sample_y()を使うか、multivariate_normal.rvs()を使うか\n",
    "\n",
    "g_Xtrain = g_X[g_train] # 訓練データX\n",
    "g_ytrain = g_y[g_train] # 訓練データy\n",
    "g_reg.fit(g_Xtrain, g_ytrain) # 学習\n",
    "\n",
    "if USE_SAMPLE_Y:\n",
    "    g_yp_mean = g_reg.predict(g_X) # 平均値のみ\n",
    "else:\n",
    "    print(\"calculate covariance matrix\")\n",
    "    g_yp_mean, g_yp_covarencematrix = g_reg.predict(g_X, return_cov=True) # 平均値と共分散行列"
   ]
  },
  {
   "cell_type": "code",
   "execution_count": null,
   "metadata": {},
   "outputs": [],
   "source": [
    "from scipy.stats import multivariate_normal\n",
    "g_fig, g_ax = plt.subplots()\n",
    "# 50\\vec{Y}点選択\n",
    "for _i in range(50): \n",
    "    if USE_SAMPLE_Y:\n",
    "        # random_stateの変数を変えないと、全て同じg_acqが得られる。\n",
    "        g_acq = g_reg.sample_y(g_X, random_state=RANDOM_STATE_TS+_i)\n",
    "    else:\n",
    "        # 平均値と共分散行列を顕に用いる。\n",
    "        g_acq = multivariate_normal.rvs(g_yp_mean, g_yp_covarencematrix)\n",
    "    g_ax.plot(g_X[:, 0], g_acq, color=\"red\", alpha=0.1)\n",
    "g_ax.plot(g_X[:, 0], g_y, \"--\", color=\"blue\")  # ,label=\"expriment\")\n",
    "g_ax.plot(g_Xtrain[:, 0], g_ytrain, \"o\", color=\"blue\", label=\"expriment\")\n",
    "# 赤線が50 lines描かれる。"
   ]
  },
  {
   "cell_type": "code",
   "execution_count": null,
   "metadata": {},
   "outputs": [],
   "source": [
    "g_iopt = np.argmax(g_y) # 最適値のindex\n",
    "print(\"iopt\", g_iopt)"
   ]
  },
  {
   "cell_type": "code",
   "execution_count": null,
   "metadata": {},
   "outputs": [],
   "source": [
    "def search_candidate_TS(it, train, X, y, reg, random_state=0):\n",
    "    \"\"\"search next action in the TS method\n",
    "    \n",
    "    acq = reg.sample_y(X, random_state=it+random_state) is used.\n",
    "\n",
    "    Args:\n",
    "        it (int): the number of iteration. This is a dummy.\n",
    "        train (np.array): the index of training data\n",
    "        X (np.array): descriptor\n",
    "        y (np.array): target values\n",
    "        reg (GaussianProcessRegressor): regressor\n",
    "        random_state (int): random state for reg.sample_y(). Defaults to 0\n",
    "\n",
    "    Returns:\n",
    "        int: next action\n",
    "    \"\"\"\n",
    "    # GPR training data setの作成\n",
    "    Xtrain = X[train]\n",
    "    ytrain = y[train]\n",
    "    reg.fit(Xtrain, ytrain)\n",
    "    print(\"kernel=\", reg.kernel_)\n",
    "    yp_mean, yp_std = reg.predict(X, return_std=True)\n",
    "    acq = reg.sample_y(X, random_state=it+random_state)\n",
    "    ia = np.argmax(acq)\n",
    "    plot_GPR(X[:,0], y, Xtrain, ytrain, yp_mean, yp_std, acq, \n",
    "             it, ia=ia)\n",
    "    return ia"
   ]
  },
  {
   "cell_type": "code",
   "execution_count": null,
   "metadata": {},
   "outputs": [],
   "source": [
    "g_train = get_train(g_X.shape[0], 3, RANDOM_STATE_TRAINTEST)\n",
    "g_reg = GaussianProcessRegressor()\n",
    "for it in range(10):\n",
    "    print(\"iteration=\", it+1)\n",
    "    print(\"train=\", g_train)\n",
    "    g_ia = search_candidate_TS(it, g_train, g_X, g_y, g_reg, \n",
    "                             random_state=RANDOM_STATE_TS+it)\n",
    "    print(\"next action=\", g_ia, \"x=\", g_X[g_ia, 0])\n",
    "    g_train = np.hstack([g_train, g_ia])\n",
    "    if g_iopt == g_ia:\n",
    "        break"
   ]
  },
  {
   "cell_type": "code",
   "execution_count": null,
   "metadata": {},
   "outputs": [],
   "source": []
  }
 ],
 "metadata": {
  "kernelspec": {
   "display_name": "Python 3 (ipykernel)",
   "language": "python",
   "name": "python3"
  },
  "language_info": {
   "codemirror_mode": {
    "name": "ipython",
    "version": 3
   },
   "file_extension": ".py",
   "mimetype": "text/x-python",
   "name": "python",
   "nbconvert_exporter": "python",
   "pygments_lexer": "ipython3",
   "version": "3.9.15"
  }
 },
 "nbformat": 4,
 "nbformat_minor": 4
}
