{
 "cells": [
  {
   "cell_type": "code",
   "execution_count": null,
   "id": "7ca392d4",
   "metadata": {},
   "outputs": [],
   "source": [
    "import pandas as pd\n",
    "import numpy as np\n",
    "import json\n",
    "import matplotlib.pyplot as plt\n"
   ]
  },
  {
   "cell_type": "code",
   "execution_count": null,
   "id": "b7899948",
   "metadata": {},
   "outputs": [],
   "source": [
    "with open(\"data/atom_transaction.json\", \"r\") as f:\n",
    "    transaction = json.load(f)\n"
   ]
  },
  {
   "cell_type": "code",
   "execution_count": null,
   "id": "e992bd99",
   "metadata": {},
   "outputs": [],
   "source": [
    "from mlxtend.preprocessing import TransactionEncoder\n",
    "transaction_values = [v for v in transaction.values()]\n",
    "te = TransactionEncoder()\n",
    "# te.fit([v for v in transaction_values])\n",
    "te.fit(transaction_values)\n",
    "te_ary = te.transform(transaction_values)\n",
    "df_transaction = pd.DataFrame(te_ary, columns=te.columns_)\n"
   ]
  },
  {
   "cell_type": "code",
   "execution_count": null,
   "id": "4d10e4be",
   "metadata": {},
   "outputs": [],
   "source": [
    "from mlxtend.frequent_patterns import fpgrowth\n",
    "df_freq_items = fpgrowth(df_transaction, min_support=0.1,\n",
    "                         use_colnames=True)\n",
    "df_freq_items.head(10)\n"
   ]
  },
  {
   "cell_type": "code",
   "execution_count": null,
   "id": "7647eb5c",
   "metadata": {},
   "outputs": [],
   "source": [
    "from mlxtend.frequent_patterns import association_rules\n",
    "df_rules = association_rules(\n",
    "    df_freq_items, metric=\"confidence\", min_threshold=0.8)\n",
    "df_rules[\"antecedent_len\"] = df_rules[\"antecedents\"].apply(\n",
    "    lambda x: len(x))\n",
    "df = df_rules[df_rules[\"antecedent_len\"] == 1]\n",
    "# 多いruleに並び直す．\n",
    "df = df.sort_values(\n",
    "    by=\"support\", ascending=False).reset_index(drop=True)\n",
    "df[[\"antecedents\", \"consequents\", \"antecedent support\", \n",
    "    \"confidence\"]].head(10)\n"
   ]
  },
  {
   "cell_type": "code",
   "execution_count": null,
   "id": "87d01068",
   "metadata": {},
   "outputs": [],
   "source": [
    "# data 取得\n",
    "df_atom_prop = pd.read_csv(\"data/atomicprop.csv\", \n",
    "                           index_col=[0]).reset_index()\n",
    "xlabel = \"log10_electrical_resistivity\"\n",
    "ylabel = \"log10_thermal_conductivity\"\n",
    "df_atom_prop = df_atom_prop[[xlabel,ylabel,\"index\"]].dropna()\n",
    "df_atom_prop.reset_index(drop=True)\n",
    "# show elements under the condition.\n",
    "condition = \"log10_electrical_resistivity<-6.9\"\n",
    "df_select = df_atom_prop.query(condition)\n",
    "print(df_select[\"index\"].values)\n",
    "iselect = df_select.index.values\n",
    "# set x and y\n",
    "x = df_atom_prop[xlabel].values \n",
    "y = df_atom_prop[ylabel].values\n",
    "from itemsetmining_misc import plot_atomicprop\n",
    "plot_atomicprop(df_atom_prop, df_select, xlabel, ylabel)"
   ]
  }
 ],
 "metadata": {
  "kernelspec": {
   "display_name": "Python 3 (ipykernel)",
   "language": "python",
   "name": "python3"
  },
  "language_info": {
   "codemirror_mode": {
    "name": "ipython",
    "version": 3
   },
   "file_extension": ".py",
   "mimetype": "text/x-python",
   "name": "python",
   "nbconvert_exporter": "python",
   "pygments_lexer": "ipython3",
   "version": "3.9.15"
  }
 },
 "nbformat": 4,
 "nbformat_minor": 5
}
